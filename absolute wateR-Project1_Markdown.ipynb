{
 "cells": [
  {
   "cell_type": "markdown",
   "metadata": {
    "slideshow": {
     "slide_type": "notes"
    }
   },
   "source": [
    "![title](h20.png)"
   ]
  },
  {
   "cell_type": "markdown",
   "metadata": {},
   "source": [
    "  #        - by Team absolute wateR\n",
    "  ##             (Ketan, Maithili,Rohit)"
   ]
  },
  {
   "cell_type": "markdown",
   "metadata": {},
   "source": [
    "## The following program explores some of the basic utilities the h2o package and builds  advanced machine learning models available with this package"
   ]
  },
  {
   "cell_type": "code",
   "execution_count": null,
   "metadata": {
    "collapsed": false
   },
   "outputs": [],
   "source": [
    "#install.packages(\"h2o\", type=\"source\", repos=(c(\"http://h2o-release.s3.amazonaws.com/h2o/rel-shannon/26/R\")))"
   ]
  },
  {
   "cell_type": "markdown",
   "metadata": {},
   "source": [
    "### H2O can be initialized in many ways depending on the infrastructure\n",
    "### Single Machine\n",
    "### Multi Node(Distributed System like Spark or Hadoop )"
   ]
  },
  {
   "cell_type": "code",
   "execution_count": 12,
   "metadata": {
    "collapsed": false
   },
   "outputs": [
    {
     "name": "stdout",
     "output_type": "stream",
     "text": [
      "\n",
      "H2O is not running yet, starting it now...\n",
      "\n",
      "Note:  In case of errors look at the following log files:\n",
      "    C:\\Users\\rohit\\AppData\\Local\\Temp\\RtmpGGKcC9/h2o_rohit_started_from_r.out\n",
      "    C:\\Users\\rohit\\AppData\\Local\\Temp\\RtmpGGKcC9/h2o_rohit_started_from_r.err\n",
      "\n",
      "\n",
      "Starting H2O JVM and connecting: . Connection successful!\n",
      "\n",
      "R is connected to the H2O cluster: \n",
      "    H2O cluster uptime:         3 seconds 636 milliseconds \n",
      "    H2O cluster version:        3.10.0.8 \n",
      "    H2O cluster version age:    2 days  \n",
      "    H2O cluster name:           H2O_started_from_R_rohit_aok445 \n",
      "    H2O cluster total nodes:    1 \n",
      "    H2O cluster total memory:   1.78 GB \n",
      "    H2O cluster total cores:    4 \n",
      "    H2O cluster allowed cores:  2 \n",
      "    H2O cluster healthy:        TRUE \n",
      "    H2O Connection ip:          localhost \n",
      "    H2O Connection port:        54321 \n",
      "    H2O Connection proxy:       NA \n",
      "    R Version:                  R version 3.1.3 (2015-03-09) \n",
      "\n",
      "Note:  As started, H2O is limited to the CRAN default of 2 CPUs.\n",
      "       Shut down and restart H2O as shown below to use all your CPUs.\n",
      "           > h2o.shutdown()\n",
      "           > h2o.init(nthreads = -1)\n",
      "\n"
     ]
    }
   ],
   "source": [
    "h2o.init(ip = 'localhost', port = 54321, max_mem_size = '2g')"
   ]
  },
  {
   "cell_type": "markdown",
   "metadata": {},
   "source": [
    "## Load the data set into a variable, here a key/value pair is being created for the dataset which is stored in H2O. We will be using R as an interface to perform operations on it"
   ]
  },
  {
   "cell_type": "code",
   "execution_count": 13,
   "metadata": {
    "collapsed": false
   },
   "outputs": [
    {
     "name": "stdout",
     "output_type": "stream",
     "text": [
      "\r",
      "  |                                                                            \r",
      "  |                                                                      |   0%\r",
      "  |                                                                            \r",
      "  |=                                                                     |   1%\r",
      "  |                                                                            \r",
      "  |=====                                                                 |   8%\r",
      "  |                                                                            \r",
      "  |==========                                                            |  14%\r",
      "  |                                                                            \r",
      "  |==================                                                    |  26%\r",
      "  |                                                                            \r",
      "  |===========================                                           |  39%\r",
      "  |                                                                            \r",
      "  |====================================                                  |  51%\r",
      "  |                                                                            \r",
      "  |=============================================                         |  64%\r",
      "  |                                                                            \r",
      "  |=========================================================             |  81%\r",
      "  |                                                                            \r",
      "  |======================================================================| 100%\n"
     ]
    }
   ],
   "source": [
    "loanpath = \"C:/Users/rohit/Documents/RClassWork/Project1\"\n",
    "loan.hex = h2o.importFile(path = loanpath,destination_frame = \"loan.hex\")"
   ]
  },
  {
   "cell_type": "markdown",
   "metadata": {
    "collapsed": true
   },
   "source": [
    "## Data exploration"
   ]
  },
  {
   "cell_type": "markdown",
   "metadata": {},
   "source": [
    "### To view top 5 rows in our data frame"
   ]
  },
  {
   "cell_type": "code",
   "execution_count": 17,
   "metadata": {
    "collapsed": false
   },
   "outputs": [
    {
     "data": {
      "text/html": [
       "<table>\n",
       "<thead><tr><th></th><th scope=col>id</th><th scope=col>member_id</th><th scope=col>loan_amnt</th><th scope=col>funded_amnt</th><th scope=col>funded_amnt_inv</th><th scope=col>term</th><th scope=col>int_rate</th><th scope=col>installment</th><th scope=col>grade</th><th scope=col>sub_grade</th><th scope=col>emp_title</th><th scope=col>emp_length</th><th scope=col>home_ownership</th><th scope=col>annual_inc</th><th scope=col>verification_status</th><th scope=col>issue_d</th><th scope=col>loan_status</th><th scope=col>pymnt_plan</th><th scope=col>url</th><th scope=col>desc</th><th scope=col>purpose</th><th scope=col>title</th><th scope=col>zip_code</th><th scope=col>addr_state</th><th scope=col>dti</th><th scope=col>delinq_2yrs</th><th scope=col>earliest_cr_line</th><th scope=col>inq_last_6mths</th><th scope=col>mths_since_last_delinq</th><th scope=col>mths_since_last_record</th><th scope=col>open_acc</th><th scope=col>pub_rec</th><th scope=col>revol_bal</th><th scope=col>revol_util</th><th scope=col>total_acc</th><th scope=col>initial_list_status</th><th scope=col>out_prncp</th><th scope=col>out_prncp_inv</th><th scope=col>total_pymnt</th><th scope=col>total_pymnt_inv</th><th scope=col>total_rec_prncp</th><th scope=col>total_rec_int</th><th scope=col>total_rec_late_fee</th><th scope=col>recoveries</th><th scope=col>collection_recovery_fee</th><th scope=col>last_pymnt_d</th><th scope=col>last_pymnt_amnt</th><th scope=col>next_pymnt_d</th><th scope=col>last_credit_pull_d</th><th scope=col>collections_12_mths_ex_med</th><th scope=col>mths_since_last_major_derog</th><th scope=col>policy_code</th><th scope=col>application_type</th><th scope=col>annual_inc_joint</th><th scope=col>dti_joint</th><th scope=col>verification_status_joint</th><th scope=col>acc_now_delinq</th><th scope=col>tot_coll_amt</th><th scope=col>tot_cur_bal</th><th scope=col>open_acc_6m</th><th scope=col>open_il_6m</th><th scope=col>open_il_12m</th><th scope=col>open_il_24m</th><th scope=col>mths_since_rcnt_il</th><th scope=col>total_bal_il</th><th scope=col>il_util</th><th scope=col>open_rv_12m</th><th scope=col>open_rv_24m</th><th scope=col>max_bal_bc</th><th scope=col>all_util</th><th scope=col>total_rev_hi_lim</th><th scope=col>inq_fi</th><th scope=col>total_cu_tl</th><th scope=col>inq_last_12m</th><th scope=col>acc_open_past_24mths</th><th scope=col>avg_cur_bal</th><th scope=col>bc_open_to_buy</th><th scope=col>bc_util</th><th scope=col>chargeoff_within_12_mths</th><th scope=col>delinq_amnt</th><th scope=col>mo_sin_old_il_acct</th><th scope=col>mo_sin_old_rev_tl_op</th><th scope=col>mo_sin_rcnt_rev_tl_op</th><th scope=col>mo_sin_rcnt_tl</th><th scope=col>mort_acc</th><th scope=col>mths_since_recent_bc</th><th scope=col>mths_since_recent_bc_dlq</th><th scope=col>mths_since_recent_inq</th><th scope=col>mths_since_recent_revol_delinq</th><th scope=col>num_accts_ever_120_pd</th><th scope=col>num_actv_bc_tl</th><th scope=col>num_actv_rev_tl</th><th scope=col>num_bc_sats</th><th scope=col>num_bc_tl</th><th scope=col>num_il_tl</th><th scope=col>num_op_rev_tl</th><th scope=col>num_rev_accts</th><th scope=col>num_rev_tl_bal_gt_0</th><th scope=col>num_sats</th><th scope=col>num_tl_120dpd_2m</th><th scope=col>num_tl_30dpd</th><th scope=col>num_tl_90g_dpd_24m</th><th scope=col>num_tl_op_past_12m</th><th scope=col>pct_tl_nvr_dlq</th><th scope=col>percent_bc_gt_75</th><th scope=col>pub_rec_bankruptcies</th><th scope=col>tax_liens</th><th scope=col>tot_hi_cred_lim</th><th scope=col>total_bal_ex_mort</th><th scope=col>total_bc_limit</th><th scope=col>total_il_high_credit_limit</th></tr></thead>\n",
       "<tbody>\n",
       "\t<tr><th scope=row>1</th><td>38098114</td><td>40860827</td><td>15000</td><td>15000</td><td>15000</td><td>60 months</td><td>0.1239</td><td>336.64</td><td>C</td><td>C1</td><td>MANAGEMENT</td><td>10+ years</td><td>RENT</td><td>78000</td><td>Source Verified</td><td>1.41741e+12</td><td>Fully Paid</td><td>n</td><td>https://lendingclub.com/browse/loanDetail.action?loan_id=38098114</td><td>NA</td><td>debt_consolidation</td><td>Debt consolidation</td><td>235xx</td><td>VA</td><td>12.03</td><td>0</td><td>775713600000</td><td>0</td><td>NaN</td><td>NaN</td><td>6</td><td>0</td><td>138008</td><td>0.29</td><td>17</td><td>w</td><td>0</td><td>0</td><td>17392.37</td><td>17392.37</td><td>15000</td><td>2392.37</td><td>0</td><td>0</td><td>0</td><td>1.464754e+12</td><td>12017.81</td><td>NaN</td><td>1.470024e+12</td><td>0</td><td>NaN</td><td>1</td><td>INDIVIDUAL</td><td>NaN</td><td>NaN</td><td>NA</td><td>0</td><td>0</td><td>149140</td><td>NaN</td><td>NaN</td><td>NaN</td><td>NaN</td><td>NaN</td><td>NaN</td><td>NaN</td><td>NaN</td><td>NaN</td><td>NaN</td><td>NaN</td><td>184500</td><td>NaN</td><td>NaN</td><td>NaN</td><td>5</td><td>29828</td><td>9525</td><td>4.7</td><td>0</td><td>0</td><td>103</td><td>244</td><td>1</td><td>1</td><td>0</td><td>47</td><td>NaN</td><td>NaN</td><td>NaN</td><td>0</td><td>1</td><td>4</td><td>1</td><td>2</td><td>8</td><td>5</td><td>9</td><td>4</td><td>6</td><td>0</td><td>0</td><td>0</td><td>4</td><td>100</td><td>0</td><td>0</td><td>0</td><td>196500</td><td>149140</td><td>10000</td><td>12000</td></tr>\n",
       "\t<tr><th scope=row>2</th><td>36805548</td><td>39558264</td><td>10400</td><td>10400</td><td>10400</td><td>36 months</td><td>0.0699</td><td>321.08</td><td>A</td><td>A3</td><td>Truck Driver Delivery Personel</td><td>8 years</td><td>MORTGAGE</td><td>58000</td><td>Not Verified</td><td>1.41741e+12</td><td>Late (31-120 days)</td><td>n</td><td>https://lendingclub.com/browse/loanDetail.action?loan_id=36805548</td><td>NA</td><td>credit_card</td><td>Credit card refinancing</td><td>937xx</td><td>CA</td><td>14.92</td><td>0</td><td>620625600000</td><td>2</td><td>42</td><td>NaN</td><td>17</td><td>0</td><td>6133</td><td>0.316</td><td>36</td><td>w</td><td>5182.25</td><td>5182.25</td><td>6090.42</td><td>6090.42</td><td>5217.75</td><td>872.67</td><td>0</td><td>0</td><td>0</td><td>1.470024e+12</td><td>321.08</td><td>1.475294e+12</td><td>1.472702e+12</td><td>0</td><td>59</td><td>1</td><td>INDIVIDUAL</td><td>NaN</td><td>NaN</td><td>NA</td><td>0</td><td>0</td><td>162110</td><td>NaN</td><td>NaN</td><td>NaN</td><td>NaN</td><td>NaN</td><td>NaN</td><td>NaN</td><td>NaN</td><td>NaN</td><td>NaN</td><td>NaN</td><td>19400</td><td>NaN</td><td>NaN</td><td>NaN</td><td>7</td><td>9536</td><td>7599</td><td>41.5</td><td>0</td><td>0</td><td>76</td><td>290</td><td>1</td><td>1</td><td>1</td><td>5</td><td>42</td><td>1</td><td>42</td><td>4</td><td>6</td><td>9</td><td>7</td><td>18</td><td>2</td><td>14</td><td>32</td><td>9</td><td>17</td><td>0</td><td>0</td><td>0</td><td>4</td><td>83.3</td><td>14.3</td><td>0</td><td>0</td><td>179407</td><td>15030</td><td>13000</td><td>11325</td></tr>\n",
       "\t<tr><th scope=row>3</th><td>37822187</td><td>40585251</td><td>9600</td><td>9600</td><td>9600</td><td>36 months</td><td>0.1366</td><td>326.53</td><td>C</td><td>C3</td><td>Admin Specialist</td><td>10+ years</td><td>RENT</td><td>69000</td><td>Source Verified</td><td>1.41741e+12</td><td>Fully Paid</td><td>n</td><td>https://lendingclub.com/browse/loanDetail.action?loan_id=37822187</td><td>NA</td><td>debt_consolidation</td><td>Debt consolidation</td><td>077xx</td><td>NJ</td><td>25.81</td><td>0</td><td>7.20594e+11</td><td>0</td><td>NaN</td><td>NaN</td><td>12</td><td>0</td><td>16388</td><td>0.594</td><td>44</td><td>f</td><td>0</td><td>0</td><td>9973.43</td><td>9973.43</td><td>9600</td><td>373.43</td><td>0</td><td>0</td><td>0</td><td>1.427861e+12</td><td>9338.58</td><td>NaN</td><td>1.472702e+12</td><td>0</td><td>NaN</td><td>1</td><td>INDIVIDUAL</td><td>NaN</td><td>NaN</td><td>NA</td><td>0</td><td>0</td><td>38566</td><td>NaN</td><td>NaN</td><td>NaN</td><td>NaN</td><td>NaN</td><td>NaN</td><td>NaN</td><td>NaN</td><td>NaN</td><td>NaN</td><td>NaN</td><td>27600</td><td>NaN</td><td>NaN</td><td>NaN</td><td>8</td><td>3214</td><td>6494</td><td>69.2</td><td>0</td><td>0</td><td>183</td><td>265</td><td>23</td><td>3</td><td>0</td><td>24</td><td>NaN</td><td>17</td><td>NaN</td><td>0</td><td>4</td><td>7</td><td>5</td><td>16</td><td>17</td><td>8</td><td>26</td><td>7</td><td>12</td><td>0</td><td>0</td><td>0</td><td>3</td><td>100</td><td>60</td><td>0</td><td>0</td><td>52490</td><td>38566</td><td>21100</td><td>24890</td></tr>\n",
       "\t<tr><th scope=row>4</th><td>37612354</td><td>40375473</td><td>12800</td><td>12800</td><td>12800</td><td>60 months</td><td>0.1714</td><td>319.08</td><td>D</td><td>D4</td><td>Senior Sales Professional</td><td>10+ years</td><td>MORTGAGE</td><td>125000</td><td>Verified</td><td>1.41741e+12</td><td>Current</td><td>n</td><td>https://lendingclub.com/browse/loanDetail.action?loan_id=37612354</td><td>NA</td><td>car</td><td>Car financing</td><td>953xx</td><td>CA</td><td>8.31</td><td>1</td><td>970372800000</td><td>0</td><td>17</td><td>NaN</td><td>8</td><td>0</td><td>5753</td><td>1.009</td><td>13</td><td>w</td><td>9671.46</td><td>9671.46</td><td>6421.47</td><td>6421.47</td><td>3128.54</td><td>3292.93</td><td>0</td><td>0</td><td>0</td><td>1.472702e+12</td><td>389.42</td><td>1.475294e+12</td><td>1.472702e+12</td><td>0</td><td>36</td><td>1</td><td>INDIVIDUAL</td><td>NaN</td><td>NaN</td><td>NA</td><td>0</td><td>0</td><td>261815</td><td>NaN</td><td>NaN</td><td>NaN</td><td>NaN</td><td>NaN</td><td>NaN</td><td>NaN</td><td>NaN</td><td>NaN</td><td>NaN</td><td>NaN</td><td>5700</td><td>NaN</td><td>NaN</td><td>NaN</td><td>2</td><td>32727</td><td>0</td><td>103.2</td><td>0</td><td>0</td><td>16</td><td>170</td><td>21</td><td>16</td><td>5</td><td>21</td><td>17</td><td>1</td><td>17</td><td>1</td><td>3</td><td>5</td><td>3</td><td>5</td><td>1</td><td>5</td><td>7</td><td>5</td><td>8</td><td>0</td><td>0</td><td>0</td><td>0</td><td>76.9</td><td>100</td><td>0</td><td>0</td><td>368700</td><td>18007</td><td>4400</td><td>18000</td></tr>\n",
       "\t<tr><th scope=row>5</th><td>37662224</td><td>40425321</td><td>7650</td><td>7650</td><td>7650</td><td>36 months</td><td>0.1366</td><td>260.2</td><td>C</td><td>C3</td><td>Technical Specialist</td><td>< 1 year</td><td>RENT</td><td>50000</td><td>Source Verified</td><td>1.41741e+12</td><td>Charged Off</td><td>n</td><td>https://lendingclub.com/browse/loanDetail.action?loan_id=37662224</td><td>NA</td><td>debt_consolidation</td><td>Debt consolidation</td><td>850xx</td><td>AZ</td><td>34.81</td><td>0</td><td>1.028174e+12</td><td>1</td><td>NaN</td><td>NaN</td><td>11</td><td>0</td><td>16822</td><td>0.919</td><td>20</td><td>f</td><td>0</td><td>0</td><td>2281.98</td><td>2281.98</td><td>704.38</td><td>339.61</td><td>0</td><td>1237.99</td><td>222.8382</td><td>1.438402e+12</td><td>17.7</td><td>NaN</td><td>1.472702e+12</td><td>0</td><td>NaN</td><td>1</td><td>INDIVIDUAL</td><td>NaN</td><td>NaN</td><td>NA</td><td>0</td><td>0</td><td>64426</td><td>NaN</td><td>NaN</td><td>NaN</td><td>NaN</td><td>NaN</td><td>NaN</td><td>NaN</td><td>NaN</td><td>NaN</td><td>NaN</td><td>NaN</td><td>18300</td><td>NaN</td><td>NaN</td><td>NaN</td><td>6</td><td>5857</td><td>332</td><td>93.2</td><td>0</td><td>0</td><td>137</td><td>148</td><td>8</td><td>8</td><td>0</td><td>17</td><td>NaN</td><td>3</td><td>NaN</td><td>0</td><td>1</td><td>4</td><td>1</td><td>4</td><td>12</td><td>4</td><td>8</td><td>4</td><td>11</td><td>0</td><td>0</td><td>0</td><td>2</td><td>100</td><td>100</td><td>0</td><td>0</td><td>82331</td><td>64426</td><td>4900</td><td>64031</td></tr>\n",
       "</tbody>\n",
       "</table>\n"
      ],
      "text/latex": [
       "\\begin{tabular}{r|lllllllllllllllllllllllllllllllllllllllllllllllllllllllllllllllllllllllllllllllllllllllllllllllllllllllllllllll}\n",
       "  & id & member_id & loan_amnt & funded_amnt & funded_amnt_inv & term & int_rate & installment & grade & sub_grade & emp_title & emp_length & home_ownership & annual_inc & verification_status & issue_d & loan_status & pymnt_plan & url & desc & purpose & title & zip_code & addr_state & dti & delinq_2yrs & earliest_cr_line & inq_last_6mths & mths_since_last_delinq & mths_since_last_record & open_acc & pub_rec & revol_bal & revol_util & total_acc & initial_list_status & out_prncp & out_prncp_inv & total_pymnt & total_pymnt_inv & total_rec_prncp & total_rec_int & total_rec_late_fee & recoveries & collection_recovery_fee & last_pymnt_d & last_pymnt_amnt & next_pymnt_d & last_credit_pull_d & collections_12_mths_ex_med & mths_since_last_major_derog & policy_code & application_type & annual_inc_joint & dti_joint & verification_status_joint & acc_now_delinq & tot_coll_amt & tot_cur_bal & open_acc_6m & open_il_6m & open_il_12m & open_il_24m & mths_since_rcnt_il & total_bal_il & il_util & open_rv_12m & open_rv_24m & max_bal_bc & all_util & total_rev_hi_lim & inq_fi & total_cu_tl & inq_last_12m & acc_open_past_24mths & avg_cur_bal & bc_open_to_buy & bc_util & chargeoff_within_12_mths & delinq_amnt & mo_sin_old_il_acct & mo_sin_old_rev_tl_op & mo_sin_rcnt_rev_tl_op & mo_sin_rcnt_tl & mort_acc & mths_since_recent_bc & mths_since_recent_bc_dlq & mths_since_recent_inq & mths_since_recent_revol_delinq & num_accts_ever_120_pd & num_actv_bc_tl & num_actv_rev_tl & num_bc_sats & num_bc_tl & num_il_tl & num_op_rev_tl & num_rev_accts & num_rev_tl_bal_gt_0 & num_sats & num_tl_120dpd_2m & num_tl_30dpd & num_tl_90g_dpd_24m & num_tl_op_past_12m & pct_tl_nvr_dlq & percent_bc_gt_75 & pub_rec_bankruptcies & tax_liens & tot_hi_cred_lim & total_bal_ex_mort & total_bc_limit & total_il_high_credit_limit\\\\\n",
       "\\hline\n",
       "\t1 & 38098114 & 40860827 & 15000 & 15000 & 15000 & 60 months & 0.1239 & 336.64 & C & C1 & MANAGEMENT & 10+ years & RENT & 78000 & Source Verified & 1.41741e+12 & Fully Paid & n & https://lendingclub.com/browse/loanDetail.action?loan_id=38098114 & NA & debt_consolidation & Debt consolidation & 235xx & VA & 12.03 & 0 & 775713600000 & 0 & NaN & NaN & 6 & 0 & 138008 & 0.29 & 17 & w & 0 & 0 & 17392.37 & 17392.37 & 15000 & 2392.37 & 0 & 0 & 0 & 1.464754e+12 & 12017.81 & NaN & 1.470024e+12 & 0 & NaN & 1 & INDIVIDUAL & NaN & NaN & NA & 0 & 0 & 149140 & NaN & NaN & NaN & NaN & NaN & NaN & NaN & NaN & NaN & NaN & NaN & 184500 & NaN & NaN & NaN & 5 & 29828 & 9525 & 4.7 & 0 & 0 & 103 & 244 & 1 & 1 & 0 & 47 & NaN & NaN & NaN & 0 & 1 & 4 & 1 & 2 & 8 & 5 & 9 & 4 & 6 & 0 & 0 & 0 & 4 & 100 & 0 & 0 & 0 & 196500 & 149140 & 10000 & 12000\\\\\n",
       "\t2 & 36805548 & 39558264 & 10400 & 10400 & 10400 & 36 months & 0.0699 & 321.08 & A & A3 & Truck Driver Delivery Personel & 8 years & MORTGAGE & 58000 & Not Verified & 1.41741e+12 & Late (31-120 days) & n & https://lendingclub.com/browse/loanDetail.action?loan_id=36805548 & NA & credit_card & Credit card refinancing & 937xx & CA & 14.92 & 0 & 620625600000 & 2 & 42 & NaN & 17 & 0 & 6133 & 0.316 & 36 & w & 5182.25 & 5182.25 & 6090.42 & 6090.42 & 5217.75 & 872.67 & 0 & 0 & 0 & 1.470024e+12 & 321.08 & 1.475294e+12 & 1.472702e+12 & 0 & 59 & 1 & INDIVIDUAL & NaN & NaN & NA & 0 & 0 & 162110 & NaN & NaN & NaN & NaN & NaN & NaN & NaN & NaN & NaN & NaN & NaN & 19400 & NaN & NaN & NaN & 7 & 9536 & 7599 & 41.5 & 0 & 0 & 76 & 290 & 1 & 1 & 1 & 5 & 42 & 1 & 42 & 4 & 6 & 9 & 7 & 18 & 2 & 14 & 32 & 9 & 17 & 0 & 0 & 0 & 4 & 83.3 & 14.3 & 0 & 0 & 179407 & 15030 & 13000 & 11325\\\\\n",
       "\t3 & 37822187 & 40585251 & 9600 & 9600 & 9600 & 36 months & 0.1366 & 326.53 & C & C3 & Admin Specialist & 10+ years & RENT & 69000 & Source Verified & 1.41741e+12 & Fully Paid & n & https://lendingclub.com/browse/loanDetail.action?loan_id=37822187 & NA & debt_consolidation & Debt consolidation & 077xx & NJ & 25.81 & 0 & 7.20594e+11 & 0 & NaN & NaN & 12 & 0 & 16388 & 0.594 & 44 & f & 0 & 0 & 9973.43 & 9973.43 & 9600 & 373.43 & 0 & 0 & 0 & 1.427861e+12 & 9338.58 & NaN & 1.472702e+12 & 0 & NaN & 1 & INDIVIDUAL & NaN & NaN & NA & 0 & 0 & 38566 & NaN & NaN & NaN & NaN & NaN & NaN & NaN & NaN & NaN & NaN & NaN & 27600 & NaN & NaN & NaN & 8 & 3214 & 6494 & 69.2 & 0 & 0 & 183 & 265 & 23 & 3 & 0 & 24 & NaN & 17 & NaN & 0 & 4 & 7 & 5 & 16 & 17 & 8 & 26 & 7 & 12 & 0 & 0 & 0 & 3 & 100 & 60 & 0 & 0 & 52490 & 38566 & 21100 & 24890\\\\\n",
       "\t4 & 37612354 & 40375473 & 12800 & 12800 & 12800 & 60 months & 0.1714 & 319.08 & D & D4 & Senior Sales Professional & 10+ years & MORTGAGE & 125000 & Verified & 1.41741e+12 & Current & n & https://lendingclub.com/browse/loanDetail.action?loan_id=37612354 & NA & car & Car financing & 953xx & CA & 8.31 & 1 & 970372800000 & 0 & 17 & NaN & 8 & 0 & 5753 & 1.009 & 13 & w & 9671.46 & 9671.46 & 6421.47 & 6421.47 & 3128.54 & 3292.93 & 0 & 0 & 0 & 1.472702e+12 & 389.42 & 1.475294e+12 & 1.472702e+12 & 0 & 36 & 1 & INDIVIDUAL & NaN & NaN & NA & 0 & 0 & 261815 & NaN & NaN & NaN & NaN & NaN & NaN & NaN & NaN & NaN & NaN & NaN & 5700 & NaN & NaN & NaN & 2 & 32727 & 0 & 103.2 & 0 & 0 & 16 & 170 & 21 & 16 & 5 & 21 & 17 & 1 & 17 & 1 & 3 & 5 & 3 & 5 & 1 & 5 & 7 & 5 & 8 & 0 & 0 & 0 & 0 & 76.9 & 100 & 0 & 0 & 368700 & 18007 & 4400 & 18000\\\\\n",
       "\t5 & 37662224 & 40425321 & 7650 & 7650 & 7650 & 36 months & 0.1366 & 260.2 & C & C3 & Technical Specialist & < 1 year & RENT & 50000 & Source Verified & 1.41741e+12 & Charged Off & n & https://lendingclub.com/browse/loanDetail.action?loan_id=37662224 & NA & debt_consolidation & Debt consolidation & 850xx & AZ & 34.81 & 0 & 1.028174e+12 & 1 & NaN & NaN & 11 & 0 & 16822 & 0.919 & 20 & f & 0 & 0 & 2281.98 & 2281.98 & 704.38 & 339.61 & 0 & 1237.99 & 222.8382 & 1.438402e+12 & 17.7 & NaN & 1.472702e+12 & 0 & NaN & 1 & INDIVIDUAL & NaN & NaN & NA & 0 & 0 & 64426 & NaN & NaN & NaN & NaN & NaN & NaN & NaN & NaN & NaN & NaN & NaN & 18300 & NaN & NaN & NaN & 6 & 5857 & 332 & 93.2 & 0 & 0 & 137 & 148 & 8 & 8 & 0 & 17 & NaN & 3 & NaN & 0 & 1 & 4 & 1 & 4 & 12 & 4 & 8 & 4 & 11 & 0 & 0 & 0 & 2 & 100 & 100 & 0 & 0 & 82331 & 64426 & 4900 & 64031\\\\\n",
       "\\end{tabular}\n"
      ],
      "text/plain": [
       "        id member_id loan_amnt funded_amnt funded_amnt_inv      term int_rate\n",
       "1 38098114  40860827     15000       15000           15000 60 months   0.1239\n",
       "2 36805548  39558264     10400       10400           10400 36 months   0.0699\n",
       "3 37822187  40585251      9600        9600            9600 36 months   0.1366\n",
       "4 37612354  40375473     12800       12800           12800 60 months   0.1714\n",
       "5 37662224  40425321      7650        7650            7650 36 months   0.1366\n",
       "  installment grade sub_grade                      emp_title emp_length\n",
       "1      336.64     C        C1                     MANAGEMENT  10+ years\n",
       "2      321.08     A        A3 Truck Driver Delivery Personel    8 years\n",
       "3      326.53     C        C3               Admin Specialist  10+ years\n",
       "4      319.08     D        D4      Senior Sales Professional  10+ years\n",
       "5      260.20     C        C3           Technical Specialist   < 1 year\n",
       "  home_ownership annual_inc verification_status     issue_d        loan_status\n",
       "1           RENT      78000     Source Verified 1.41741e+12         Fully Paid\n",
       "2       MORTGAGE      58000        Not Verified 1.41741e+12 Late (31-120 days)\n",
       "3           RENT      69000     Source Verified 1.41741e+12         Fully Paid\n",
       "4       MORTGAGE     125000            Verified 1.41741e+12            Current\n",
       "5           RENT      50000     Source Verified 1.41741e+12        Charged Off\n",
       "  pymnt_plan                                                               url\n",
       "1          n https://lendingclub.com/browse/loanDetail.action?loan_id=38098114\n",
       "2          n https://lendingclub.com/browse/loanDetail.action?loan_id=36805548\n",
       "3          n https://lendingclub.com/browse/loanDetail.action?loan_id=37822187\n",
       "4          n https://lendingclub.com/browse/loanDetail.action?loan_id=37612354\n",
       "5          n https://lendingclub.com/browse/loanDetail.action?loan_id=37662224\n",
       "  desc            purpose                   title zip_code addr_state   dti\n",
       "1 <NA> debt_consolidation      Debt consolidation    235xx         VA 12.03\n",
       "2 <NA>        credit_card Credit card refinancing    937xx         CA 14.92\n",
       "3 <NA> debt_consolidation      Debt consolidation    077xx         NJ 25.81\n",
       "4 <NA>                car           Car financing    953xx         CA  8.31\n",
       "5 <NA> debt_consolidation      Debt consolidation    850xx         AZ 34.81\n",
       "  delinq_2yrs earliest_cr_line inq_last_6mths mths_since_last_delinq\n",
       "1           0     7.757136e+11              0                    NaN\n",
       "2           0     6.206256e+11              2                     42\n",
       "3           0     7.205940e+11              0                    NaN\n",
       "4           1     9.703728e+11              0                     17\n",
       "5           0     1.028174e+12              1                    NaN\n",
       "  mths_since_last_record open_acc pub_rec revol_bal revol_util total_acc\n",
       "1                    NaN        6       0    138008      0.290        17\n",
       "2                    NaN       17       0      6133      0.316        36\n",
       "3                    NaN       12       0     16388      0.594        44\n",
       "4                    NaN        8       0      5753      1.009        13\n",
       "5                    NaN       11       0     16822      0.919        20\n",
       "  initial_list_status out_prncp out_prncp_inv total_pymnt total_pymnt_inv\n",
       "1                   w      0.00          0.00    17392.37        17392.37\n",
       "2                   w   5182.25       5182.25     6090.42         6090.42\n",
       "3                   f      0.00          0.00     9973.43         9973.43\n",
       "4                   w   9671.46       9671.46     6421.47         6421.47\n",
       "5                   f      0.00          0.00     2281.98         2281.98\n",
       "  total_rec_prncp total_rec_int total_rec_late_fee recoveries\n",
       "1        15000.00       2392.37                  0       0.00\n",
       "2         5217.75        872.67                  0       0.00\n",
       "3         9600.00        373.43                  0       0.00\n",
       "4         3128.54       3292.93                  0       0.00\n",
       "5          704.38        339.61                  0    1237.99\n",
       "  collection_recovery_fee last_pymnt_d last_pymnt_amnt next_pymnt_d\n",
       "1                  0.0000 1.464754e+12        12017.81          NaN\n",
       "2                  0.0000 1.470024e+12          321.08 1.475294e+12\n",
       "3                  0.0000 1.427861e+12         9338.58          NaN\n",
       "4                  0.0000 1.472702e+12          389.42 1.475294e+12\n",
       "5                222.8382 1.438402e+12           17.70          NaN\n",
       "  last_credit_pull_d collections_12_mths_ex_med mths_since_last_major_derog\n",
       "1       1.470024e+12                          0                         NaN\n",
       "2       1.472702e+12                          0                          59\n",
       "3       1.472702e+12                          0                         NaN\n",
       "4       1.472702e+12                          0                          36\n",
       "5       1.472702e+12                          0                         NaN\n",
       "  policy_code application_type annual_inc_joint dti_joint\n",
       "1           1       INDIVIDUAL              NaN       NaN\n",
       "2           1       INDIVIDUAL              NaN       NaN\n",
       "3           1       INDIVIDUAL              NaN       NaN\n",
       "4           1       INDIVIDUAL              NaN       NaN\n",
       "5           1       INDIVIDUAL              NaN       NaN\n",
       "  verification_status_joint acc_now_delinq tot_coll_amt tot_cur_bal open_acc_6m\n",
       "1                      <NA>              0            0      149140         NaN\n",
       "2                      <NA>              0            0      162110         NaN\n",
       "3                      <NA>              0            0       38566         NaN\n",
       "4                      <NA>              0            0      261815         NaN\n",
       "5                      <NA>              0            0       64426         NaN\n",
       "  open_il_6m open_il_12m open_il_24m mths_since_rcnt_il total_bal_il il_util\n",
       "1        NaN         NaN         NaN                NaN          NaN     NaN\n",
       "2        NaN         NaN         NaN                NaN          NaN     NaN\n",
       "3        NaN         NaN         NaN                NaN          NaN     NaN\n",
       "4        NaN         NaN         NaN                NaN          NaN     NaN\n",
       "5        NaN         NaN         NaN                NaN          NaN     NaN\n",
       "  open_rv_12m open_rv_24m max_bal_bc all_util total_rev_hi_lim inq_fi\n",
       "1         NaN         NaN        NaN      NaN           184500    NaN\n",
       "2         NaN         NaN        NaN      NaN            19400    NaN\n",
       "3         NaN         NaN        NaN      NaN            27600    NaN\n",
       "4         NaN         NaN        NaN      NaN             5700    NaN\n",
       "5         NaN         NaN        NaN      NaN            18300    NaN\n",
       "  total_cu_tl inq_last_12m acc_open_past_24mths avg_cur_bal bc_open_to_buy\n",
       "1         NaN          NaN                    5       29828           9525\n",
       "2         NaN          NaN                    7        9536           7599\n",
       "3         NaN          NaN                    8        3214           6494\n",
       "4         NaN          NaN                    2       32727              0\n",
       "5         NaN          NaN                    6        5857            332\n",
       "  bc_util chargeoff_within_12_mths delinq_amnt mo_sin_old_il_acct\n",
       "1     4.7                        0           0                103\n",
       "2    41.5                        0           0                 76\n",
       "3    69.2                        0           0                183\n",
       "4   103.2                        0           0                 16\n",
       "5    93.2                        0           0                137\n",
       "  mo_sin_old_rev_tl_op mo_sin_rcnt_rev_tl_op mo_sin_rcnt_tl mort_acc\n",
       "1                  244                     1              1        0\n",
       "2                  290                     1              1        1\n",
       "3                  265                    23              3        0\n",
       "4                  170                    21             16        5\n",
       "5                  148                     8              8        0\n",
       "  mths_since_recent_bc mths_since_recent_bc_dlq mths_since_recent_inq\n",
       "1                   47                      NaN                   NaN\n",
       "2                    5                       42                     1\n",
       "3                   24                      NaN                    17\n",
       "4                   21                       17                     1\n",
       "5                   17                      NaN                     3\n",
       "  mths_since_recent_revol_delinq num_accts_ever_120_pd num_actv_bc_tl\n",
       "1                            NaN                     0              1\n",
       "2                             42                     4              6\n",
       "3                            NaN                     0              4\n",
       "4                             17                     1              3\n",
       "5                            NaN                     0              1\n",
       "  num_actv_rev_tl num_bc_sats num_bc_tl num_il_tl num_op_rev_tl num_rev_accts\n",
       "1               4           1         2         8             5             9\n",
       "2               9           7        18         2            14            32\n",
       "3               7           5        16        17             8            26\n",
       "4               5           3         5         1             5             7\n",
       "5               4           1         4        12             4             8\n",
       "  num_rev_tl_bal_gt_0 num_sats num_tl_120dpd_2m num_tl_30dpd num_tl_90g_dpd_24m\n",
       "1                   4        6                0            0                  0\n",
       "2                   9       17                0            0                  0\n",
       "3                   7       12                0            0                  0\n",
       "4                   5        8                0            0                  0\n",
       "5                   4       11                0            0                  0\n",
       "  num_tl_op_past_12m pct_tl_nvr_dlq percent_bc_gt_75 pub_rec_bankruptcies\n",
       "1                  4          100.0              0.0                    0\n",
       "2                  4           83.3             14.3                    0\n",
       "3                  3          100.0             60.0                    0\n",
       "4                  0           76.9            100.0                    0\n",
       "5                  2          100.0            100.0                    0\n",
       "  tax_liens tot_hi_cred_lim total_bal_ex_mort total_bc_limit\n",
       "1         0          196500            149140          10000\n",
       "2         0          179407             15030          13000\n",
       "3         0           52490             38566          21100\n",
       "4         0          368700             18007           4400\n",
       "5         0           82331             64426           4900\n",
       "  total_il_high_credit_limit\n",
       "1                      12000\n",
       "2                      11325\n",
       "3                      24890\n",
       "4                      18000\n",
       "5                      64031"
      ]
     },
     "execution_count": 17,
     "metadata": {},
     "output_type": "execute_result"
    }
   ],
   "source": [
    "head(loan.hex,5)"
   ]
  },
  {
   "cell_type": "markdown",
   "metadata": {},
   "source": [
    "### Total number of rows"
   ]
  },
  {
   "cell_type": "code",
   "execution_count": 15,
   "metadata": {
    "collapsed": false
   },
   "outputs": [
    {
     "data": {
      "text/html": [
       "656724"
      ],
      "text/latex": [
       "656724"
      ],
      "text/markdown": [
       "656724"
      ],
      "text/plain": [
       "[1] 656724"
      ]
     },
     "execution_count": 15,
     "metadata": {},
     "output_type": "execute_result"
    }
   ],
   "source": [
    "nrow(loan.hex)"
   ]
  },
  {
   "cell_type": "markdown",
   "metadata": {},
   "source": [
    "### To convert a H2O data frame into a R dataframe/object"
   ]
  },
  {
   "cell_type": "code",
   "execution_count": 16,
   "metadata": {
    "collapsed": false
   },
   "outputs": [
    {
     "name": "stderr",
     "output_type": "stream",
     "text": [
      "Warning message:\n",
      "In scan(file, what, nmax, sep, dec, quote, skip, nlines, na.strings, : EOF within quoted string"
     ]
    }
   ],
   "source": [
    "loan.R = as.data.frame(loan.hex)"
   ]
  },
  {
   "cell_type": "markdown",
   "metadata": {},
   "source": [
    "### To find the class of any object"
   ]
  },
  {
   "cell_type": "code",
   "execution_count": 18,
   "metadata": {
    "collapsed": false
   },
   "outputs": [
    {
     "data": {
      "text/html": [
       "\"H2OFrame\""
      ],
      "text/latex": [
       "\"H2OFrame\""
      ],
      "text/markdown": [
       "\"H2OFrame\""
      ],
      "text/plain": [
       "[1] \"H2OFrame\""
      ]
     },
     "execution_count": 18,
     "metadata": {},
     "output_type": "execute_result"
    }
   ],
   "source": [
    "class(loan.hex)"
   ]
  },
  {
   "cell_type": "markdown",
   "metadata": {},
   "source": [
    "### To find the column names in our data frame"
   ]
  },
  {
   "cell_type": "code",
   "execution_count": 19,
   "metadata": {
    "collapsed": false
   },
   "outputs": [
    {
     "data": {
      "text/html": [
       "<ol class=list-inline>\n",
       "\t<li>\"id\"</li>\n",
       "\t<li>\"member_id\"</li>\n",
       "\t<li>\"loan_amnt\"</li>\n",
       "\t<li>\"funded_amnt\"</li>\n",
       "\t<li>\"funded_amnt_inv\"</li>\n",
       "\t<li>\"term\"</li>\n",
       "\t<li>\"int_rate\"</li>\n",
       "\t<li>\"installment\"</li>\n",
       "\t<li>\"grade\"</li>\n",
       "\t<li>\"sub_grade\"</li>\n",
       "\t<li>\"emp_title\"</li>\n",
       "\t<li>\"emp_length\"</li>\n",
       "\t<li>\"home_ownership\"</li>\n",
       "\t<li>\"annual_inc\"</li>\n",
       "\t<li>\"verification_status\"</li>\n",
       "\t<li>\"issue_d\"</li>\n",
       "\t<li>\"loan_status\"</li>\n",
       "\t<li>\"pymnt_plan\"</li>\n",
       "\t<li>\"url\"</li>\n",
       "\t<li>\"desc\"</li>\n",
       "\t<li>\"purpose\"</li>\n",
       "\t<li>\"title\"</li>\n",
       "\t<li>\"zip_code\"</li>\n",
       "\t<li>\"addr_state\"</li>\n",
       "\t<li>\"dti\"</li>\n",
       "\t<li>\"delinq_2yrs\"</li>\n",
       "\t<li>\"earliest_cr_line\"</li>\n",
       "\t<li>\"inq_last_6mths\"</li>\n",
       "\t<li>\"mths_since_last_delinq\"</li>\n",
       "\t<li>\"mths_since_last_record\"</li>\n",
       "\t<li>\"open_acc\"</li>\n",
       "\t<li>\"pub_rec\"</li>\n",
       "\t<li>\"revol_bal\"</li>\n",
       "\t<li>\"revol_util\"</li>\n",
       "\t<li>\"total_acc\"</li>\n",
       "\t<li>\"initial_list_status\"</li>\n",
       "\t<li>\"out_prncp\"</li>\n",
       "\t<li>\"out_prncp_inv\"</li>\n",
       "\t<li>\"total_pymnt\"</li>\n",
       "\t<li>\"total_pymnt_inv\"</li>\n",
       "\t<li>\"total_rec_prncp\"</li>\n",
       "\t<li>\"total_rec_int\"</li>\n",
       "\t<li>\"total_rec_late_fee\"</li>\n",
       "\t<li>\"recoveries\"</li>\n",
       "\t<li>\"collection_recovery_fee\"</li>\n",
       "\t<li>\"last_pymnt_d\"</li>\n",
       "\t<li>\"last_pymnt_amnt\"</li>\n",
       "\t<li>\"next_pymnt_d\"</li>\n",
       "\t<li>\"last_credit_pull_d\"</li>\n",
       "\t<li>\"collections_12_mths_ex_med\"</li>\n",
       "\t<li>\"mths_since_last_major_derog\"</li>\n",
       "\t<li>\"policy_code\"</li>\n",
       "\t<li>\"application_type\"</li>\n",
       "\t<li>\"annual_inc_joint\"</li>\n",
       "\t<li>\"dti_joint\"</li>\n",
       "\t<li>\"verification_status_joint\"</li>\n",
       "\t<li>\"acc_now_delinq\"</li>\n",
       "\t<li>\"tot_coll_amt\"</li>\n",
       "\t<li>\"tot_cur_bal\"</li>\n",
       "\t<li>\"open_acc_6m\"</li>\n",
       "\t<li>\"open_il_6m\"</li>\n",
       "\t<li>\"open_il_12m\"</li>\n",
       "\t<li>\"open_il_24m\"</li>\n",
       "\t<li>\"mths_since_rcnt_il\"</li>\n",
       "\t<li>\"total_bal_il\"</li>\n",
       "\t<li>\"il_util\"</li>\n",
       "\t<li>\"open_rv_12m\"</li>\n",
       "\t<li>\"open_rv_24m\"</li>\n",
       "\t<li>\"max_bal_bc\"</li>\n",
       "\t<li>\"all_util\"</li>\n",
       "\t<li>\"total_rev_hi_lim\"</li>\n",
       "\t<li>\"inq_fi\"</li>\n",
       "\t<li>\"total_cu_tl\"</li>\n",
       "\t<li>\"inq_last_12m\"</li>\n",
       "\t<li>\"acc_open_past_24mths\"</li>\n",
       "\t<li>\"avg_cur_bal\"</li>\n",
       "\t<li>\"bc_open_to_buy\"</li>\n",
       "\t<li>\"bc_util\"</li>\n",
       "\t<li>\"chargeoff_within_12_mths\"</li>\n",
       "\t<li>\"delinq_amnt\"</li>\n",
       "\t<li>\"mo_sin_old_il_acct\"</li>\n",
       "\t<li>\"mo_sin_old_rev_tl_op\"</li>\n",
       "\t<li>\"mo_sin_rcnt_rev_tl_op\"</li>\n",
       "\t<li>\"mo_sin_rcnt_tl\"</li>\n",
       "\t<li>\"mort_acc\"</li>\n",
       "\t<li>\"mths_since_recent_bc\"</li>\n",
       "\t<li>\"mths_since_recent_bc_dlq\"</li>\n",
       "\t<li>\"mths_since_recent_inq\"</li>\n",
       "\t<li>\"mths_since_recent_revol_delinq\"</li>\n",
       "\t<li>\"num_accts_ever_120_pd\"</li>\n",
       "\t<li>\"num_actv_bc_tl\"</li>\n",
       "\t<li>\"num_actv_rev_tl\"</li>\n",
       "\t<li>\"num_bc_sats\"</li>\n",
       "\t<li>\"num_bc_tl\"</li>\n",
       "\t<li>\"num_il_tl\"</li>\n",
       "\t<li>\"num_op_rev_tl\"</li>\n",
       "\t<li>\"num_rev_accts\"</li>\n",
       "\t<li>\"num_rev_tl_bal_gt_0\"</li>\n",
       "\t<li>\"num_sats\"</li>\n",
       "\t<li>\"num_tl_120dpd_2m\"</li>\n",
       "\t<li>\"num_tl_30dpd\"</li>\n",
       "\t<li>\"num_tl_90g_dpd_24m\"</li>\n",
       "\t<li>\"num_tl_op_past_12m\"</li>\n",
       "\t<li>\"pct_tl_nvr_dlq\"</li>\n",
       "\t<li>\"percent_bc_gt_75\"</li>\n",
       "\t<li>\"pub_rec_bankruptcies\"</li>\n",
       "\t<li>\"tax_liens\"</li>\n",
       "\t<li>\"tot_hi_cred_lim\"</li>\n",
       "\t<li>\"total_bal_ex_mort\"</li>\n",
       "\t<li>\"total_bc_limit\"</li>\n",
       "\t<li>\"total_il_high_credit_limit\"</li>\n",
       "</ol>\n"
      ],
      "text/latex": [
       "\\begin{enumerate*}\n",
       "\\item \"id\"\n",
       "\\item \"member_id\"\n",
       "\\item \"loan_amnt\"\n",
       "\\item \"funded_amnt\"\n",
       "\\item \"funded_amnt_inv\"\n",
       "\\item \"term\"\n",
       "\\item \"int_rate\"\n",
       "\\item \"installment\"\n",
       "\\item \"grade\"\n",
       "\\item \"sub_grade\"\n",
       "\\item \"emp_title\"\n",
       "\\item \"emp_length\"\n",
       "\\item \"home_ownership\"\n",
       "\\item \"annual_inc\"\n",
       "\\item \"verification_status\"\n",
       "\\item \"issue_d\"\n",
       "\\item \"loan_status\"\n",
       "\\item \"pymnt_plan\"\n",
       "\\item \"url\"\n",
       "\\item \"desc\"\n",
       "\\item \"purpose\"\n",
       "\\item \"title\"\n",
       "\\item \"zip_code\"\n",
       "\\item \"addr_state\"\n",
       "\\item \"dti\"\n",
       "\\item \"delinq_2yrs\"\n",
       "\\item \"earliest_cr_line\"\n",
       "\\item \"inq_last_6mths\"\n",
       "\\item \"mths_since_last_delinq\"\n",
       "\\item \"mths_since_last_record\"\n",
       "\\item \"open_acc\"\n",
       "\\item \"pub_rec\"\n",
       "\\item \"revol_bal\"\n",
       "\\item \"revol_util\"\n",
       "\\item \"total_acc\"\n",
       "\\item \"initial_list_status\"\n",
       "\\item \"out_prncp\"\n",
       "\\item \"out_prncp_inv\"\n",
       "\\item \"total_pymnt\"\n",
       "\\item \"total_pymnt_inv\"\n",
       "\\item \"total_rec_prncp\"\n",
       "\\item \"total_rec_int\"\n",
       "\\item \"total_rec_late_fee\"\n",
       "\\item \"recoveries\"\n",
       "\\item \"collection_recovery_fee\"\n",
       "\\item \"last_pymnt_d\"\n",
       "\\item \"last_pymnt_amnt\"\n",
       "\\item \"next_pymnt_d\"\n",
       "\\item \"last_credit_pull_d\"\n",
       "\\item \"collections_12_mths_ex_med\"\n",
       "\\item \"mths_since_last_major_derog\"\n",
       "\\item \"policy_code\"\n",
       "\\item \"application_type\"\n",
       "\\item \"annual_inc_joint\"\n",
       "\\item \"dti_joint\"\n",
       "\\item \"verification_status_joint\"\n",
       "\\item \"acc_now_delinq\"\n",
       "\\item \"tot_coll_amt\"\n",
       "\\item \"tot_cur_bal\"\n",
       "\\item \"open_acc_6m\"\n",
       "\\item \"open_il_6m\"\n",
       "\\item \"open_il_12m\"\n",
       "\\item \"open_il_24m\"\n",
       "\\item \"mths_since_rcnt_il\"\n",
       "\\item \"total_bal_il\"\n",
       "\\item \"il_util\"\n",
       "\\item \"open_rv_12m\"\n",
       "\\item \"open_rv_24m\"\n",
       "\\item \"max_bal_bc\"\n",
       "\\item \"all_util\"\n",
       "\\item \"total_rev_hi_lim\"\n",
       "\\item \"inq_fi\"\n",
       "\\item \"total_cu_tl\"\n",
       "\\item \"inq_last_12m\"\n",
       "\\item \"acc_open_past_24mths\"\n",
       "\\item \"avg_cur_bal\"\n",
       "\\item \"bc_open_to_buy\"\n",
       "\\item \"bc_util\"\n",
       "\\item \"chargeoff_within_12_mths\"\n",
       "\\item \"delinq_amnt\"\n",
       "\\item \"mo_sin_old_il_acct\"\n",
       "\\item \"mo_sin_old_rev_tl_op\"\n",
       "\\item \"mo_sin_rcnt_rev_tl_op\"\n",
       "\\item \"mo_sin_rcnt_tl\"\n",
       "\\item \"mort_acc\"\n",
       "\\item \"mths_since_recent_bc\"\n",
       "\\item \"mths_since_recent_bc_dlq\"\n",
       "\\item \"mths_since_recent_inq\"\n",
       "\\item \"mths_since_recent_revol_delinq\"\n",
       "\\item \"num_accts_ever_120_pd\"\n",
       "\\item \"num_actv_bc_tl\"\n",
       "\\item \"num_actv_rev_tl\"\n",
       "\\item \"num_bc_sats\"\n",
       "\\item \"num_bc_tl\"\n",
       "\\item \"num_il_tl\"\n",
       "\\item \"num_op_rev_tl\"\n",
       "\\item \"num_rev_accts\"\n",
       "\\item \"num_rev_tl_bal_gt_0\"\n",
       "\\item \"num_sats\"\n",
       "\\item \"num_tl_120dpd_2m\"\n",
       "\\item \"num_tl_30dpd\"\n",
       "\\item \"num_tl_90g_dpd_24m\"\n",
       "\\item \"num_tl_op_past_12m\"\n",
       "\\item \"pct_tl_nvr_dlq\"\n",
       "\\item \"percent_bc_gt_75\"\n",
       "\\item \"pub_rec_bankruptcies\"\n",
       "\\item \"tax_liens\"\n",
       "\\item \"tot_hi_cred_lim\"\n",
       "\\item \"total_bal_ex_mort\"\n",
       "\\item \"total_bc_limit\"\n",
       "\\item \"total_il_high_credit_limit\"\n",
       "\\end{enumerate*}\n"
      ],
      "text/markdown": [
       "1. \"id\"\n",
       "2. \"member_id\"\n",
       "3. \"loan_amnt\"\n",
       "4. \"funded_amnt\"\n",
       "5. \"funded_amnt_inv\"\n",
       "6. \"term\"\n",
       "7. \"int_rate\"\n",
       "8. \"installment\"\n",
       "9. \"grade\"\n",
       "10. \"sub_grade\"\n",
       "11. \"emp_title\"\n",
       "12. \"emp_length\"\n",
       "13. \"home_ownership\"\n",
       "14. \"annual_inc\"\n",
       "15. \"verification_status\"\n",
       "16. \"issue_d\"\n",
       "17. \"loan_status\"\n",
       "18. \"pymnt_plan\"\n",
       "19. \"url\"\n",
       "20. \"desc\"\n",
       "21. \"purpose\"\n",
       "22. \"title\"\n",
       "23. \"zip_code\"\n",
       "24. \"addr_state\"\n",
       "25. \"dti\"\n",
       "26. \"delinq_2yrs\"\n",
       "27. \"earliest_cr_line\"\n",
       "28. \"inq_last_6mths\"\n",
       "29. \"mths_since_last_delinq\"\n",
       "30. \"mths_since_last_record\"\n",
       "31. \"open_acc\"\n",
       "32. \"pub_rec\"\n",
       "33. \"revol_bal\"\n",
       "34. \"revol_util\"\n",
       "35. \"total_acc\"\n",
       "36. \"initial_list_status\"\n",
       "37. \"out_prncp\"\n",
       "38. \"out_prncp_inv\"\n",
       "39. \"total_pymnt\"\n",
       "40. \"total_pymnt_inv\"\n",
       "41. \"total_rec_prncp\"\n",
       "42. \"total_rec_int\"\n",
       "43. \"total_rec_late_fee\"\n",
       "44. \"recoveries\"\n",
       "45. \"collection_recovery_fee\"\n",
       "46. \"last_pymnt_d\"\n",
       "47. \"last_pymnt_amnt\"\n",
       "48. \"next_pymnt_d\"\n",
       "49. \"last_credit_pull_d\"\n",
       "50. \"collections_12_mths_ex_med\"\n",
       "51. \"mths_since_last_major_derog\"\n",
       "52. \"policy_code\"\n",
       "53. \"application_type\"\n",
       "54. \"annual_inc_joint\"\n",
       "55. \"dti_joint\"\n",
       "56. \"verification_status_joint\"\n",
       "57. \"acc_now_delinq\"\n",
       "58. \"tot_coll_amt\"\n",
       "59. \"tot_cur_bal\"\n",
       "60. \"open_acc_6m\"\n",
       "61. \"open_il_6m\"\n",
       "62. \"open_il_12m\"\n",
       "63. \"open_il_24m\"\n",
       "64. \"mths_since_rcnt_il\"\n",
       "65. \"total_bal_il\"\n",
       "66. \"il_util\"\n",
       "67. \"open_rv_12m\"\n",
       "68. \"open_rv_24m\"\n",
       "69. \"max_bal_bc\"\n",
       "70. \"all_util\"\n",
       "71. \"total_rev_hi_lim\"\n",
       "72. \"inq_fi\"\n",
       "73. \"total_cu_tl\"\n",
       "74. \"inq_last_12m\"\n",
       "75. \"acc_open_past_24mths\"\n",
       "76. \"avg_cur_bal\"\n",
       "77. \"bc_open_to_buy\"\n",
       "78. \"bc_util\"\n",
       "79. \"chargeoff_within_12_mths\"\n",
       "80. \"delinq_amnt\"\n",
       "81. \"mo_sin_old_il_acct\"\n",
       "82. \"mo_sin_old_rev_tl_op\"\n",
       "83. \"mo_sin_rcnt_rev_tl_op\"\n",
       "84. \"mo_sin_rcnt_tl\"\n",
       "85. \"mort_acc\"\n",
       "86. \"mths_since_recent_bc\"\n",
       "87. \"mths_since_recent_bc_dlq\"\n",
       "88. \"mths_since_recent_inq\"\n",
       "89. \"mths_since_recent_revol_delinq\"\n",
       "90. \"num_accts_ever_120_pd\"\n",
       "91. \"num_actv_bc_tl\"\n",
       "92. \"num_actv_rev_tl\"\n",
       "93. \"num_bc_sats\"\n",
       "94. \"num_bc_tl\"\n",
       "95. \"num_il_tl\"\n",
       "96. \"num_op_rev_tl\"\n",
       "97. \"num_rev_accts\"\n",
       "98. \"num_rev_tl_bal_gt_0\"\n",
       "99. \"num_sats\"\n",
       "100. \"num_tl_120dpd_2m\"\n",
       "101. \"num_tl_30dpd\"\n",
       "102. \"num_tl_90g_dpd_24m\"\n",
       "103. \"num_tl_op_past_12m\"\n",
       "104. \"pct_tl_nvr_dlq\"\n",
       "105. \"percent_bc_gt_75\"\n",
       "106. \"pub_rec_bankruptcies\"\n",
       "107. \"tax_liens\"\n",
       "108. \"tot_hi_cred_lim\"\n",
       "109. \"total_bal_ex_mort\"\n",
       "110. \"total_bc_limit\"\n",
       "111. \"total_il_high_credit_limit\"\n",
       "\n",
       "\n"
      ],
      "text/plain": [
       "  [1] \"id\"                             \"member_id\"                     \n",
       "  [3] \"loan_amnt\"                      \"funded_amnt\"                   \n",
       "  [5] \"funded_amnt_inv\"                \"term\"                          \n",
       "  [7] \"int_rate\"                       \"installment\"                   \n",
       "  [9] \"grade\"                          \"sub_grade\"                     \n",
       " [11] \"emp_title\"                      \"emp_length\"                    \n",
       " [13] \"home_ownership\"                 \"annual_inc\"                    \n",
       " [15] \"verification_status\"            \"issue_d\"                       \n",
       " [17] \"loan_status\"                    \"pymnt_plan\"                    \n",
       " [19] \"url\"                            \"desc\"                          \n",
       " [21] \"purpose\"                        \"title\"                         \n",
       " [23] \"zip_code\"                       \"addr_state\"                    \n",
       " [25] \"dti\"                            \"delinq_2yrs\"                   \n",
       " [27] \"earliest_cr_line\"               \"inq_last_6mths\"                \n",
       " [29] \"mths_since_last_delinq\"         \"mths_since_last_record\"        \n",
       " [31] \"open_acc\"                       \"pub_rec\"                       \n",
       " [33] \"revol_bal\"                      \"revol_util\"                    \n",
       " [35] \"total_acc\"                      \"initial_list_status\"           \n",
       " [37] \"out_prncp\"                      \"out_prncp_inv\"                 \n",
       " [39] \"total_pymnt\"                    \"total_pymnt_inv\"               \n",
       " [41] \"total_rec_prncp\"                \"total_rec_int\"                 \n",
       " [43] \"total_rec_late_fee\"             \"recoveries\"                    \n",
       " [45] \"collection_recovery_fee\"        \"last_pymnt_d\"                  \n",
       " [47] \"last_pymnt_amnt\"                \"next_pymnt_d\"                  \n",
       " [49] \"last_credit_pull_d\"             \"collections_12_mths_ex_med\"    \n",
       " [51] \"mths_since_last_major_derog\"    \"policy_code\"                   \n",
       " [53] \"application_type\"               \"annual_inc_joint\"              \n",
       " [55] \"dti_joint\"                      \"verification_status_joint\"     \n",
       " [57] \"acc_now_delinq\"                 \"tot_coll_amt\"                  \n",
       " [59] \"tot_cur_bal\"                    \"open_acc_6m\"                   \n",
       " [61] \"open_il_6m\"                     \"open_il_12m\"                   \n",
       " [63] \"open_il_24m\"                    \"mths_since_rcnt_il\"            \n",
       " [65] \"total_bal_il\"                   \"il_util\"                       \n",
       " [67] \"open_rv_12m\"                    \"open_rv_24m\"                   \n",
       " [69] \"max_bal_bc\"                     \"all_util\"                      \n",
       " [71] \"total_rev_hi_lim\"               \"inq_fi\"                        \n",
       " [73] \"total_cu_tl\"                    \"inq_last_12m\"                  \n",
       " [75] \"acc_open_past_24mths\"           \"avg_cur_bal\"                   \n",
       " [77] \"bc_open_to_buy\"                 \"bc_util\"                       \n",
       " [79] \"chargeoff_within_12_mths\"       \"delinq_amnt\"                   \n",
       " [81] \"mo_sin_old_il_acct\"             \"mo_sin_old_rev_tl_op\"          \n",
       " [83] \"mo_sin_rcnt_rev_tl_op\"          \"mo_sin_rcnt_tl\"                \n",
       " [85] \"mort_acc\"                       \"mths_since_recent_bc\"          \n",
       " [87] \"mths_since_recent_bc_dlq\"       \"mths_since_recent_inq\"         \n",
       " [89] \"mths_since_recent_revol_delinq\" \"num_accts_ever_120_pd\"         \n",
       " [91] \"num_actv_bc_tl\"                 \"num_actv_rev_tl\"               \n",
       " [93] \"num_bc_sats\"                    \"num_bc_tl\"                     \n",
       " [95] \"num_il_tl\"                      \"num_op_rev_tl\"                 \n",
       " [97] \"num_rev_accts\"                  \"num_rev_tl_bal_gt_0\"           \n",
       " [99] \"num_sats\"                       \"num_tl_120dpd_2m\"              \n",
       "[101] \"num_tl_30dpd\"                   \"num_tl_90g_dpd_24m\"            \n",
       "[103] \"num_tl_op_past_12m\"             \"pct_tl_nvr_dlq\"                \n",
       "[105] \"percent_bc_gt_75\"               \"pub_rec_bankruptcies\"          \n",
       "[107] \"tax_liens\"                      \"tot_hi_cred_lim\"               \n",
       "[109] \"total_bal_ex_mort\"              \"total_bc_limit\"                \n",
       "[111] \"total_il_high_credit_limit\"    "
      ]
     },
     "execution_count": 19,
     "metadata": {},
     "output_type": "execute_result"
    }
   ],
   "source": [
    "names(loan.hex)"
   ]
  },
  {
   "cell_type": "markdown",
   "metadata": {},
   "source": [
    "### To find the summary, quantiles and factor levels in our dataset"
   ]
  },
  {
   "cell_type": "code",
   "execution_count": 58,
   "metadata": {
    "collapsed": false
   },
   "outputs": [
    {
     "data": {
      "text/plain": [
       " id                 member_id          loan_amnt       funded_amnt    \n",
       " Min.   :   56705   Min.   :   70825   Min.   : 1000   Min.   : 1000  \n",
       " 1st Qu.:27620486   1st Qu.:30105372   1st Qu.: 8450   1st Qu.: 8450  \n",
       " Median :44349687   Median :47387715   Median :13750   Median :13750  \n",
       " Mean   :42409647   Mean   :45548706   Mean   :15107   Mean   :15107  \n",
       " 3rd Qu.:58553626   3rd Qu.:62394103   3rd Qu.:20000   3rd Qu.:20000  \n",
       " Max.   :68617057   Max.   :73544841   Max.   :35000   Max.   :35000  \n",
       " funded_amnt_inv\n",
       " Min.   :  900  \n",
       " 1st Qu.: 8450  \n",
       " Median :13750  \n",
       " Mean   :15102  \n",
       " 3rd Qu.:20000  \n",
       " Max.   :35000  "
      ]
     },
     "execution_count": 58,
     "metadata": {},
     "output_type": "execute_result"
    }
   ],
   "source": [
    "summary(loan.hex[,1:5], exact_quantiles = TRUE)"
   ]
  },
  {
   "cell_type": "markdown",
   "metadata": {},
   "source": [
    "### The quantile distribution of any variable"
   ]
  },
  {
   "cell_type": "code",
   "execution_count": 21,
   "metadata": {
    "collapsed": false
   },
   "outputs": [
    {
     "data": {
      "text/html": [
       "<dl class=dl-horizontal>\n",
       "\t<dt>10%</dt>\n",
       "\t\t<dd>5000</dd>\n",
       "\t<dt>20%</dt>\n",
       "\t\t<dd>7500</dd>\n",
       "\t<dt>30%</dt>\n",
       "\t\t<dd>10000</dd>\n",
       "\t<dt>40%</dt>\n",
       "\t\t<dd>11500</dd>\n",
       "\t<dt>50%</dt>\n",
       "\t\t<dd>13750</dd>\n",
       "\t<dt>60%</dt>\n",
       "\t\t<dd>15775</dd>\n",
       "\t<dt>70%</dt>\n",
       "\t\t<dd>19300</dd>\n",
       "\t<dt>80%</dt>\n",
       "\t\t<dd>22500</dd>\n",
       "\t<dt>90%</dt>\n",
       "\t\t<dd>28000</dd>\n",
       "\t<dt>100%</dt>\n",
       "\t\t<dd>35000</dd>\n",
       "</dl>\n"
      ],
      "text/latex": [
       "\\begin{description*}\n",
       "\\item[10%] 5000\n",
       "\\item[20%] 7500\n",
       "\\item[30%] 10000\n",
       "\\item[40%] 11500\n",
       "\\item[50%] 13750\n",
       "\\item[60%] 15775\n",
       "\\item[70%] 19300\n",
       "\\item[80%] 22500\n",
       "\\item[90%] 28000\n",
       "\\item[100%] 35000\n",
       "\\end{description*}\n"
      ],
      "text/markdown": [
       "10%\n",
       ":   500020%\n",
       ":   750030%\n",
       ":   1000040%\n",
       ":   1150050%\n",
       ":   1375060%\n",
       ":   1577570%\n",
       ":   1930080%\n",
       ":   2250090%\n",
       ":   28000100%\n",
       ":   35000\n",
       "\n"
      ],
      "text/plain": [
       "  10%   20%   30%   40%   50%   60%   70%   80%   90%  100% \n",
       " 5000  7500 10000 11500 13750 15775 19300 22500 28000 35000 "
      ]
     },
     "execution_count": 21,
     "metadata": {},
     "output_type": "execute_result"
    }
   ],
   "source": [
    "loan.qs <- quantile(loan.hex$funded_amnt, probs = (1:10)/10)\n",
    "loan.qs"
   ]
  },
  {
   "cell_type": "markdown",
   "metadata": {},
   "source": [
    "### To plot the histogram for a variable"
   ]
  },
  {
   "cell_type": "code",
   "execution_count": 22,
   "metadata": {
    "collapsed": false
   },
   "outputs": [
    {
     "data": {
      "application/pdf": "[encoded data removed]",
      "image/jpeg": "[encoded data removed]",
      "image/png": "[encoded data removed]",
      "text/plain": [
       "Plot with title \"Histogram of loan.hex$loan_amnt\""
      ]
     },
     "metadata": {
      "image/svg+xml": {
       "isolated": true
      }
     },
     "output_type": "display_data"
    }
   ],
   "source": [
    "h2o.hist(loan.hex$loan_amnt)"
   ]
  },
  {
   "cell_type": "markdown",
   "metadata": {},
   "source": [
    "### Missing value treatment - number of NA in our dataset"
   ]
  },
  {
   "cell_type": "code",
   "execution_count": 23,
   "metadata": {
    "collapsed": false
   },
   "outputs": [
    {
     "data": {
      "text/html": [
       "<ol class=list-inline>\n",
       "\t<li>0</li>\n",
       "\t<li>0</li>\n",
       "\t<li>0</li>\n",
       "\t<li>0</li>\n",
       "\t<li>0</li>\n",
       "\t<li>0</li>\n",
       "\t<li>0</li>\n",
       "\t<li>0</li>\n",
       "\t<li>0</li>\n",
       "\t<li>0</li>\n",
       "\t<li>37106</li>\n",
       "\t<li>0</li>\n",
       "\t<li>0</li>\n",
       "\t<li>0</li>\n",
       "\t<li>0</li>\n",
       "\t<li>0</li>\n",
       "\t<li>0</li>\n",
       "\t<li>0</li>\n",
       "\t<li>0</li>\n",
       "\t<li>641417</li>\n",
       "\t<li>0</li>\n",
       "\t<li>132</li>\n",
       "\t<li>0</li>\n",
       "\t<li>0</li>\n",
       "\t<li>0</li>\n",
       "\t<li>0</li>\n",
       "\t<li>0</li>\n",
       "\t<li>0</li>\n",
       "\t<li>319843</li>\n",
       "\t<li>540785</li>\n",
       "\t<li>0</li>\n",
       "\t<li>0</li>\n",
       "\t<li>0</li>\n",
       "\t<li>287</li>\n",
       "\t<li>0</li>\n",
       "\t<li>0</li>\n",
       "\t<li>0</li>\n",
       "\t<li>0</li>\n",
       "\t<li>0</li>\n",
       "\t<li>0</li>\n",
       "\t<li>0</li>\n",
       "\t<li>0</li>\n",
       "\t<li>0</li>\n",
       "\t<li>0</li>\n",
       "\t<li>0</li>\n",
       "\t<li>437</li>\n",
       "\t<li>0</li>\n",
       "\t<li>192661</li>\n",
       "\t<li>35</li>\n",
       "\t<li>0</li>\n",
       "\t<li>467517</li>\n",
       "\t<li>0</li>\n",
       "\t<li>0</li>\n",
       "\t<li>656213</li>\n",
       "\t<li>656215</li>\n",
       "\t<li>656213</li>\n",
       "\t<li>0</li>\n",
       "\t<li>0</li>\n",
       "\t<li>0</li>\n",
       "\t<li>635352</li>\n",
       "\t<li>635352</li>\n",
       "\t<li>635352</li>\n",
       "\t<li>635352</li>\n",
       "\t<li>635914</li>\n",
       "\t<li>635352</li>\n",
       "\t<li>638107</li>\n",
       "\t<li>635352</li>\n",
       "\t<li>635352</li>\n",
       "\t<li>635352</li>\n",
       "\t<li>635352</li>\n",
       "\t<li>0</li>\n",
       "\t<li>635352</li>\n",
       "\t<li>635352</li>\n",
       "\t<li>635352</li>\n",
       "\t<li>0</li>\n",
       "\t<li>6</li>\n",
       "\t<li>6408</li>\n",
       "\t<li>6838</li>\n",
       "\t<li>0</li>\n",
       "\t<li>0</li>\n",
       "\t<li>19425</li>\n",
       "\t<li>0</li>\n",
       "\t<li>0</li>\n",
       "\t<li>0</li>\n",
       "\t<li>0</li>\n",
       "\t<li>6044</li>\n",
       "\t<li>485843</li>\n",
       "\t<li>66291</li>\n",
       "\t<li>420221</li>\n",
       "\t<li>0</li>\n",
       "\t<li>0</li>\n",
       "\t<li>0</li>\n",
       "\t<li>0</li>\n",
       "\t<li>0</li>\n",
       "\t<li>0</li>\n",
       "\t<li>0</li>\n",
       "\t<li>1</li>\n",
       "\t<li>0</li>\n",
       "\t<li>0</li>\n",
       "\t<li>27090</li>\n",
       "\t<li>0</li>\n",
       "\t<li>0</li>\n",
       "\t<li>0</li>\n",
       "\t<li>0</li>\n",
       "\t<li>6796</li>\n",
       "\t<li>0</li>\n",
       "\t<li>0</li>\n",
       "\t<li>0</li>\n",
       "\t<li>0</li>\n",
       "\t<li>0</li>\n",
       "\t<li>0</li>\n",
       "</ol>\n"
      ],
      "text/latex": [
       "\\begin{enumerate*}\n",
       "\\item 0\n",
       "\\item 0\n",
       "\\item 0\n",
       "\\item 0\n",
       "\\item 0\n",
       "\\item 0\n",
       "\\item 0\n",
       "\\item 0\n",
       "\\item 0\n",
       "\\item 0\n",
       "\\item 37106\n",
       "\\item 0\n",
       "\\item 0\n",
       "\\item 0\n",
       "\\item 0\n",
       "\\item 0\n",
       "\\item 0\n",
       "\\item 0\n",
       "\\item 0\n",
       "\\item 641417\n",
       "\\item 0\n",
       "\\item 132\n",
       "\\item 0\n",
       "\\item 0\n",
       "\\item 0\n",
       "\\item 0\n",
       "\\item 0\n",
       "\\item 0\n",
       "\\item 319843\n",
       "\\item 540785\n",
       "\\item 0\n",
       "\\item 0\n",
       "\\item 0\n",
       "\\item 287\n",
       "\\item 0\n",
       "\\item 0\n",
       "\\item 0\n",
       "\\item 0\n",
       "\\item 0\n",
       "\\item 0\n",
       "\\item 0\n",
       "\\item 0\n",
       "\\item 0\n",
       "\\item 0\n",
       "\\item 0\n",
       "\\item 437\n",
       "\\item 0\n",
       "\\item 192661\n",
       "\\item 35\n",
       "\\item 0\n",
       "\\item 467517\n",
       "\\item 0\n",
       "\\item 0\n",
       "\\item 656213\n",
       "\\item 656215\n",
       "\\item 656213\n",
       "\\item 0\n",
       "\\item 0\n",
       "\\item 0\n",
       "\\item 635352\n",
       "\\item 635352\n",
       "\\item 635352\n",
       "\\item 635352\n",
       "\\item 635914\n",
       "\\item 635352\n",
       "\\item 638107\n",
       "\\item 635352\n",
       "\\item 635352\n",
       "\\item 635352\n",
       "\\item 635352\n",
       "\\item 0\n",
       "\\item 635352\n",
       "\\item 635352\n",
       "\\item 635352\n",
       "\\item 0\n",
       "\\item 6\n",
       "\\item 6408\n",
       "\\item 6838\n",
       "\\item 0\n",
       "\\item 0\n",
       "\\item 19425\n",
       "\\item 0\n",
       "\\item 0\n",
       "\\item 0\n",
       "\\item 0\n",
       "\\item 6044\n",
       "\\item 485843\n",
       "\\item 66291\n",
       "\\item 420221\n",
       "\\item 0\n",
       "\\item 0\n",
       "\\item 0\n",
       "\\item 0\n",
       "\\item 0\n",
       "\\item 0\n",
       "\\item 0\n",
       "\\item 1\n",
       "\\item 0\n",
       "\\item 0\n",
       "\\item 27090\n",
       "\\item 0\n",
       "\\item 0\n",
       "\\item 0\n",
       "\\item 0\n",
       "\\item 6796\n",
       "\\item 0\n",
       "\\item 0\n",
       "\\item 0\n",
       "\\item 0\n",
       "\\item 0\n",
       "\\item 0\n",
       "\\end{enumerate*}\n"
      ],
      "text/markdown": [
       "1. 0\n",
       "2. 0\n",
       "3. 0\n",
       "4. 0\n",
       "5. 0\n",
       "6. 0\n",
       "7. 0\n",
       "8. 0\n",
       "9. 0\n",
       "10. 0\n",
       "11. 37106\n",
       "12. 0\n",
       "13. 0\n",
       "14. 0\n",
       "15. 0\n",
       "16. 0\n",
       "17. 0\n",
       "18. 0\n",
       "19. 0\n",
       "20. 641417\n",
       "21. 0\n",
       "22. 132\n",
       "23. 0\n",
       "24. 0\n",
       "25. 0\n",
       "26. 0\n",
       "27. 0\n",
       "28. 0\n",
       "29. 319843\n",
       "30. 540785\n",
       "31. 0\n",
       "32. 0\n",
       "33. 0\n",
       "34. 287\n",
       "35. 0\n",
       "36. 0\n",
       "37. 0\n",
       "38. 0\n",
       "39. 0\n",
       "40. 0\n",
       "41. 0\n",
       "42. 0\n",
       "43. 0\n",
       "44. 0\n",
       "45. 0\n",
       "46. 437\n",
       "47. 0\n",
       "48. 192661\n",
       "49. 35\n",
       "50. 0\n",
       "51. 467517\n",
       "52. 0\n",
       "53. 0\n",
       "54. 656213\n",
       "55. 656215\n",
       "56. 656213\n",
       "57. 0\n",
       "58. 0\n",
       "59. 0\n",
       "60. 635352\n",
       "61. 635352\n",
       "62. 635352\n",
       "63. 635352\n",
       "64. 635914\n",
       "65. 635352\n",
       "66. 638107\n",
       "67. 635352\n",
       "68. 635352\n",
       "69. 635352\n",
       "70. 635352\n",
       "71. 0\n",
       "72. 635352\n",
       "73. 635352\n",
       "74. 635352\n",
       "75. 0\n",
       "76. 6\n",
       "77. 6408\n",
       "78. 6838\n",
       "79. 0\n",
       "80. 0\n",
       "81. 19425\n",
       "82. 0\n",
       "83. 0\n",
       "84. 0\n",
       "85. 0\n",
       "86. 6044\n",
       "87. 485843\n",
       "88. 66291\n",
       "89. 420221\n",
       "90. 0\n",
       "91. 0\n",
       "92. 0\n",
       "93. 0\n",
       "94. 0\n",
       "95. 0\n",
       "96. 0\n",
       "97. 1\n",
       "98. 0\n",
       "99. 0\n",
       "100. 27090\n",
       "101. 0\n",
       "102. 0\n",
       "103. 0\n",
       "104. 0\n",
       "105. 6796\n",
       "106. 0\n",
       "107. 0\n",
       "108. 0\n",
       "109. 0\n",
       "110. 0\n",
       "111. 0\n",
       "\n",
       "\n"
      ],
      "text/plain": [
       "  [1]      0      0      0      0      0      0      0      0      0      0\n",
       " [11]  37106      0      0      0      0      0      0      0      0 641417\n",
       " [21]      0    132      0      0      0      0      0      0 319843 540785\n",
       " [31]      0      0      0    287      0      0      0      0      0      0\n",
       " [41]      0      0      0      0      0    437      0 192661     35      0\n",
       " [51] 467517      0      0 656213 656215 656213      0      0      0 635352\n",
       " [61] 635352 635352 635352 635914 635352 638107 635352 635352 635352 635352\n",
       " [71]      0 635352 635352 635352      0      6   6408   6838      0      0\n",
       " [81]  19425      0      0      0      0   6044 485843  66291 420221      0\n",
       " [91]      0      0      0      0      0      0      1      0      0  27090\n",
       "[101]      0      0      0      0   6796      0      0      0      0      0\n",
       "[111]      0"
      ]
     },
     "execution_count": 23,
     "metadata": {},
     "output_type": "execute_result"
    }
   ],
   "source": [
    "h2o.nacnt(loan.hex)"
   ]
  },
  {
   "cell_type": "code",
   "execution_count": 53,
   "metadata": {
    "collapsed": false
   },
   "outputs": [
    {
     "data": {
      "text/html": [
       "<table>\n",
       "<tbody>\n",
       "\t<tr><td>id</td><td>0 </td></tr>\n",
       "\t<tr><td>member_id</td><td>0        </td></tr>\n",
       "\t<tr><td>loan_amnt</td><td>0        </td></tr>\n",
       "\t<tr><td>funded_amnt</td><td>0          </td></tr>\n",
       "\t<tr><td>funded_amnt_inv</td><td>0              </td></tr>\n",
       "\t<tr><td>term</td><td>0   </td></tr>\n",
       "\t<tr><td>int_rate</td><td>0       </td></tr>\n",
       "\t<tr><td>installment</td><td>0          </td></tr>\n",
       "\t<tr><td>grade</td><td>0    </td></tr>\n",
       "\t<tr><td>sub_grade</td><td>0        </td></tr>\n",
       "\t<tr><td>emp_title</td><td>37106    </td></tr>\n",
       "\t<tr><td>emp_length</td><td>0         </td></tr>\n",
       "\t<tr><td>home_ownership</td><td>0             </td></tr>\n",
       "\t<tr><td>annual_inc</td><td>0         </td></tr>\n",
       "\t<tr><td>verification_status</td><td>0                  </td></tr>\n",
       "\t<tr><td>issue_d</td><td>0      </td></tr>\n",
       "\t<tr><td>loan_status</td><td>0          </td></tr>\n",
       "\t<tr><td>pymnt_plan</td><td>0         </td></tr>\n",
       "\t<tr><td>url</td><td>0  </td></tr>\n",
       "\t<tr><td>purpose</td><td>0      </td></tr>\n",
       "\t<tr><td>title</td><td>132  </td></tr>\n",
       "\t<tr><td>zip_code</td><td>0       </td></tr>\n",
       "\t<tr><td>addr_state</td><td>0         </td></tr>\n",
       "\t<tr><td>dti</td><td>0  </td></tr>\n",
       "\t<tr><td>delinq_2yrs</td><td>0          </td></tr>\n",
       "\t<tr><td>earliest_cr_line</td><td>0               </td></tr>\n",
       "\t<tr><td>inq_last_6mths</td><td>0             </td></tr>\n",
       "\t<tr><td>open_acc</td><td>0       </td></tr>\n",
       "\t<tr><td>pub_rec</td><td>0      </td></tr>\n",
       "\t<tr><td>revol_bal</td><td>0        </td></tr>\n",
       "\t<tr><td>revol_util</td><td>287       </td></tr>\n",
       "\t<tr><td>total_acc</td><td>0        </td></tr>\n",
       "\t<tr><td>initial_list_status</td><td>0                  </td></tr>\n",
       "\t<tr><td>out_prncp</td><td>0        </td></tr>\n",
       "\t<tr><td>out_prncp_inv</td><td>0            </td></tr>\n",
       "\t<tr><td>total_pymnt</td><td>0          </td></tr>\n",
       "\t<tr><td>total_pymnt_inv</td><td>0              </td></tr>\n",
       "\t<tr><td>total_rec_prncp</td><td>0              </td></tr>\n",
       "\t<tr><td>total_rec_int</td><td>0            </td></tr>\n",
       "\t<tr><td>total_rec_late_fee</td><td>0                 </td></tr>\n",
       "\t<tr><td>recoveries</td><td>0         </td></tr>\n",
       "\t<tr><td>collection_recovery_fee</td><td>0                      </td></tr>\n",
       "\t<tr><td>last_pymnt_d</td><td>437         </td></tr>\n",
       "\t<tr><td>last_pymnt_amnt</td><td>0              </td></tr>\n",
       "\t<tr><td>last_credit_pull_d</td><td>35                </td></tr>\n",
       "\t<tr><td>collections_12_mths_ex_med</td><td>0                         </td></tr>\n",
       "\t<tr><td>policy_code</td><td>0          </td></tr>\n",
       "\t<tr><td>application_type</td><td>0               </td></tr>\n",
       "\t<tr><td>acc_now_delinq</td><td>0             </td></tr>\n",
       "\t<tr><td>tot_coll_amt</td><td>0           </td></tr>\n",
       "\t<tr><td>tot_cur_bal</td><td>0          </td></tr>\n",
       "\t<tr><td>total_rev_hi_lim</td><td>0               </td></tr>\n",
       "\t<tr><td>acc_open_past_24mths</td><td>0                   </td></tr>\n",
       "\t<tr><td>avg_cur_bal</td><td>6          </td></tr>\n",
       "\t<tr><td>bc_open_to_buy</td><td>6408          </td></tr>\n",
       "\t<tr><td>bc_util</td><td>6838   </td></tr>\n",
       "\t<tr><td>chargeoff_within_12_mths</td><td>0                       </td></tr>\n",
       "\t<tr><td>delinq_amnt</td><td>0          </td></tr>\n",
       "\t<tr><td>mo_sin_old_il_acct</td><td>19425             </td></tr>\n",
       "\t<tr><td>mo_sin_old_rev_tl_op</td><td>0                   </td></tr>\n",
       "\t<tr><td>mo_sin_rcnt_rev_tl_op</td><td>0                    </td></tr>\n",
       "\t<tr><td>mo_sin_rcnt_tl</td><td>0             </td></tr>\n",
       "\t<tr><td>mort_acc</td><td>0       </td></tr>\n",
       "\t<tr><td>mths_since_recent_bc</td><td>6044                </td></tr>\n",
       "\t<tr><td>mths_since_recent_inq</td><td>66291                </td></tr>\n",
       "\t<tr><td>num_accts_ever_120_pd</td><td>0                    </td></tr>\n",
       "\t<tr><td>num_actv_bc_tl</td><td>0             </td></tr>\n",
       "\t<tr><td>num_actv_rev_tl</td><td>0              </td></tr>\n",
       "\t<tr><td>num_bc_sats</td><td>0          </td></tr>\n",
       "\t<tr><td>num_bc_tl</td><td>0        </td></tr>\n",
       "\t<tr><td>num_il_tl</td><td>0        </td></tr>\n",
       "\t<tr><td>num_op_rev_tl</td><td>0            </td></tr>\n",
       "\t<tr><td>num_rev_accts</td><td>1            </td></tr>\n",
       "\t<tr><td>num_rev_tl_bal_gt_0</td><td>0                  </td></tr>\n",
       "\t<tr><td>num_sats</td><td>0       </td></tr>\n",
       "\t<tr><td>num_tl_120dpd_2m</td><td>27090           </td></tr>\n",
       "\t<tr><td>num_tl_30dpd</td><td>0           </td></tr>\n",
       "\t<tr><td>num_tl_90g_dpd_24m</td><td>0                 </td></tr>\n",
       "\t<tr><td>num_tl_op_past_12m</td><td>0                 </td></tr>\n",
       "\t<tr><td>pct_tl_nvr_dlq</td><td>0             </td></tr>\n",
       "\t<tr><td>percent_bc_gt_75</td><td>6796            </td></tr>\n",
       "\t<tr><td>pub_rec_bankruptcies</td><td>0                   </td></tr>\n",
       "\t<tr><td>tax_liens</td><td>0        </td></tr>\n",
       "\t<tr><td>tot_hi_cred_lim</td><td>0              </td></tr>\n",
       "\t<tr><td>total_bal_ex_mort</td><td>0                </td></tr>\n",
       "\t<tr><td>total_bc_limit</td><td>0             </td></tr>\n",
       "\t<tr><td>total_il_high_credit_limit</td><td>0                         </td></tr>\n",
       "</tbody>\n",
       "</table>\n"
      ],
      "text/latex": [
       "\\begin{tabular}{ll}\n",
       "\t id & 0 \\\\\n",
       "\t member_id & 0        \\\\\n",
       "\t loan_amnt & 0        \\\\\n",
       "\t funded_amnt & 0          \\\\\n",
       "\t funded_amnt_inv & 0              \\\\\n",
       "\t term & 0   \\\\\n",
       "\t int_rate & 0       \\\\\n",
       "\t installment & 0          \\\\\n",
       "\t grade & 0    \\\\\n",
       "\t sub_grade & 0        \\\\\n",
       "\t emp_title & 37106    \\\\\n",
       "\t emp_length & 0         \\\\\n",
       "\t home_ownership & 0             \\\\\n",
       "\t annual_inc & 0         \\\\\n",
       "\t verification_status & 0                  \\\\\n",
       "\t issue_d & 0      \\\\\n",
       "\t loan_status & 0          \\\\\n",
       "\t pymnt_plan & 0         \\\\\n",
       "\t url & 0  \\\\\n",
       "\t purpose & 0      \\\\\n",
       "\t title & 132  \\\\\n",
       "\t zip_code & 0       \\\\\n",
       "\t addr_state & 0         \\\\\n",
       "\t dti & 0  \\\\\n",
       "\t delinq_2yrs & 0          \\\\\n",
       "\t earliest_cr_line & 0               \\\\\n",
       "\t inq_last_6mths & 0             \\\\\n",
       "\t open_acc & 0       \\\\\n",
       "\t pub_rec & 0      \\\\\n",
       "\t revol_bal & 0        \\\\\n",
       "\t revol_util & 287       \\\\\n",
       "\t total_acc & 0        \\\\\n",
       "\t initial_list_status & 0                  \\\\\n",
       "\t out_prncp & 0        \\\\\n",
       "\t out_prncp_inv & 0            \\\\\n",
       "\t total_pymnt & 0          \\\\\n",
       "\t total_pymnt_inv & 0              \\\\\n",
       "\t total_rec_prncp & 0              \\\\\n",
       "\t total_rec_int & 0            \\\\\n",
       "\t total_rec_late_fee & 0                 \\\\\n",
       "\t recoveries & 0         \\\\\n",
       "\t collection_recovery_fee & 0                      \\\\\n",
       "\t last_pymnt_d & 437         \\\\\n",
       "\t last_pymnt_amnt & 0              \\\\\n",
       "\t last_credit_pull_d & 35                \\\\\n",
       "\t collections_12_mths_ex_med & 0                         \\\\\n",
       "\t policy_code & 0          \\\\\n",
       "\t application_type & 0               \\\\\n",
       "\t acc_now_delinq & 0             \\\\\n",
       "\t tot_coll_amt & 0           \\\\\n",
       "\t tot_cur_bal & 0          \\\\\n",
       "\t total_rev_hi_lim & 0               \\\\\n",
       "\t acc_open_past_24mths & 0                   \\\\\n",
       "\t avg_cur_bal & 6          \\\\\n",
       "\t bc_open_to_buy & 6408          \\\\\n",
       "\t bc_util & 6838   \\\\\n",
       "\t chargeoff_within_12_mths & 0                       \\\\\n",
       "\t delinq_amnt & 0          \\\\\n",
       "\t mo_sin_old_il_acct & 19425             \\\\\n",
       "\t mo_sin_old_rev_tl_op & 0                   \\\\\n",
       "\t mo_sin_rcnt_rev_tl_op & 0                    \\\\\n",
       "\t mo_sin_rcnt_tl & 0             \\\\\n",
       "\t mort_acc & 0       \\\\\n",
       "\t mths_since_recent_bc & 6044                \\\\\n",
       "\t mths_since_recent_inq & 66291                \\\\\n",
       "\t num_accts_ever_120_pd & 0                    \\\\\n",
       "\t num_actv_bc_tl & 0             \\\\\n",
       "\t num_actv_rev_tl & 0              \\\\\n",
       "\t num_bc_sats & 0          \\\\\n",
       "\t num_bc_tl & 0        \\\\\n",
       "\t num_il_tl & 0        \\\\\n",
       "\t num_op_rev_tl & 0            \\\\\n",
       "\t num_rev_accts & 1            \\\\\n",
       "\t num_rev_tl_bal_gt_0 & 0                  \\\\\n",
       "\t num_sats & 0       \\\\\n",
       "\t num_tl_120dpd_2m & 27090           \\\\\n",
       "\t num_tl_30dpd & 0           \\\\\n",
       "\t num_tl_90g_dpd_24m & 0                 \\\\\n",
       "\t num_tl_op_past_12m & 0                 \\\\\n",
       "\t pct_tl_nvr_dlq & 0             \\\\\n",
       "\t percent_bc_gt_75 & 6796            \\\\\n",
       "\t pub_rec_bankruptcies & 0                   \\\\\n",
       "\t tax_liens & 0        \\\\\n",
       "\t tot_hi_cred_lim & 0              \\\\\n",
       "\t total_bal_ex_mort & 0                \\\\\n",
       "\t total_bc_limit & 0             \\\\\n",
       "\t total_il_high_credit_limit & 0                         \\\\\n",
       "\\end{tabular}\n"
      ],
      "text/markdown": [
       "1. \"id\"\n",
       "2. \"member_id\"\n",
       "3. \"loan_amnt\"\n",
       "4. \"funded_amnt\"\n",
       "5. \"funded_amnt_inv\"\n",
       "6. \"term\"\n",
       "7. \"int_rate\"\n",
       "8. \"installment\"\n",
       "9. \"grade\"\n",
       "10. \"sub_grade\"\n",
       "11. \"emp_title\"\n",
       "12. \"emp_length\"\n",
       "13. \"home_ownership\"\n",
       "14. \"annual_inc\"\n",
       "15. \"verification_status\"\n",
       "16. \"issue_d\"\n",
       "17. \"loan_status\"\n",
       "18. \"pymnt_plan\"\n",
       "19. \"url\"\n",
       "20. \"purpose\"\n",
       "21. \"title\"\n",
       "22. \"zip_code\"\n",
       "23. \"addr_state\"\n",
       "24. \"dti\"\n",
       "25. \"delinq_2yrs\"\n",
       "26. \"earliest_cr_line\"\n",
       "27. \"inq_last_6mths\"\n",
       "28. \"open_acc\"\n",
       "29. \"pub_rec\"\n",
       "30. \"revol_bal\"\n",
       "31. \"revol_util\"\n",
       "32. \"total_acc\"\n",
       "33. \"initial_list_status\"\n",
       "34. \"out_prncp\"\n",
       "35. \"out_prncp_inv\"\n",
       "36. \"total_pymnt\"\n",
       "37. \"total_pymnt_inv\"\n",
       "38. \"total_rec_prncp\"\n",
       "39. \"total_rec_int\"\n",
       "40. \"total_rec_late_fee\"\n",
       "41. \"recoveries\"\n",
       "42. \"collection_recovery_fee\"\n",
       "43. \"last_pymnt_d\"\n",
       "44. \"last_pymnt_amnt\"\n",
       "45. \"last_credit_pull_d\"\n",
       "46. \"collections_12_mths_ex_med\"\n",
       "47. \"policy_code\"\n",
       "48. \"application_type\"\n",
       "49. \"acc_now_delinq\"\n",
       "50. \"tot_coll_amt\"\n",
       "51. \"tot_cur_bal\"\n",
       "52. \"total_rev_hi_lim\"\n",
       "53. \"acc_open_past_24mths\"\n",
       "54. \"avg_cur_bal\"\n",
       "55. \"bc_open_to_buy\"\n",
       "56. \"bc_util\"\n",
       "57. \"chargeoff_within_12_mths\"\n",
       "58. \"delinq_amnt\"\n",
       "59. \"mo_sin_old_il_acct\"\n",
       "60. \"mo_sin_old_rev_tl_op\"\n",
       "61. \"mo_sin_rcnt_rev_tl_op\"\n",
       "62. \"mo_sin_rcnt_tl\"\n",
       "63. \"mort_acc\"\n",
       "64. \"mths_since_recent_bc\"\n",
       "65. \"mths_since_recent_inq\"\n",
       "66. \"num_accts_ever_120_pd\"\n",
       "67. \"num_actv_bc_tl\"\n",
       "68. \"num_actv_rev_tl\"\n",
       "69. \"num_bc_sats\"\n",
       "70. \"num_bc_tl\"\n",
       "71. \"num_il_tl\"\n",
       "72. \"num_op_rev_tl\"\n",
       "73. \"num_rev_accts\"\n",
       "74. \"num_rev_tl_bal_gt_0\"\n",
       "75. \"num_sats\"\n",
       "76. \"num_tl_120dpd_2m\"\n",
       "77. \"num_tl_30dpd\"\n",
       "78. \"num_tl_90g_dpd_24m\"\n",
       "79. \"num_tl_op_past_12m\"\n",
       "80. \"pct_tl_nvr_dlq\"\n",
       "81. \"percent_bc_gt_75\"\n",
       "82. \"pub_rec_bankruptcies\"\n",
       "83. \"tax_liens\"\n",
       "84. \"tot_hi_cred_lim\"\n",
       "85. \"total_bal_ex_mort\"\n",
       "86. \"total_bc_limit\"\n",
       "87. \"total_il_high_credit_limit\"\n",
       "88. \"0\"\n",
       "89. \"0\"\n",
       "90. \"0\"\n",
       "91. \"0\"\n",
       "92. \"0\"\n",
       "93. \"0\"\n",
       "94. \"0\"\n",
       "95. \"0\"\n",
       "96. \"0\"\n",
       "97. \"0\"\n",
       "98. \"37106\"\n",
       "99. \"0\"\n",
       "100. \"0\"\n",
       "101. \"0\"\n",
       "102. \"0\"\n",
       "103. \"0\"\n",
       "104. \"0\"\n",
       "105. \"0\"\n",
       "106. \"0\"\n",
       "107. \"0\"\n",
       "108. \"132\"\n",
       "109. \"0\"\n",
       "110. \"0\"\n",
       "111. \"0\"\n",
       "112. \"0\"\n",
       "113. \"0\"\n",
       "114. \"0\"\n",
       "115. \"0\"\n",
       "116. \"0\"\n",
       "117. \"0\"\n",
       "118. \"287\"\n",
       "119. \"0\"\n",
       "120. \"0\"\n",
       "121. \"0\"\n",
       "122. \"0\"\n",
       "123. \"0\"\n",
       "124. \"0\"\n",
       "125. \"0\"\n",
       "126. \"0\"\n",
       "127. \"0\"\n",
       "128. \"0\"\n",
       "129. \"0\"\n",
       "130. \"437\"\n",
       "131. \"0\"\n",
       "132. \"35\"\n",
       "133. \"0\"\n",
       "134. \"0\"\n",
       "135. \"0\"\n",
       "136. \"0\"\n",
       "137. \"0\"\n",
       "138. \"0\"\n",
       "139. \"0\"\n",
       "140. \"0\"\n",
       "141. \"6\"\n",
       "142. \"6408\"\n",
       "143. \"6838\"\n",
       "144. \"0\"\n",
       "145. \"0\"\n",
       "146. \"19425\"\n",
       "147. \"0\"\n",
       "148. \"0\"\n",
       "149. \"0\"\n",
       "150. \"0\"\n",
       "151. \"6044\"\n",
       "152. \"66291\"\n",
       "153. \"0\"\n",
       "154. \"0\"\n",
       "155. \"0\"\n",
       "156. \"0\"\n",
       "157. \"0\"\n",
       "158. \"0\"\n",
       "159. \"0\"\n",
       "160. \"1\"\n",
       "161. \"0\"\n",
       "162. \"0\"\n",
       "163. \"27090\"\n",
       "164. \"0\"\n",
       "165. \"0\"\n",
       "166. \"0\"\n",
       "167. \"0\"\n",
       "168. \"6796\"\n",
       "169. \"0\"\n",
       "170. \"0\"\n",
       "171. \"0\"\n",
       "172. \"0\"\n",
       "173. \"0\"\n",
       "174. \"0\"\n",
       "\n",
       "\n"
      ],
      "text/plain": [
       "      [,1]                         [,2]   \n",
       " [1,] \"id\"                         \"0\"    \n",
       " [2,] \"member_id\"                  \"0\"    \n",
       " [3,] \"loan_amnt\"                  \"0\"    \n",
       " [4,] \"funded_amnt\"                \"0\"    \n",
       " [5,] \"funded_amnt_inv\"            \"0\"    \n",
       " [6,] \"term\"                       \"0\"    \n",
       " [7,] \"int_rate\"                   \"0\"    \n",
       " [8,] \"installment\"                \"0\"    \n",
       " [9,] \"grade\"                      \"0\"    \n",
       "[10,] \"sub_grade\"                  \"0\"    \n",
       "[11,] \"emp_title\"                  \"37106\"\n",
       "[12,] \"emp_length\"                 \"0\"    \n",
       "[13,] \"home_ownership\"             \"0\"    \n",
       "[14,] \"annual_inc\"                 \"0\"    \n",
       "[15,] \"verification_status\"        \"0\"    \n",
       "[16,] \"issue_d\"                    \"0\"    \n",
       "[17,] \"loan_status\"                \"0\"    \n",
       "[18,] \"pymnt_plan\"                 \"0\"    \n",
       "[19,] \"url\"                        \"0\"    \n",
       "[20,] \"purpose\"                    \"0\"    \n",
       "[21,] \"title\"                      \"132\"  \n",
       "[22,] \"zip_code\"                   \"0\"    \n",
       "[23,] \"addr_state\"                 \"0\"    \n",
       "[24,] \"dti\"                        \"0\"    \n",
       "[25,] \"delinq_2yrs\"                \"0\"    \n",
       "[26,] \"earliest_cr_line\"           \"0\"    \n",
       "[27,] \"inq_last_6mths\"             \"0\"    \n",
       "[28,] \"open_acc\"                   \"0\"    \n",
       "[29,] \"pub_rec\"                    \"0\"    \n",
       "[30,] \"revol_bal\"                  \"0\"    \n",
       "[31,] \"revol_util\"                 \"287\"  \n",
       "[32,] \"total_acc\"                  \"0\"    \n",
       "[33,] \"initial_list_status\"        \"0\"    \n",
       "[34,] \"out_prncp\"                  \"0\"    \n",
       "[35,] \"out_prncp_inv\"              \"0\"    \n",
       "[36,] \"total_pymnt\"                \"0\"    \n",
       "[37,] \"total_pymnt_inv\"            \"0\"    \n",
       "[38,] \"total_rec_prncp\"            \"0\"    \n",
       "[39,] \"total_rec_int\"              \"0\"    \n",
       "[40,] \"total_rec_late_fee\"         \"0\"    \n",
       "[41,] \"recoveries\"                 \"0\"    \n",
       "[42,] \"collection_recovery_fee\"    \"0\"    \n",
       "[43,] \"last_pymnt_d\"               \"437\"  \n",
       "[44,] \"last_pymnt_amnt\"            \"0\"    \n",
       "[45,] \"last_credit_pull_d\"         \"35\"   \n",
       "[46,] \"collections_12_mths_ex_med\" \"0\"    \n",
       "[47,] \"policy_code\"                \"0\"    \n",
       "[48,] \"application_type\"           \"0\"    \n",
       "[49,] \"acc_now_delinq\"             \"0\"    \n",
       "[50,] \"tot_coll_amt\"               \"0\"    \n",
       "[51,] \"tot_cur_bal\"                \"0\"    \n",
       "[52,] \"total_rev_hi_lim\"           \"0\"    \n",
       "[53,] \"acc_open_past_24mths\"       \"0\"    \n",
       "[54,] \"avg_cur_bal\"                \"6\"    \n",
       "[55,] \"bc_open_to_buy\"             \"6408\" \n",
       "[56,] \"bc_util\"                    \"6838\" \n",
       "[57,] \"chargeoff_within_12_mths\"   \"0\"    \n",
       "[58,] \"delinq_amnt\"                \"0\"    \n",
       "[59,] \"mo_sin_old_il_acct\"         \"19425\"\n",
       "[60,] \"mo_sin_old_rev_tl_op\"       \"0\"    \n",
       "[61,] \"mo_sin_rcnt_rev_tl_op\"      \"0\"    \n",
       "[62,] \"mo_sin_rcnt_tl\"             \"0\"    \n",
       "[63,] \"mort_acc\"                   \"0\"    \n",
       "[64,] \"mths_since_recent_bc\"       \"6044\" \n",
       "[65,] \"mths_since_recent_inq\"      \"66291\"\n",
       "[66,] \"num_accts_ever_120_pd\"      \"0\"    \n",
       "[67,] \"num_actv_bc_tl\"             \"0\"    \n",
       "[68,] \"num_actv_rev_tl\"            \"0\"    \n",
       "[69,] \"num_bc_sats\"                \"0\"    \n",
       "[70,] \"num_bc_tl\"                  \"0\"    \n",
       "[71,] \"num_il_tl\"                  \"0\"    \n",
       "[72,] \"num_op_rev_tl\"              \"0\"    \n",
       "[73,] \"num_rev_accts\"              \"1\"    \n",
       "[74,] \"num_rev_tl_bal_gt_0\"        \"0\"    \n",
       "[75,] \"num_sats\"                   \"0\"    \n",
       "[76,] \"num_tl_120dpd_2m\"           \"27090\"\n",
       "[77,] \"num_tl_30dpd\"               \"0\"    \n",
       "[78,] \"num_tl_90g_dpd_24m\"         \"0\"    \n",
       "[79,] \"num_tl_op_past_12m\"         \"0\"    \n",
       "[80,] \"pct_tl_nvr_dlq\"             \"0\"    \n",
       "[81,] \"percent_bc_gt_75\"           \"6796\" \n",
       "[82,] \"pub_rec_bankruptcies\"       \"0\"    \n",
       "[83,] \"tax_liens\"                  \"0\"    \n",
       "[84,] \"tot_hi_cred_lim\"            \"0\"    \n",
       "[85,] \"total_bal_ex_mort\"          \"0\"    \n",
       "[86,] \"total_bc_limit\"             \"0\"    \n",
       "[87,] \"total_il_high_credit_limit\" \"0\"    "
      ]
     },
     "execution_count": 53,
     "metadata": {},
     "output_type": "execute_result"
    }
   ],
   "source": [
    "cbind(colnames(loan.hex), h2o.nacnt(loan.hex))"
   ]
  },
  {
   "cell_type": "code",
   "execution_count": 25,
   "metadata": {
    "collapsed": true
   },
   "outputs": [],
   "source": [
    "loan.hex = loan.hex[h2o.nacnt(loan.hex)<(nrow(loan.hex)*0.25)]"
   ]
  },
  {
   "cell_type": "markdown",
   "metadata": {},
   "source": [
    "### As per our analysis we found some set of columns as irrelevant to the target outcome, hence we are removing them and keeping what all are required"
   ]
  },
  {
   "cell_type": "code",
   "execution_count": 26,
   "metadata": {
    "collapsed": true
   },
   "outputs": [],
   "source": [
    "req_cols = c(\"id\",\"addr_state\",\t\"annual_inc\",\t\"application_type\",\t\"total_pymnt\", \"avg_cur_bal\",\t\"collections_12_mths_ex_med\",\t\"delinq_2yrs\",\t\"dti\",\t\"emp_length\",\t\"emp_title\",\t\"funded_amnt\",\t\"home_ownership\",\t\"inq_last_6mths\",\t\"installment\",\t\"int_rate\",\t\"loan_amnt\",\t\"mort_acc\",\t\"open_acc\",\t\"pub_rec\",\t\"purpose\",\t\"revol_bal\",\t\"revol_util\",\t\"term\",\t\"tot_hi_cred_lim\",\t\"total_acc\",\t\"total_bal_ex_mort\",\t\"verification_status\",\t\"loan_status\")\n"
   ]
  },
  {
   "cell_type": "code",
   "execution_count": 27,
   "metadata": {
    "collapsed": true
   },
   "outputs": [],
   "source": [
    "loan2.hex = loan.hex[colnames(loan.hex) %in% req_cols]"
   ]
  },
  {
   "cell_type": "code",
   "execution_count": 28,
   "metadata": {
    "collapsed": false
   },
   "outputs": [
    {
     "data": {
      "text/html": [
       "<ol class=list-inline>\n",
       "\t<li>\"id\"</li>\n",
       "\t<li>\"loan_amnt\"</li>\n",
       "\t<li>\"funded_amnt\"</li>\n",
       "\t<li>\"term\"</li>\n",
       "\t<li>\"int_rate\"</li>\n",
       "\t<li>\"installment\"</li>\n",
       "\t<li>\"emp_title\"</li>\n",
       "\t<li>\"emp_length\"</li>\n",
       "\t<li>\"home_ownership\"</li>\n",
       "\t<li>\"annual_inc\"</li>\n",
       "\t<li>\"verification_status\"</li>\n",
       "\t<li>\"loan_status\"</li>\n",
       "\t<li>\"purpose\"</li>\n",
       "\t<li>\"addr_state\"</li>\n",
       "\t<li>\"dti\"</li>\n",
       "\t<li>\"delinq_2yrs\"</li>\n",
       "\t<li>\"inq_last_6mths\"</li>\n",
       "\t<li>\"open_acc\"</li>\n",
       "\t<li>\"pub_rec\"</li>\n",
       "\t<li>\"revol_bal\"</li>\n",
       "\t<li>\"revol_util\"</li>\n",
       "\t<li>\"total_acc\"</li>\n",
       "\t<li>\"total_pymnt\"</li>\n",
       "\t<li>\"collections_12_mths_ex_med\"</li>\n",
       "\t<li>\"application_type\"</li>\n",
       "\t<li>\"avg_cur_bal\"</li>\n",
       "\t<li>\"mort_acc\"</li>\n",
       "\t<li>\"tot_hi_cred_lim\"</li>\n",
       "\t<li>\"total_bal_ex_mort\"</li>\n",
       "</ol>\n"
      ],
      "text/latex": [
       "\\begin{enumerate*}\n",
       "\\item \"id\"\n",
       "\\item \"loan_amnt\"\n",
       "\\item \"funded_amnt\"\n",
       "\\item \"term\"\n",
       "\\item \"int_rate\"\n",
       "\\item \"installment\"\n",
       "\\item \"emp_title\"\n",
       "\\item \"emp_length\"\n",
       "\\item \"home_ownership\"\n",
       "\\item \"annual_inc\"\n",
       "\\item \"verification_status\"\n",
       "\\item \"loan_status\"\n",
       "\\item \"purpose\"\n",
       "\\item \"addr_state\"\n",
       "\\item \"dti\"\n",
       "\\item \"delinq_2yrs\"\n",
       "\\item \"inq_last_6mths\"\n",
       "\\item \"open_acc\"\n",
       "\\item \"pub_rec\"\n",
       "\\item \"revol_bal\"\n",
       "\\item \"revol_util\"\n",
       "\\item \"total_acc\"\n",
       "\\item \"total_pymnt\"\n",
       "\\item \"collections_12_mths_ex_med\"\n",
       "\\item \"application_type\"\n",
       "\\item \"avg_cur_bal\"\n",
       "\\item \"mort_acc\"\n",
       "\\item \"tot_hi_cred_lim\"\n",
       "\\item \"total_bal_ex_mort\"\n",
       "\\end{enumerate*}\n"
      ],
      "text/markdown": [
       "1. \"id\"\n",
       "2. \"loan_amnt\"\n",
       "3. \"funded_amnt\"\n",
       "4. \"term\"\n",
       "5. \"int_rate\"\n",
       "6. \"installment\"\n",
       "7. \"emp_title\"\n",
       "8. \"emp_length\"\n",
       "9. \"home_ownership\"\n",
       "10. \"annual_inc\"\n",
       "11. \"verification_status\"\n",
       "12. \"loan_status\"\n",
       "13. \"purpose\"\n",
       "14. \"addr_state\"\n",
       "15. \"dti\"\n",
       "16. \"delinq_2yrs\"\n",
       "17. \"inq_last_6mths\"\n",
       "18. \"open_acc\"\n",
       "19. \"pub_rec\"\n",
       "20. \"revol_bal\"\n",
       "21. \"revol_util\"\n",
       "22. \"total_acc\"\n",
       "23. \"total_pymnt\"\n",
       "24. \"collections_12_mths_ex_med\"\n",
       "25. \"application_type\"\n",
       "26. \"avg_cur_bal\"\n",
       "27. \"mort_acc\"\n",
       "28. \"tot_hi_cred_lim\"\n",
       "29. \"total_bal_ex_mort\"\n",
       "\n",
       "\n"
      ],
      "text/plain": [
       " [1] \"id\"                         \"loan_amnt\"                 \n",
       " [3] \"funded_amnt\"                \"term\"                      \n",
       " [5] \"int_rate\"                   \"installment\"               \n",
       " [7] \"emp_title\"                  \"emp_length\"                \n",
       " [9] \"home_ownership\"             \"annual_inc\"                \n",
       "[11] \"verification_status\"        \"loan_status\"               \n",
       "[13] \"purpose\"                    \"addr_state\"                \n",
       "[15] \"dti\"                        \"delinq_2yrs\"               \n",
       "[17] \"inq_last_6mths\"             \"open_acc\"                  \n",
       "[19] \"pub_rec\"                    \"revol_bal\"                 \n",
       "[21] \"revol_util\"                 \"total_acc\"                 \n",
       "[23] \"total_pymnt\"                \"collections_12_mths_ex_med\"\n",
       "[25] \"application_type\"           \"avg_cur_bal\"               \n",
       "[27] \"mort_acc\"                   \"tot_hi_cred_lim\"           \n",
       "[29] \"total_bal_ex_mort\"         "
      ]
     },
     "execution_count": 28,
     "metadata": {},
     "output_type": "execute_result"
    }
   ],
   "source": [
    "colnames(loan2.hex)"
   ]
  },
  {
   "cell_type": "markdown",
   "metadata": {
    "collapsed": true
   },
   "source": [
    "##Classifying target variable into a good or bad loan based on historical records"
   ]
  },
  {
   "cell_type": "code",
   "execution_count": 29,
   "metadata": {
    "collapsed": false
   },
   "outputs": [
    {
     "name": "stderr",
     "output_type": "stream",
     "text": [
      "Warning message:\n",
      "In summary.H2OFrame(loan2.hex$loan_status): Approximated quantiles computed! If you are interested in exact quantiles, please pass the `exact_quantiles=TRUE` parameter."
     ]
    },
    {
     "data": {
      "text/plain": [
       " loan_status               \n",
       " Current           :439960 \n",
       " Fully Paid        :149224 \n",
       " Charged Off       : 43437 \n",
       " Late (31-120 days): 13514 \n",
       " In Grace Period   :  7698 \n",
       " Late (16-30 days) :  2788 "
      ]
     },
     "execution_count": 29,
     "metadata": {},
     "output_type": "execute_result"
    }
   ],
   "source": [
    "summary(loan2.hex$loan_status)"
   ]
  },
  {
   "cell_type": "code",
   "execution_count": 30,
   "metadata": {
    "collapsed": true
   },
   "outputs": [],
   "source": [
    "loan2.hex = loan2.hex[!(loan2.hex$loan_status %in% c(\"Current\", \"In Grace Period\", \"Late (16-30 days)\")), ]\n",
    "loan2.hex = loan2.hex[!is.na(loan2.hex$id),]\n",
    "loan2.hex$bad_loan = loan2.hex$loan_status %in% c(\"Charged Off\", \"Default\")\n",
    "loan2.hex$bad_loan = as.factor(loan2.hex$bad_loan)"
   ]
  },
  {
   "cell_type": "code",
   "execution_count": 31,
   "metadata": {
    "collapsed": false
   },
   "outputs": [
    {
     "name": "stderr",
     "output_type": "stream",
     "text": [
      "Warning message:\n",
      "In summary.H2OFrame(loan2.hex$bad_loan): Approximated quantiles computed! If you are interested in exact quantiles, please pass the `exact_quantiles=TRUE` parameter."
     ]
    },
    {
     "data": {
      "text/plain": [
       " bad_loan \n",
       " 0:162738 \n",
       " 1: 43540 "
      ]
     },
     "execution_count": 31,
     "metadata": {},
     "output_type": "execute_result"
    }
   ],
   "source": [
    "summary(loan2.hex$bad_loan)"
   ]
  },
  {
   "cell_type": "markdown",
   "metadata": {},
   "source": [
    "## Splitting dataset into train and test"
   ]
  },
  {
   "cell_type": "code",
   "execution_count": 32,
   "metadata": {
    "collapsed": true
   },
   "outputs": [],
   "source": [
    "# Splits data in prostate data frame with a ratio of 0.75\n",
    "loan.split <- h2o.splitFrame(data = loan2.hex ,ratios = 0.75)\n",
    "# Creates training set from 1st data set in split\n",
    "loan.train <- loan.split[[1]]\n",
    "# Creates testing set from 2st data set in split\n",
    "loan.test <- loan.split[[2]]"
   ]
  },
  {
   "cell_type": "markdown",
   "metadata": {},
   "source": [
    "## Building Models"
   ]
  },
  {
   "cell_type": "code",
   "execution_count": 33,
   "metadata": {
    "collapsed": true
   },
   "outputs": [],
   "source": [
    "target_loan = 'bad_loan'\n",
    "\n",
    "explanatory_loan = c(\"addr_state\",\"annual_inc\",\"application_type\",\"avg_cur_bal\",\"collections_12_mths_ex_med\",\t\"delinq_2yrs\",\t\"dti\",\t\"emp_length\",\t\"emp_title\",\t\"funded_amnt\",\t\"home_ownership\",\t\"inq_last_6mths\",\t\"installment\",\t\"int_rate\",\t\"loan_amnt\",\t\"mort_acc\",\t\"open_acc\",\t\"pub_rec\",\t\"purpose\",\t\"revol_bal\",\t\"revol_util\",\t\"term\",\t\"tot_hi_cred_lim\",\t\"total_acc\",\t\"total_bal_ex_mort\",\t\"verification_status\")\n"
   ]
  },
  {
   "cell_type": "markdown",
   "metadata": {},
   "source": [
    "### Gradient Boosting Machine"
   ]
  },
  {
   "cell_type": "code",
   "execution_count": 34,
   "metadata": {
    "collapsed": false
   },
   "outputs": [
    {
     "name": "stdout",
     "output_type": "stream",
     "text": [
      "\r",
      "  |                                                                            \r",
      "  |                                                                      |   0%\r",
      "  |                                                                            \r",
      "  |=                                                                     |   1%\r",
      "  |                                                                            \r",
      "  |=                                                                     |   2%\r",
      "  |                                                                            \r",
      "  |==                                                                    |   3%\r",
      "  |                                                                            \r",
      "  |====                                                                  |   5%\r",
      "  |                                                                            \r",
      "  |====                                                                  |   6%\r",
      "  |                                                                            \r",
      "  |=====                                                                 |   7%\r",
      "  |                                                                            \r",
      "  |======                                                                |   8%\r",
      "  |                                                                            \r",
      "  |======                                                                |   9%\r",
      "  |                                                                            \r",
      "  |=======                                                               |  10%\r",
      "  |                                                                            \r",
      "  |========                                                              |  11%\r",
      "  |                                                                            \r",
      "  |========                                                              |  12%\r",
      "  |                                                                            \r",
      "  |=========                                                             |  13%\r",
      "  |                                                                            \r",
      "  |==========                                                            |  14%\r",
      "  |                                                                            \r",
      "  |==========                                                            |  15%\r",
      "  |                                                                            \r",
      "  |===========                                                           |  16%\r",
      "  |                                                                            \r",
      "  |============                                                          |  17%\r",
      "  |                                                                            \r",
      "  |=============                                                         |  18%\r",
      "  |                                                                            \r",
      "  |=============                                                         |  19%\r",
      "  |                                                                            \r",
      "  |==============                                                        |  20%\r",
      "  |                                                                            \r",
      "  |===============                                                       |  21%\r",
      "  |                                                                            \r",
      "  |===============                                                       |  22%\r",
      "  |                                                                            \r",
      "  |================                                                      |  23%\r",
      "  |                                                                            \r",
      "  |=================                                                     |  24%\r",
      "  |                                                                            \r",
      "  |==================                                                    |  25%\r",
      "  |                                                                            \r",
      "  |==================                                                    |  26%\r",
      "  |                                                                            \r",
      "  |===================                                                   |  27%\r",
      "  |                                                                            \r",
      "  |====================                                                  |  28%\r",
      "  |                                                                            \r",
      "  |====================                                                  |  29%\r",
      "  |                                                                            \r",
      "  |=====================                                                 |  30%\r",
      "  |                                                                            \r",
      "  |======================                                                |  31%\r",
      "  |                                                                            \r",
      "  |======================                                                |  32%\r",
      "  |                                                                            \r",
      "  |=======================                                               |  33%\r",
      "  |                                                                            \r",
      "  |========================                                              |  34%\r",
      "  |                                                                            \r",
      "  |========================                                              |  35%\r",
      "  |                                                                            \r",
      "  |=========================                                             |  36%\r",
      "  |                                                                            \r",
      "  |==========================                                            |  37%\r",
      "  |                                                                            \r",
      "  |===========================                                           |  38%\r",
      "  |                                                                            \r",
      "  |===========================                                           |  39%\r",
      "  |                                                                            \r",
      "  |============================                                          |  40%\r",
      "  |                                                                            \r",
      "  |=============================                                         |  41%\r",
      "  |                                                                            \r",
      "  |=============================                                         |  42%\r",
      "  |                                                                            \r",
      "  |==============================                                        |  43%\r",
      "  |                                                                            \r",
      "  |===============================                                       |  44%\r",
      "  |                                                                            \r",
      "  |================================                                      |  45%\r",
      "  |                                                                            \r",
      "  |================================                                      |  46%\r",
      "  |                                                                            \r",
      "  |=================================                                     |  47%\r",
      "  |                                                                            \r",
      "  |==================================                                    |  48%\r",
      "  |                                                                            \r",
      "  |==================================                                    |  49%\r",
      "  |                                                                            \r",
      "  |===================================                                   |  50%\r",
      "  |                                                                            \r",
      "  |====================================                                  |  51%\r",
      "  |                                                                            \r",
      "  |====================================                                  |  52%\r",
      "  |                                                                            \r",
      "  |=====================================                                 |  53%\r",
      "  |                                                                            \r",
      "  |======================================                                |  54%\r",
      "  |                                                                            \r",
      "  |======================================                                |  55%\r",
      "  |                                                                            \r",
      "  |=======================================                               |  56%\r",
      "  |                                                                            \r",
      "  |========================================                              |  57%\r",
      "  |                                                                            \r",
      "  |=========================================                             |  58%\r",
      "  |                                                                            \r",
      "  |=========================================                             |  59%\r",
      "  |                                                                            \r",
      "  |==========================================                            |  60%\r",
      "  |                                                                            \r",
      "  |===========================================                           |  61%\r",
      "  |                                                                            \r",
      "  |===========================================                           |  62%\r",
      "  |                                                                            \r",
      "  |============================================                          |  63%\r",
      "  |                                                                            \r",
      "  |=============================================                         |  64%\r",
      "  |                                                                            \r",
      "  |==============================================                        |  65%\r",
      "  |                                                                            \r",
      "  |==============================================                        |  66%\r",
      "  |                                                                            \r",
      "  |===============================================                       |  67%\r",
      "  |                                                                            \r",
      "  |================================================                      |  68%\r",
      "  |                                                                            \r",
      "  |================================================                      |  69%\r",
      "  |                                                                            \r",
      "  |=================================================                     |  70%\r",
      "  |                                                                            \r",
      "  |==================================================                    |  71%\r",
      "  |                                                                            \r",
      "  |==================================================                    |  72%\r",
      "  |                                                                            \r",
      "  |===================================================                   |  73%\r",
      "  |                                                                            \r",
      "  |====================================================                  |  74%\r",
      "  |                                                                            \r",
      "  |====================================================                  |  75%\r",
      "  |                                                                            \r",
      "  |=====================================================                 |  76%\r",
      "  |                                                                            \r",
      "  |======================================================                |  77%\r",
      "  |                                                                            \r",
      "  |=======================================================               |  78%\r",
      "  |                                                                            \r",
      "  |=======================================================               |  79%\r",
      "  |                                                                            \r",
      "  |========================================================              |  80%\r",
      "  |                                                                            \r",
      "  |=========================================================             |  81%\r",
      "  |                                                                            \r",
      "  |=========================================================             |  82%\r",
      "  |                                                                            \r",
      "  |==========================================================            |  83%\r",
      "  |                                                                            \r",
      "  |===========================================================           |  84%\r",
      "  |                                                                            \r",
      "  |============================================================          |  85%\r",
      "  |                                                                            \r",
      "  |============================================================          |  86%\r",
      "  |                                                                            \r",
      "  |=============================================================         |  87%\r",
      "  |                                                                            \r",
      "  |==============================================================        |  88%\r",
      "  |                                                                            \r",
      "  |==============================================================        |  89%\r",
      "  |                                                                            \r",
      "  |===============================================================       |  90%\r",
      "  |                                                                            \r",
      "  |================================================================      |  91%\r",
      "  |                                                                            \r",
      "  |================================================================      |  92%\r",
      "  |                                                                            \r",
      "  |=================================================================     |  93%\r",
      "  |                                                                            \r",
      "  |==================================================================    |  94%\r",
      "  |                                                                            \r",
      "  |==================================================================    |  95%\r",
      "  |                                                                            \r",
      "  |===================================================================   |  96%\r",
      "  |                                                                            \r",
      "  |====================================================================  |  97%\r",
      "  |                                                                            \r",
      "  |===================================================================== |  98%\r",
      "  |                                                                            \r",
      "  |===================================================================== |  99%\r",
      "  |                                                                            \r",
      "  |======================================================================| 100%\n"
     ]
    }
   ],
   "source": [
    "gbm_model_loan <- h2o.gbm(x = explanatory_loan, y = target_loan, training_frame = loan.train, validation_frame = loan.test, \n",
    "                          balance_classes = T,learn_rate = 0.05, score_each_iteration = T, ntrees = 100, max_depth = 4)\n"
   ]
  },
  {
   "cell_type": "markdown",
   "metadata": {},
   "source": [
    "### Generalized Linear Model"
   ]
  },
  {
   "cell_type": "code",
   "execution_count": 35,
   "metadata": {
    "collapsed": false
   },
   "outputs": [
    {
     "name": "stdout",
     "output_type": "stream",
     "text": [
      "\r",
      "  |                                                                            \r",
      "  |                                                                      |   0%\r",
      "  |                                                                            \r",
      "  |=                                                                     |   1%\r",
      "  |                                                                            \r",
      "  |=======                                                               |  10%\r",
      "  |                                                                            \r",
      "  |==============                                                        |  19%\r",
      "  |                                                                            \r",
      "  |====================                                                  |  29%\r",
      "  |                                                                            \r",
      "  |==========================                                            |  38%\r",
      "  |                                                                            \r",
      "  |=================================                                     |  47%\r",
      "  |                                                                            \r",
      "  |==================================                                    |  48%\r",
      "  |                                                                            \r",
      "  |========================================                              |  58%\r",
      "  |                                                                            \r",
      "  |===============================================                       |  67%\r",
      "  |                                                                            \r",
      "  |======================================================                |  77%\r",
      "  |                                                                            \r",
      "  |============================================================          |  86%\r",
      "  |                                                                            \r",
      "  |==================================================================    |  95%\r",
      "  |                                                                            \r",
      "  |===================================================================   |  95%\r",
      "  |                                                                            \r",
      "  |======================================================================| 100%\n"
     ]
    }
   ],
   "source": [
    "glm_model_loan <- h2o.glm(x = explanatory_loan, y = target_loan, training_frame = loan.train, family = 'binomial',\n",
    "                          nfolds=10,alpha = 0.5)"
   ]
  },
  {
   "cell_type": "markdown",
   "metadata": {},
   "source": [
    "### Random Forests"
   ]
  },
  {
   "cell_type": "code",
   "execution_count": null,
   "metadata": {
    "collapsed": true
   },
   "outputs": [],
   "source": [
    "h2o.randomForest(x = explanatory_loan, y = target_loan, training_frame = loan.train, validation_frame = loan.test,\n",
    "                    ntrees = 50, max_depth = 5,nfolds = 10)"
   ]
  },
  {
   "cell_type": "markdown",
   "metadata": {},
   "source": [
    "### Deep Learning Model"
   ]
  },
  {
   "cell_type": "code",
   "execution_count": null,
   "metadata": {
    "collapsed": true
   },
   "outputs": [],
   "source": [
    "deeplearn_model_loan <- h2o.deeplearning(x = explanatory_loan, y = target_loan, training_frame = loan.train,validation_frame = loan.test)\n"
   ]
  },
  {
   "cell_type": "markdown",
   "metadata": {},
   "source": [
    "## Model Accuracy and Performance"
   ]
  },
  {
   "cell_type": "markdown",
   "metadata": {},
   "source": [
    "### Performance summary"
   ]
  },
  {
   "cell_type": "code",
   "execution_count": 36,
   "metadata": {
    "collapsed": false
   },
   "outputs": [
    {
     "data": {
      "text/plain": [
       "H2OBinomialMetrics: gbm\n",
       "\n",
       "MSE:  0.1498597\n",
       "RMSE:  0.3871171\n",
       "LogLoss:  0.4642893\n",
       "Mean Per-Class Error:  0.3404381\n",
       "AUC:  0.7201799\n",
       "Gini:  0.4403598\n",
       "\n",
       "Confusion Matrix for F1-optimal threshold:\n",
       "           0     1    Error           Rate\n",
       "0      80494 41502 0.340191  =41502/121996\n",
       "1      11107 21495 0.340685   =11107/32602\n",
       "Totals 91601 62997 0.340295  =52609/154598\n",
       "\n",
       "Maximum Metrics: Maximum metrics at their respective thresholds\n",
       "                        metric threshold    value idx\n",
       "1                       max f1  0.227045 0.449691 211\n",
       "2                       max f2  0.134548 0.613368 300\n",
       "3                 max f0point5  0.317524 0.412497 129\n",
       "4                 max accuracy  0.431266 0.792138  46\n",
       "5                max precision  0.530390 0.748344   7\n",
       "6                   max recall  0.028161 1.000000 398\n",
       "7              max specificity  0.585604 0.999975   0\n",
       "8             max absolute_mcc  0.252911 0.267836 187\n",
       "9   max min_per_class_accuracy  0.227045 0.659315 211\n",
       "10 max mean_per_class_accuracy  0.225897 0.659568 212\n",
       "\n",
       "Gains/Lift Table: Extract with `h2o.gainsLift(<model>, <data>)` or `h2o.gainsLift(<model>, valid=<T/F>, xval=<T/F>)`"
      ]
     },
     "execution_count": 36,
     "metadata": {},
     "output_type": "execute_result"
    }
   ],
   "source": [
    "h2o.performance(gbm_model_loan, newdata = loan.train)"
   ]
  },
  {
   "cell_type": "markdown",
   "metadata": {},
   "source": [
    "### To find AUC values"
   ]
  },
  {
   "cell_type": "code",
   "execution_count": 37,
   "metadata": {
    "collapsed": false
   },
   "outputs": [
    {
     "data": {
      "text/html": [
       "0.704457082277528"
      ],
      "text/latex": [
       "0.704457082277528"
      ],
      "text/markdown": [
       "0.704457082277528"
      ],
      "text/plain": [
       "[1] 0.7044571"
      ]
     },
     "execution_count": 37,
     "metadata": {},
     "output_type": "execute_result"
    }
   ],
   "source": [
    "h2o.auc(gbm_model_loan,valid = T)"
   ]
  },
  {
   "cell_type": "markdown",
   "metadata": {},
   "source": [
    "### To find important variables"
   ]
  },
  {
   "cell_type": "code",
   "execution_count": 38,
   "metadata": {
    "collapsed": false
   },
   "outputs": [
    {
     "data": {
      "text/html": [
       "<table>\n",
       "<thead><tr><th></th><th scope=col>variable</th><th scope=col>relative_importance</th><th scope=col>scaled_importance</th><th scope=col>percentage</th></tr></thead>\n",
       "<tbody>\n",
       "\t<tr><th scope=row>1</th><td>int_rate</td><td>57740.82</td><td>1</td><td>0.5999538</td></tr>\n",
       "\t<tr><th scope=row>2</th><td>dti</td><td>6815.277</td><td>0.1180322</td><td>0.07081388</td></tr>\n",
       "\t<tr><th scope=row>3</th><td>addr_state</td><td>6715.076</td><td>0.1162969</td><td>0.06977274</td></tr>\n",
       "\t<tr><th scope=row>4</th><td>home_ownership</td><td>6417.984</td><td>0.1111516</td><td>0.06668582</td></tr>\n",
       "\t<tr><th scope=row>5</th><td>emp_title</td><td>4017.023</td><td>0.06956991</td><td>0.04173873</td></tr>\n",
       "\t<tr><th scope=row>6</th><td>avg_cur_bal</td><td>2368.915</td><td>0.04102669</td><td>0.02461412</td></tr>\n",
       "\t<tr><th scope=row>7</th><td>mort_acc</td><td>2075.028</td><td>0.03593693</td><td>0.0215605</td></tr>\n",
       "\t<tr><th scope=row>8</th><td>revol_util</td><td>1904.911</td><td>0.03299071</td><td>0.0197929</td></tr>\n",
       "\t<tr><th scope=row>9</th><td>emp_length</td><td>1377.512</td><td>0.02385682</td><td>0.01431299</td></tr>\n",
       "\t<tr><th scope=row>10</th><td>annual_inc</td><td>1287.76</td><td>0.02230243</td><td>0.01338043</td></tr>\n",
       "\t<tr><th scope=row>11</th><td>loan_amnt</td><td>1254.637</td><td>0.02172878</td><td>0.01303626</td></tr>\n",
       "\t<tr><th scope=row>12</th><td>installment</td><td>1025.796</td><td>0.01776553</td><td>0.0106585</td></tr>\n",
       "\t<tr><th scope=row>13</th><td>term</td><td>1016.706</td><td>0.01760809</td><td>0.01056404</td></tr>\n",
       "\t<tr><th scope=row>14</th><td>tot_hi_cred_lim</td><td>760.6075</td><td>0.01317279</td><td>0.007903063</td></tr>\n",
       "\t<tr><th scope=row>15</th><td>delinq_2yrs</td><td>467.9534</td><td>0.008104377</td><td>0.004862252</td></tr>\n",
       "\t<tr><th scope=row>16</th><td>total_acc</td><td>364.5408</td><td>0.006313399</td><td>0.003787748</td></tr>\n",
       "\t<tr><th scope=row>17</th><td>purpose</td><td>270.4157</td><td>0.004683268</td><td>0.002809744</td></tr>\n",
       "\t<tr><th scope=row>18</th><td>inq_last_6mths</td><td>130.8074</td><td>0.002265424</td><td>0.00135915</td></tr>\n",
       "\t<tr><th scope=row>19</th><td>revol_bal</td><td>88.84828</td><td>0.001538743</td><td>0.0009231747</td></tr>\n",
       "\t<tr><th scope=row>20</th><td>open_acc</td><td>50.16521</td><td>0.0008687997</td><td>0.0005212397</td></tr>\n",
       "\t<tr><th scope=row>21</th><td>total_bal_ex_mort</td><td>34.07587</td><td>0.0005901521</td><td>0.000354064</td></tr>\n",
       "\t<tr><th scope=row>22</th><td>pub_rec</td><td>29.99911</td><td>0.0005195477</td><td>0.0003117046</td></tr>\n",
       "\t<tr><th scope=row>23</th><td>verification_status</td><td>27.25061</td><td>0.0004719471</td><td>0.0002831464</td></tr>\n",
       "\t<tr><th scope=row>24</th><td>funded_amnt</td><td>0</td><td>0</td><td>0</td></tr>\n",
       "\t<tr><th scope=row>25</th><td>collections_12_mths_ex_med</td><td>0</td><td>0</td><td>0</td></tr>\n",
       "\t<tr><th scope=row>26</th><td>application_type</td><td>0</td><td>0</td><td>0</td></tr>\n",
       "</tbody>\n",
       "</table>\n"
      ],
      "text/latex": [
       "\\begin{tabular}{r|llll}\n",
       "  & variable & relative_importance & scaled_importance & percentage\\\\\n",
       "\\hline\n",
       "\t1 & int_rate & 57740.82 & 1 & 0.5999538\\\\\n",
       "\t2 & dti & 6815.277 & 0.1180322 & 0.07081388\\\\\n",
       "\t3 & addr_state & 6715.076 & 0.1162969 & 0.06977274\\\\\n",
       "\t4 & home_ownership & 6417.984 & 0.1111516 & 0.06668582\\\\\n",
       "\t5 & emp_title & 4017.023 & 0.06956991 & 0.04173873\\\\\n",
       "\t6 & avg_cur_bal & 2368.915 & 0.04102669 & 0.02461412\\\\\n",
       "\t7 & mort_acc & 2075.028 & 0.03593693 & 0.0215605\\\\\n",
       "\t8 & revol_util & 1904.911 & 0.03299071 & 0.0197929\\\\\n",
       "\t9 & emp_length & 1377.512 & 0.02385682 & 0.01431299\\\\\n",
       "\t10 & annual_inc & 1287.76 & 0.02230243 & 0.01338043\\\\\n",
       "\t11 & loan_amnt & 1254.637 & 0.02172878 & 0.01303626\\\\\n",
       "\t12 & installment & 1025.796 & 0.01776553 & 0.0106585\\\\\n",
       "\t13 & term & 1016.706 & 0.01760809 & 0.01056404\\\\\n",
       "\t14 & tot_hi_cred_lim & 760.6075 & 0.01317279 & 0.007903063\\\\\n",
       "\t15 & delinq_2yrs & 467.9534 & 0.008104377 & 0.004862252\\\\\n",
       "\t16 & total_acc & 364.5408 & 0.006313399 & 0.003787748\\\\\n",
       "\t17 & purpose & 270.4157 & 0.004683268 & 0.002809744\\\\\n",
       "\t18 & inq_last_6mths & 130.8074 & 0.002265424 & 0.00135915\\\\\n",
       "\t19 & revol_bal & 88.84828 & 0.001538743 & 0.0009231747\\\\\n",
       "\t20 & open_acc & 50.16521 & 0.0008687997 & 0.0005212397\\\\\n",
       "\t21 & total_bal_ex_mort & 34.07587 & 0.0005901521 & 0.000354064\\\\\n",
       "\t22 & pub_rec & 29.99911 & 0.0005195477 & 0.0003117046\\\\\n",
       "\t23 & verification_status & 27.25061 & 0.0004719471 & 0.0002831464\\\\\n",
       "\t24 & funded_amnt & 0 & 0 & 0\\\\\n",
       "\t25 & collections_12_mths_ex_med & 0 & 0 & 0\\\\\n",
       "\t26 & application_type & 0 & 0 & 0\\\\\n",
       "\\end{tabular}\n"
      ],
      "text/plain": [
       "Variable Importances: \n",
       "        variable relative_importance scaled_importance percentage\n",
       "1       int_rate        57740.820312          1.000000   0.599954\n",
       "2            dti         6815.276855          0.118032   0.070814\n",
       "3     addr_state         6715.075684          0.116297   0.069773\n",
       "4 home_ownership         6417.984375          0.111152   0.066686\n",
       "5      emp_title         4017.023438          0.069570   0.041739\n",
       "\n",
       "---\n",
       "                     variable relative_importance scaled_importance percentage\n",
       "21          total_bal_ex_mort           34.075867          0.000590   0.000354\n",
       "22                    pub_rec           29.999111          0.000520   0.000312\n",
       "23        verification_status           27.250610          0.000472   0.000283\n",
       "24                funded_amnt            0.000000          0.000000   0.000000\n",
       "25 collections_12_mths_ex_med            0.000000          0.000000   0.000000\n",
       "26           application_type            0.000000          0.000000   0.000000"
      ]
     },
     "execution_count": 38,
     "metadata": {},
     "output_type": "execute_result"
    }
   ],
   "source": [
    "h2o.varimp(gbm_model_loan)"
   ]
  },
  {
   "cell_type": "markdown",
   "metadata": {},
   "source": [
    "### Scoring history of different models as the tree increases"
   ]
  },
  {
   "cell_type": "code",
   "execution_count": 51,
   "metadata": {
    "collapsed": false
   },
   "outputs": [
    {
     "data": {
      "text/html": [
       "<table>\n",
       "<thead><tr><th></th><th scope=col>timestamp</th><th scope=col>duration</th><th scope=col>number_of_trees</th><th scope=col>training_rmse</th><th scope=col>training_logloss</th><th scope=col>training_auc</th><th scope=col>training_lift</th><th scope=col>training_classification_error</th><th scope=col>validation_rmse</th><th scope=col>validation_logloss</th></tr></thead>\n",
       "<tbody>\n",
       "\t<tr><th scope=row>1</th><td>2016-10-12 16:10:08</td><td> 0.047 sec</td><td>0</td><td>0.5776967</td><td>0.896977</td><td>0.5</td><td>1</td><td>0.4997501</td><td>0.4084777</td><td>0.5161345</td></tr>\n",
       "\t<tr><th scope=row>2</th><td>2016-10-12 16:10:11</td><td> 3.012 sec</td><td>1</td><td>0.5762253</td><td>0.8919377</td><td>0.679402</td><td>2.03438</td><td>0.3950163</td><td>0.4071775</td><td>0.5129331</td></tr>\n",
       "\t<tr><th scope=row>3</th><td>2016-10-12 16:10:12</td><td> 4.257 sec</td><td>2</td><td>0.5748819</td><td>0.8874451</td><td>0.6812386</td><td>2.048898</td><td>0.3919275</td><td>0.4060544</td><td>0.5101452</td></tr>\n",
       "\t<tr><th scope=row>4</th><td>2016-10-12 16:10:13</td><td> 5.005 sec</td><td>3</td><td>0.5735567</td><td>0.8831172</td><td>0.6856159</td><td>2.118074</td><td>0.3910796</td><td>0.4050097</td><td>0.507543</td></tr>\n",
       "\t<tr><th scope=row>5</th><td>2016-10-12 16:10:14</td><td> 5.795 sec</td><td>4</td><td>0.5723548</td><td>0.8792863</td><td>0.6852291</td><td>2.116002</td><td>0.3959503</td><td>0.4041149</td><td>0.5052947</td></tr>\n",
       "\t<tr><th scope=row>6</th><td>2016-10-12 16:10:15</td><td> 6.689 sec</td><td>5</td><td>0.5711429</td><td>0.8755102</td><td>0.6875508</td><td>2.270332</td><td>0.3933736</td><td>0.4032232</td><td>0.5030643</td></tr>\n",
       "\t<tr><th scope=row>7</th><td>2016-10-12 16:10:16</td><td> 7.557 sec</td><td>6</td><td>0.5700527</td><td>0.8721733</td><td>0.6882994</td><td>2.266115</td><td>0.4011568</td><td>0.402484</td><td>0.5011831</td></tr>\n",
       "\t<tr><th scope=row>8</th><td>2016-10-12 16:10:16</td><td> 8.396 sec</td><td>7</td><td>0.5689891</td><td>0.868993</td><td>0.6890233</td><td>2.269339</td><td>0.3957372</td><td>0.4017963</td><td>0.4994367</td></tr>\n",
       "\t<tr><th scope=row>9</th><td>2016-10-12 16:10:17</td><td> 9.393 sec</td><td>8</td><td>0.567964</td><td>0.865995</td><td>0.6898778</td><td>2.270647</td><td>0.3937914</td><td>0.4011481</td><td>0.4977954</td></tr>\n",
       "\t<tr><th scope=row>10</th><td>2016-10-12 16:10:19</td><td>10.868 sec</td><td>9</td><td>0.5670319</td><td>0.8633094</td><td>0.6899298</td><td>2.257939</td><td>0.3956512</td><td>0.4005966</td><td>0.4963688</td></tr>\n",
       "\t<tr><th scope=row>11</th><td>2016-10-12 16:10:20</td><td>12.104 sec</td><td>10</td><td>0.5660827</td><td>0.8606441</td><td>0.6908579</td><td>2.282012</td><td>0.3905716</td><td>0.4000356</td><td>0.4949478</td></tr>\n",
       "\t<tr><th scope=row>12</th><td>2016-10-12 16:10:22</td><td>13.453 sec</td><td>11</td><td>0.5652436</td><td>0.8583433</td><td>0.6907475</td><td>2.282438</td><td>0.385787</td><td>0.399581</td><td>0.4937795</td></tr>\n",
       "\t<tr><th scope=row>13</th><td>2016-10-12 16:10:23</td><td>14.897 sec</td><td>12</td><td>0.5644254</td><td>0.8561137</td><td>0.6909235</td><td>2.283292</td><td>0.3835421</td><td>0.3991565</td><td>0.4926714</td></tr>\n",
       "\t<tr><th scope=row>14</th><td>2016-10-12 16:10:25</td><td>16.456 sec</td><td>13</td><td>0.5635283</td><td>0.8537371</td><td>0.6922856</td><td>2.4391</td><td>0.3856108</td><td>0.3986728</td><td>0.4914693</td></tr>\n",
       "\t<tr><th scope=row>15</th><td>2016-10-12 16:10:26</td><td>18.134 sec</td><td>14</td><td>0.5627478</td><td>0.8516853</td><td>0.6932301</td><td>2.437778</td><td>0.3848653</td><td>0.3982807</td><td>0.490472</td></tr>\n",
       "\t<tr><th scope=row>16</th><td>2016-10-12 16:10:28</td><td>19.828 sec</td><td>15</td><td>0.5619454</td><td>0.8496165</td><td>0.6945175</td><td>2.451442</td><td>0.3906535</td><td>0.3978837</td><td>0.4894868</td></tr>\n",
       "\t<tr><th scope=row>17</th><td>2016-10-12 16:10:30</td><td>21.693 sec</td><td>16</td><td>0.5611773</td><td>0.8476612</td><td>0.69581</td><td>2.449657</td><td>0.3882694</td><td>0.397509</td><td>0.4885636</td></tr>\n",
       "\t<tr><th scope=row>18</th><td>2016-10-12 16:10:32</td><td>23.517 sec</td><td>17</td><td>0.5604837</td><td>0.8459385</td><td>0.6960118</td><td>2.446114</td><td>0.3884701</td><td>0.3972175</td><td>0.4878131</td></tr>\n",
       "\t<tr><th scope=row>19</th><td>2016-10-12 16:10:34</td><td>25.424 sec</td><td>18</td><td>0.5598262</td><td>0.8443256</td><td>0.6960587</td><td>2.446056</td><td>0.3895721</td><td>0.3969493</td><td>0.4871149</td></tr>\n",
       "\t<tr><th scope=row>20</th><td>2016-10-12 16:10:35</td><td>27.354 sec</td><td>19</td><td>0.5591283</td><td>0.8426591</td><td>0.696696</td><td>2.465188</td><td>0.3864465</td><td>0.3966436</td><td>0.4863682</td></tr>\n",
       "\t<tr><th scope=row>21</th><td>2016-10-12 16:10:37</td><td>29.308 sec</td><td>20</td><td>0.5584833</td><td>0.8411294</td><td>0.6971614</td><td>2.471255</td><td>0.3899203</td><td>0.3963749</td><td>0.4857022</td></tr>\n",
       "\t<tr><th scope=row>22</th><td>2016-10-12 16:10:39</td><td>31.210 sec</td><td>21</td><td>0.5579403</td><td>0.8398565</td><td>0.6971794</td><td>2.474076</td><td>0.3897523</td><td>0.3961653</td><td>0.4851757</td></tr>\n",
       "\t<tr><th scope=row>23</th><td>2016-10-12 16:10:41</td><td>33.262 sec</td><td>22</td><td>0.5573307</td><td>0.8384365</td><td>0.6979069</td><td>2.479504</td><td>0.3879417</td><td>0.3959128</td><td>0.4845545</td></tr>\n",
       "\t<tr><th scope=row>24</th><td>2016-10-12 16:10:44</td><td>36.078 sec</td><td>23</td><td>0.556739</td><td>0.837082</td><td>0.6983511</td><td>2.481955</td><td>0.388081</td><td>0.3956701</td><td>0.4839645</td></tr>\n",
       "\t<tr><th scope=row>25</th><td>2016-10-12 16:10:46</td><td>38.170 sec</td><td>24</td><td>0.5562</td><td>0.8358886</td><td>0.6986956</td><td>2.482819</td><td>0.3841648</td><td>0.3954742</td><td>0.4834851</td></tr>\n",
       "\t<tr><th scope=row>26</th><td>2016-10-12 16:10:48</td><td>40.392 sec</td><td>25</td><td>0.5557183</td><td>0.8347973</td><td>0.6990342</td><td>2.482819</td><td>0.3836937</td><td>0.3952944</td><td>0.4830302</td></tr>\n",
       "\t<tr><th scope=row>27</th><td>2016-10-12 16:10:51</td><td>42.555 sec</td><td>26</td><td>0.5551995</td><td>0.8336247</td><td>0.6996527</td><td>2.481128</td><td>0.3825426</td><td>0.3950927</td><td>0.4825499</td></tr>\n",
       "\t<tr><th scope=row>28</th><td>2016-10-12 16:10:53</td><td>44.753 sec</td><td>27</td><td>0.5546785</td><td>0.8324885</td><td>0.7000418</td><td>2.492135</td><td>0.3821493</td><td>0.394913</td><td>0.4821201</td></tr>\n",
       "\t<tr><th scope=row>29</th><td>2016-10-12 16:10:55</td><td>46.979 sec</td><td>28</td><td>0.5542015</td><td>0.8314413</td><td>0.7004308</td><td>2.506906</td><td>0.3823664</td><td>0.3947325</td><td>0.4816874</td></tr>\n",
       "\t<tr><th scope=row>30</th><td>2016-10-12 16:10:57</td><td>49.241 sec</td><td>29</td><td>0.5537362</td><td>0.8304451</td><td>0.7010095</td><td>2.539152</td><td>0.3836691</td><td>0.3945472</td><td>0.4812632</td></tr>\n",
       "\t<tr><th scope=row>31</th><td>2016-10-12 16:11:00</td><td>51.788 sec</td><td>30</td><td>0.5533698</td><td>0.8296233</td><td>0.7013017</td><td>2.541748</td><td>0.3819609</td><td>0.3944294</td><td>0.4809553</td></tr>\n",
       "\t<tr><th scope=row>32</th><td>2016-10-12 16:11:03</td><td>54.675 sec</td><td>31</td><td>0.5529208</td><td>0.8286877</td><td>0.7017804</td><td>2.615</td><td>0.3830915</td><td>0.394262</td><td>0.4805797</td></tr>\n",
       "\t<tr><th scope=row>33</th><td>2016-10-12 16:11:06</td><td>57.612 sec</td><td>32</td><td>0.5524861</td><td>0.8277697</td><td>0.7020858</td><td>2.610656</td><td>0.3822067</td><td>0.394114</td><td>0.4802349</td></tr>\n",
       "\t<tr><th scope=row>34</th><td>2016-10-12 16:11:09</td><td> 1 min  0.588 sec</td><td>33</td><td>0.5521053</td><td>0.8269215</td><td>0.7025614</td><td>2.640882</td><td>0.3808917</td><td>0.3939923</td><td>0.4799367</td></tr>\n",
       "\t<tr><th scope=row>35</th><td>2016-10-12 16:11:12</td><td> 1 min  3.565 sec</td><td>34</td><td>0.5517119</td><td>0.8261045</td><td>0.7030852</td><td>2.648118</td><td>0.3811989</td><td>0.3938468</td><td>0.4796081</td></tr>\n",
       "\t<tr><th scope=row>36</th><td>2016-10-12 16:11:15</td><td> 1 min  6.547 sec</td><td>35</td><td>0.5513508</td><td>0.8253202</td><td>0.7034155</td><td>2.642368</td><td>0.3808426</td><td>0.3937329</td><td>0.4793258</td></tr>\n",
       "\t<tr><th scope=row>37</th><td>2016-10-12 16:11:18</td><td> 1 min  9.575 sec</td><td>36</td><td>0.5509621</td><td>0.8245298</td><td>0.7038153</td><td>2.673085</td><td>0.3810392</td><td>0.3936026</td><td>0.4790316</td></tr>\n",
       "\t<tr><th scope=row>38</th><td>2016-10-12 16:11:21</td><td> 1 min 12.594 sec</td><td>37</td><td>0.5505971</td><td>0.8237674</td><td>0.7042768</td><td>2.696119</td><td>0.3806459</td><td>0.3934672</td><td>0.478723</td></tr>\n",
       "\t<tr><th scope=row>39</th><td>2016-10-12 16:11:24</td><td> 1 min 15.644 sec</td><td>38</td><td>0.5502634</td><td>0.8230608</td><td>0.7046666</td><td>2.66147</td><td>0.3807115</td><td>0.3933514</td><td>0.4784499</td></tr>\n",
       "\t<tr><th scope=row>40</th><td>2016-10-12 16:11:27</td><td> 1 min 18.781 sec</td><td>39</td><td>0.5499404</td><td>0.8223635</td><td>0.7052653</td><td>2.678067</td><td>0.3788312</td><td>0.3932199</td><td>0.4781541</td></tr>\n",
       "\t<tr><th scope=row>41</th><td>2016-10-12 16:11:30</td><td> 1 min 22.094 sec</td><td>40</td><td>0.5496479</td><td>0.8217692</td><td>0.7055321</td><td>2.680634</td><td>0.3815512</td><td>0.3931433</td><td>0.4779714</td></tr>\n",
       "\t<tr><th scope=row>42</th><td>2016-10-12 16:11:33</td><td> 1 min 25.208 sec</td><td>41</td><td>0.5493397</td><td>0.8211172</td><td>0.706067</td><td>2.67905</td><td>0.381072</td><td>0.3930248</td><td>0.4777099</td></tr>\n",
       "\t<tr><th scope=row>43</th><td>2016-10-12 16:11:37</td><td> 1 min 28.486 sec</td><td>42</td><td>0.5490458</td><td>0.8204777</td><td>0.7064208</td><td>2.689984</td><td>0.3815226</td><td>0.3929247</td><td>0.4774749</td></tr>\n",
       "\t<tr><th scope=row>44</th><td>2016-10-12 16:11:40</td><td> 1 min 31.953 sec</td><td>43</td><td>0.5487647</td><td>0.819872</td><td>0.7069118</td><td>2.676826</td><td>0.3825139</td><td>0.3928027</td><td>0.4772025</td></tr>\n",
       "\t<tr><th scope=row>45</th><td>2016-10-12 16:11:43</td><td> 1 min 35.352 sec</td><td>44</td><td>0.5484907</td><td>0.8192672</td><td>0.7073943</td><td>2.68518</td><td>0.3835749</td><td>0.3927009</td><td>0.4769631</td></tr>\n",
       "\t<tr><th scope=row>46</th><td>2016-10-12 16:11:47</td><td> 1 min 38.764 sec</td><td>45</td><td>0.5482002</td><td>0.8187037</td><td>0.7076121</td><td>2.701825</td><td>0.3830587</td><td>0.3926085</td><td>0.4767693</td></tr>\n",
       "\t<tr><th scope=row>47</th><td>2016-10-12 16:11:50</td><td> 1 min 42.249 sec</td><td>46</td><td>0.5479564</td><td>0.8181806</td><td>0.7080035</td><td>2.717142</td><td>0.3835626</td><td>0.3925156</td><td>0.4765545</td></tr>\n",
       "\t<tr><th scope=row>48</th><td>2016-10-12 16:11:54</td><td> 1 min 45.736 sec</td><td>47</td><td>0.5477096</td><td>0.8176504</td><td>0.7084739</td><td>2.720657</td><td>0.3838371</td><td>0.3924172</td><td>0.4763378</td></tr>\n",
       "\t<tr><th scope=row>49</th><td>2016-10-12 16:11:57</td><td> 1 min 49.394 sec</td><td>48</td><td>0.5474716</td><td>0.8171364</td><td>0.7088856</td><td>2.735993</td><td>0.3825016</td><td>0.3923364</td><td>0.4761516</td></tr>\n",
       "\t<tr><th scope=row>50</th><td>2016-10-12 16:12:01</td><td> 1 min 53.235 sec</td><td>49</td><td>0.5472387</td><td>0.8166406</td><td>0.7092156</td><td>2.749551</td><td>0.3791343</td><td>0.3922558</td><td>0.4759699</td></tr>\n",
       "\t<tr><th scope=row>51</th><td>2016-10-12 16:12:05</td><td> 1 min 56.963 sec</td><td>50</td><td>0.5470095</td><td>0.8161385</td><td>0.7094749</td><td>2.757464</td><td>0.3762463</td><td>0.3921821</td><td>0.4757913</td></tr>\n",
       "\t<tr><th scope=row>52</th><td>2016-10-12 16:12:09</td><td> 2 min  0.558 sec</td><td>51</td><td>0.5468071</td><td>0.8157053</td><td>0.7098367</td><td>2.761812</td><td>0.3764635</td><td>0.392113</td><td>0.4756392</td></tr>\n",
       "\t<tr><th scope=row>53</th><td>2016-10-12 16:12:13</td><td> 2 min  4.431 sec</td><td>52</td><td>0.5465772</td><td>0.8152499</td><td>0.7100918</td><td>2.745195</td><td>0.3746282</td><td>0.39204</td><td>0.4754833</td></tr>\n",
       "\t<tr><th scope=row>54</th><td>2016-10-12 16:12:17</td><td> 2 min  8.432 sec</td><td>53</td><td>0.5463885</td><td>0.8148395</td><td>0.7104256</td><td>2.761812</td><td>0.3750707</td><td>0.391983</td><td>0.475348</td></tr>\n",
       "\t<tr><th scope=row>55</th><td>2016-10-12 16:12:21</td><td> 2 min 12.557 sec</td><td>54</td><td>0.546179</td><td>0.814384</td><td>0.7106237</td><td>2.763091</td><td>0.3743743</td><td>0.3919265</td><td>0.4752103</td></tr>\n",
       "\t<tr><th scope=row>56</th><td>2016-10-12 16:12:25</td><td> 2 min 16.703 sec</td><td>55</td><td>0.5459814</td><td>0.8139627</td><td>0.7109439</td><td>2.760531</td><td>0.3763733</td><td>0.391862</td><td>0.4750627</td></tr>\n",
       "\t<tr><th scope=row>57</th><td>2016-10-12 16:12:29</td><td> 2 min 20.685 sec</td><td>56</td><td>0.5457636</td><td>0.8135186</td><td>0.7112596</td><td>2.748262</td><td>0.3759022</td><td>0.3917971</td><td>0.4749192</td></tr>\n",
       "\t<tr><th scope=row>58</th><td>2016-10-12 16:12:33</td><td> 2 min 24.799 sec</td><td>57</td><td>0.5455926</td><td>0.8131444</td><td>0.7115144</td><td>2.755681</td><td>0.3766109</td><td>0.3917473</td><td>0.4748014</td></tr>\n",
       "\t<tr><th scope=row>59</th><td>2016-10-12 16:12:37</td><td> 2 min 29.005 sec</td><td>58</td><td>0.5454074</td><td>0.8127883</td><td>0.711687</td><td>2.764877</td><td>0.3780365</td><td>0.3916957</td><td>0.4746916</td></tr>\n",
       "\t<tr><th scope=row>60</th><td>2016-10-12 16:12:42</td><td> 2 min 33.422 sec</td><td>59</td><td>0.5452479</td><td>0.812415</td><td>0.7120507</td><td>2.775867</td><td>0.3779955</td><td>0.3916414</td><td>0.4745626</td></tr>\n",
       "\t<tr><th scope=row>61</th><td>2016-10-12 16:12:46</td><td> 2 min 37.847 sec</td><td>60</td><td>0.5450377</td><td>0.8120056</td><td>0.7122782</td><td>2.769733</td><td>0.3778399</td><td>0.3915861</td><td>0.4744369</td></tr>\n",
       "\t<tr><th scope=row>62</th><td>2016-10-12 16:12:51</td><td> 2 min 42.705 sec</td><td>61</td><td>0.5448513</td><td>0.8116229</td><td>0.712556</td><td>2.763598</td><td>0.378102</td><td>0.3915234</td><td>0.4742976</td></tr>\n",
       "\t<tr><th scope=row>63</th><td>2016-10-12 16:12:56</td><td> 2 min 47.534 sec</td><td>62</td><td>0.5447181</td><td>0.8113149</td><td>0.7128673</td><td>2.7728</td><td>0.3782044</td><td>0.3914746</td><td>0.4741842</td></tr>\n",
       "\t<tr><th scope=row>64</th><td>2016-10-12 16:13:00</td><td> 2 min 51.853 sec</td><td>63</td><td>0.5445496</td><td>0.8109448</td><td>0.7131969</td><td>2.778935</td><td>0.377975</td><td>0.3914112</td><td>0.4740396</td></tr>\n",
       "\t<tr><th scope=row>65</th><td>2016-10-12 16:13:04</td><td> 2 min 56.171 sec</td><td>64</td><td>0.5443715</td><td>0.8106027</td><td>0.7133714</td><td>2.7728</td><td>0.3782823</td><td>0.3913717</td><td>0.4739532</td></tr>\n",
       "\t<tr><th scope=row>66</th><td>2016-10-12 16:13:09</td><td> 3 min  0.412 sec</td><td>65</td><td>0.5442256</td><td>0.8102725</td><td>0.7135814</td><td>2.778935</td><td>0.3788599</td><td>0.3913262</td><td>0.4738364</td></tr>\n",
       "\t<tr><th scope=row>67</th><td>2016-10-12 16:13:13</td><td> 3 min  5.069 sec</td><td>66</td><td>0.5440677</td><td>0.8099325</td><td>0.7138261</td><td>2.782002</td><td>0.3772377</td><td>0.3912796</td><td>0.4737315</td></tr>\n",
       "\t<tr><th scope=row>68</th><td>2016-10-12 16:13:18</td><td> 3 min  9.904 sec</td><td>67</td><td>0.5439313</td><td>0.809643</td><td>0.7140437</td><td>2.778935</td><td>0.3759022</td><td>0.3912469</td><td>0.4736598</td></tr>\n",
       "\t<tr><th scope=row>69</th><td>2016-10-12 16:13:23</td><td> 3 min 14.552 sec</td><td>68</td><td>0.5437829</td><td>0.8093466</td><td>0.7142553</td><td>2.791204</td><td>0.3777006</td><td>0.3912071</td><td>0.4735777</td></tr>\n",
       "\t<tr><th scope=row>70</th><td>2016-10-12 16:13:28</td><td> 3 min 19.655 sec</td><td>69</td><td>0.5436313</td><td>0.8090383</td><td>0.7144571</td><td>2.782002</td><td>0.3755213</td><td>0.3911662</td><td>0.4734868</td></tr>\n",
       "\t<tr><th scope=row>71</th><td>2016-10-12 16:13:33</td><td> 3 min 24.738 sec</td><td>70</td><td>0.5434888</td><td>0.8087267</td><td>0.7147196</td><td>2.775867</td><td>0.3769837</td><td>0.3911274</td><td>0.473395</td></tr>\n",
       "\t<tr><th scope=row>72</th><td>2016-10-12 16:13:38</td><td> 3 min 29.898 sec</td><td>71</td><td>0.5433558</td><td>0.8084456</td><td>0.7149087</td><td>2.794271</td><td>0.3742186</td><td>0.3910976</td><td>0.473325</td></tr>\n",
       "\t<tr><th scope=row>73</th><td>2016-10-12 16:13:43</td><td> 3 min 34.849 sec</td><td>72</td><td>0.5431981</td><td>0.80814</td><td>0.7150969</td><td>2.794271</td><td>0.373895</td><td>0.3910485</td><td>0.4732169</td></tr>\n",
       "\t<tr><th scope=row>74</th><td>2016-10-12 16:13:48</td><td> 3 min 39.803 sec</td><td>73</td><td>0.5430443</td><td>0.807817</td><td>0.7153302</td><td>2.775867</td><td>0.3722728</td><td>0.3910138</td><td>0.4731371</td></tr>\n",
       "\t<tr><th scope=row>75</th><td>2016-10-12 16:13:53</td><td> 3 min 45.017 sec</td><td>74</td><td>0.5429039</td><td>0.8075202</td><td>0.7154965</td><td>2.778935</td><td>0.3722728</td><td>0.3909789</td><td>0.4730502</td></tr>\n",
       "\t<tr><th scope=row>76</th><td>2016-10-12 16:13:58</td><td> 3 min 50.164 sec</td><td>75</td><td>0.5427761</td><td>0.8072422</td><td>0.715694</td><td>2.788136</td><td>0.3719246</td><td>0.3909472</td><td>0.4729763</td></tr>\n",
       "\t<tr><th scope=row>77</th><td>2016-10-12 16:14:04</td><td> 3 min 55.672 sec</td><td>76</td><td>0.5426415</td><td>0.8069461</td><td>0.7159561</td><td>2.794271</td><td>0.3714412</td><td>0.3908952</td><td>0.472859</td></tr>\n",
       "\t<tr><th scope=row>78</th><td>2016-10-12 16:14:09</td><td> 4 min  0.710 sec</td><td>77</td><td>0.5425143</td><td>0.8066601</td><td>0.7161961</td><td>2.791204</td><td>0.3712487</td><td>0.3908648</td><td>0.4727875</td></tr>\n",
       "\t<tr><th scope=row>79</th><td>2016-10-12 16:14:14</td><td> 4 min  5.692 sec</td><td>78</td><td>0.5423801</td><td>0.8063798</td><td>0.716431</td><td>2.785069</td><td>0.3701508</td><td>0.3908275</td><td>0.4727058</td></tr>\n",
       "\t<tr><th scope=row>80</th><td>2016-10-12 16:14:19</td><td> 4 min 10.995 sec</td><td>79</td><td>0.5422546</td><td>0.806128</td><td>0.7166445</td><td>2.791204</td><td>0.3696101</td><td>0.3907917</td><td>0.4726305</td></tr>\n",
       "\t<tr><th scope=row>81</th><td>2016-10-12 16:14:24</td><td> 4 min 16.232 sec</td><td>80</td><td>0.5421391</td><td>0.8058766</td><td>0.7168331</td><td>2.80654</td><td>0.369266</td><td>0.3907678</td><td>0.4725745</td></tr>\n",
       "\t<tr><th scope=row>82</th><td>2016-10-12 16:14:30</td><td> 4 min 21.697 sec</td><td>81</td><td>0.5420397</td><td>0.8056426</td><td>0.7169387</td><td>2.812674</td><td>0.3674799</td><td>0.3907412</td><td>0.4725063</td></tr>\n",
       "\t<tr><th scope=row>83</th><td>2016-10-12 16:14:35</td><td> 4 min 27.235 sec</td><td>82</td><td>0.5418958</td><td>0.8053769</td><td>0.7170765</td><td>2.803473</td><td>0.3680207</td><td>0.390713</td><td>0.4724424</td></tr>\n",
       "\t<tr><th scope=row>84</th><td>2016-10-12 16:14:41</td><td> 4 min 32.709 sec</td><td>83</td><td>0.541792</td><td>0.8051403</td><td>0.7172677</td><td>2.797338</td><td>0.3670908</td><td>0.3906908</td><td>0.4723928</td></tr>\n",
       "\t<tr><th scope=row>85</th><td>2016-10-12 16:14:46</td><td> 4 min 38.181 sec</td><td>84</td><td>0.5416904</td><td>0.804905</td><td>0.717485</td><td>2.809607</td><td>0.3701017</td><td>0.3906583</td><td>0.4723145</td></tr>\n",
       "\t<tr><th scope=row>86</th><td>2016-10-12 16:14:52</td><td> 4 min 43.793 sec</td><td>85</td><td>0.5415585</td><td>0.8046591</td><td>0.7176481</td><td>2.812674</td><td>0.3685</td><td>0.3906366</td><td>0.4722692</td></tr>\n",
       "\t<tr><th scope=row>87</th><td>2016-10-12 16:14:58</td><td> 4 min 49.912 sec</td><td>86</td><td>0.5414503</td><td>0.8044154</td><td>0.7178348</td><td>2.812674</td><td>0.3683197</td><td>0.3906115</td><td>0.47221</td></tr>\n",
       "\t<tr><th scope=row>88</th><td>2016-10-12 16:15:04</td><td> 4 min 55.935 sec</td><td>87</td><td>0.5413664</td><td>0.8042166</td><td>0.7179268</td><td>2.831078</td><td>0.3680616</td><td>0.3905893</td><td>0.4721492</td></tr>\n",
       "\t<tr><th scope=row>89</th><td>2016-10-12 16:15:10</td><td> 5 min  2.155 sec</td><td>88</td><td>0.5412472</td><td>0.803961</td><td>0.718143</td><td>2.831078</td><td>0.3668122</td><td>0.3905635</td><td>0.4720885</td></tr>\n",
       "\t<tr><th scope=row>90</th><td>2016-10-12 16:15:16</td><td> 5 min  7.820 sec</td><td>89</td><td>0.5411212</td><td>0.8037299</td><td>0.7182717</td><td>2.834145</td><td>0.3694462</td><td>0.3905375</td><td>0.4720311</td></tr>\n",
       "\t<tr><th scope=row>91</th><td>2016-10-12 16:15:22</td><td> 5 min 13.670 sec</td><td>90</td><td>0.5410293</td><td>0.8035373</td><td>0.7184409</td><td>2.824944</td><td>0.3676602</td><td>0.3905199</td><td>0.4719937</td></tr>\n",
       "\t<tr><th scope=row>92</th><td>2016-10-12 16:15:28</td><td> 5 min 19.459 sec</td><td>91</td><td>0.5409287</td><td>0.8033016</td><td>0.7186663</td><td>2.824944</td><td>0.3674554</td><td>0.3905004</td><td>0.4719466</td></tr>\n",
       "\t<tr><th scope=row>93</th><td>2016-10-12 16:15:34</td><td> 5 min 25.436 sec</td><td>92</td><td>0.5408201</td><td>0.8030903</td><td>0.7188004</td><td>2.837213</td><td>0.3680207</td><td>0.3904816</td><td>0.471906</td></tr>\n",
       "\t<tr><th scope=row>94</th><td>2016-10-12 16:15:40</td><td> 5 min 31.452 sec</td><td>93</td><td>0.5407264</td><td>0.802897</td><td>0.7189236</td><td>2.821876</td><td>0.3701181</td><td>0.3904659</td><td>0.4718683</td></tr>\n",
       "\t<tr><th scope=row>95</th><td>2016-10-12 16:15:46</td><td> 5 min 37.443 sec</td><td>94</td><td>0.5406464</td><td>0.8027212</td><td>0.7190864</td><td>2.821876</td><td>0.3694667</td><td>0.3904485</td><td>0.47183</td></tr>\n",
       "\t<tr><th scope=row>96</th><td>2016-10-12 16:15:52</td><td> 5 min 44.018 sec</td><td>95</td><td>0.5405548</td><td>0.8025107</td><td>0.7193012</td><td>2.809607</td><td>0.3663002</td><td>0.3904374</td><td>0.4718035</td></tr>\n",
       "\t<tr><th scope=row>97</th><td>2016-10-12 16:15:59</td><td> 5 min 51.047 sec</td><td>96</td><td>0.5404697</td><td>0.8023218</td><td>0.719458</td><td>2.812674</td><td>0.3659438</td><td>0.3904284</td><td>0.4717832</td></tr>\n",
       "\t<tr><th scope=row>98</th><td>2016-10-12 16:16:06</td><td> 5 min 58.029 sec</td><td>97</td><td>0.5403812</td><td>0.8021208</td><td>0.7196114</td><td>2.812674</td><td>0.369565</td><td>0.390404</td><td>0.4717178</td></tr>\n",
       "\t<tr><th scope=row>99</th><td>2016-10-12 16:16:12</td><td> 6 min  4.243 sec</td><td>98</td><td>0.5402869</td><td>0.8019378</td><td>0.719732</td><td>2.831078</td><td>0.3689055</td><td>0.3903877</td><td>0.4716807</td></tr>\n",
       "\t<tr><th scope=row>100</th><td>2016-10-12 16:16:18</td><td> 6 min 10.366 sec</td><td>99</td><td>0.5402321</td><td>0.8017805</td><td>0.7198378</td><td>2.824944</td><td>0.3659643</td><td>0.3903799</td><td>0.471653</td></tr>\n",
       "\t<tr><th scope=row>101</th><td>2016-10-12 16:16:24</td><td> 6 min 16.324 sec</td><td>100</td><td>0.5401492</td><td>0.8015672</td><td>0.720084</td><td>2.812674</td><td>0.3656652</td><td>0.3903652</td><td>0.4716165</td></tr>\n",
       "</tbody>\n",
       "</table>\n"
      ],
      "text/latex": [
       "\\begin{tabular}{r|llllllllll}\n",
       "  & timestamp & duration & number_of_trees & training_rmse & training_logloss & training_auc & training_lift & training_classification_error & validation_rmse & validation_logloss\\\\\n",
       "\\hline\n",
       "\t1 & 2016-10-12 16:10:08 &  0.047 sec & 0 & 0.5776967 & 0.896977 & 0.5 & 1 & 0.4997501 & 0.4084777 & 0.5161345\\\\\n",
       "\t2 & 2016-10-12 16:10:11 &  3.012 sec & 1 & 0.5762253 & 0.8919377 & 0.679402 & 2.03438 & 0.3950163 & 0.4071775 & 0.5129331\\\\\n",
       "\t3 & 2016-10-12 16:10:12 &  4.257 sec & 2 & 0.5748819 & 0.8874451 & 0.6812386 & 2.048898 & 0.3919275 & 0.4060544 & 0.5101452\\\\\n",
       "\t4 & 2016-10-12 16:10:13 &  5.005 sec & 3 & 0.5735567 & 0.8831172 & 0.6856159 & 2.118074 & 0.3910796 & 0.4050097 & 0.507543\\\\\n",
       "\t5 & 2016-10-12 16:10:14 &  5.795 sec & 4 & 0.5723548 & 0.8792863 & 0.6852291 & 2.116002 & 0.3959503 & 0.4041149 & 0.5052947\\\\\n",
       "\t6 & 2016-10-12 16:10:15 &  6.689 sec & 5 & 0.5711429 & 0.8755102 & 0.6875508 & 2.270332 & 0.3933736 & 0.4032232 & 0.5030643\\\\\n",
       "\t7 & 2016-10-12 16:10:16 &  7.557 sec & 6 & 0.5700527 & 0.8721733 & 0.6882994 & 2.266115 & 0.4011568 & 0.402484 & 0.5011831\\\\\n",
       "\t8 & 2016-10-12 16:10:16 &  8.396 sec & 7 & 0.5689891 & 0.868993 & 0.6890233 & 2.269339 & 0.3957372 & 0.4017963 & 0.4994367\\\\\n",
       "\t9 & 2016-10-12 16:10:17 &  9.393 sec & 8 & 0.567964 & 0.865995 & 0.6898778 & 2.270647 & 0.3937914 & 0.4011481 & 0.4977954\\\\\n",
       "\t10 & 2016-10-12 16:10:19 & 10.868 sec & 9 & 0.5670319 & 0.8633094 & 0.6899298 & 2.257939 & 0.3956512 & 0.4005966 & 0.4963688\\\\\n",
       "\t11 & 2016-10-12 16:10:20 & 12.104 sec & 10 & 0.5660827 & 0.8606441 & 0.6908579 & 2.282012 & 0.3905716 & 0.4000356 & 0.4949478\\\\\n",
       "\t12 & 2016-10-12 16:10:22 & 13.453 sec & 11 & 0.5652436 & 0.8583433 & 0.6907475 & 2.282438 & 0.385787 & 0.399581 & 0.4937795\\\\\n",
       "\t13 & 2016-10-12 16:10:23 & 14.897 sec & 12 & 0.5644254 & 0.8561137 & 0.6909235 & 2.283292 & 0.3835421 & 0.3991565 & 0.4926714\\\\\n",
       "\t14 & 2016-10-12 16:10:25 & 16.456 sec & 13 & 0.5635283 & 0.8537371 & 0.6922856 & 2.4391 & 0.3856108 & 0.3986728 & 0.4914693\\\\\n",
       "\t15 & 2016-10-12 16:10:26 & 18.134 sec & 14 & 0.5627478 & 0.8516853 & 0.6932301 & 2.437778 & 0.3848653 & 0.3982807 & 0.490472\\\\\n",
       "\t16 & 2016-10-12 16:10:28 & 19.828 sec & 15 & 0.5619454 & 0.8496165 & 0.6945175 & 2.451442 & 0.3906535 & 0.3978837 & 0.4894868\\\\\n",
       "\t17 & 2016-10-12 16:10:30 & 21.693 sec & 16 & 0.5611773 & 0.8476612 & 0.69581 & 2.449657 & 0.3882694 & 0.397509 & 0.4885636\\\\\n",
       "\t18 & 2016-10-12 16:10:32 & 23.517 sec & 17 & 0.5604837 & 0.8459385 & 0.6960118 & 2.446114 & 0.3884701 & 0.3972175 & 0.4878131\\\\\n",
       "\t19 & 2016-10-12 16:10:34 & 25.424 sec & 18 & 0.5598262 & 0.8443256 & 0.6960587 & 2.446056 & 0.3895721 & 0.3969493 & 0.4871149\\\\\n",
       "\t20 & 2016-10-12 16:10:35 & 27.354 sec & 19 & 0.5591283 & 0.8426591 & 0.696696 & 2.465188 & 0.3864465 & 0.3966436 & 0.4863682\\\\\n",
       "\t21 & 2016-10-12 16:10:37 & 29.308 sec & 20 & 0.5584833 & 0.8411294 & 0.6971614 & 2.471255 & 0.3899203 & 0.3963749 & 0.4857022\\\\\n",
       "\t22 & 2016-10-12 16:10:39 & 31.210 sec & 21 & 0.5579403 & 0.8398565 & 0.6971794 & 2.474076 & 0.3897523 & 0.3961653 & 0.4851757\\\\\n",
       "\t23 & 2016-10-12 16:10:41 & 33.262 sec & 22 & 0.5573307 & 0.8384365 & 0.6979069 & 2.479504 & 0.3879417 & 0.3959128 & 0.4845545\\\\\n",
       "\t24 & 2016-10-12 16:10:44 & 36.078 sec & 23 & 0.556739 & 0.837082 & 0.6983511 & 2.481955 & 0.388081 & 0.3956701 & 0.4839645\\\\\n",
       "\t25 & 2016-10-12 16:10:46 & 38.170 sec & 24 & 0.5562 & 0.8358886 & 0.6986956 & 2.482819 & 0.3841648 & 0.3954742 & 0.4834851\\\\\n",
       "\t26 & 2016-10-12 16:10:48 & 40.392 sec & 25 & 0.5557183 & 0.8347973 & 0.6990342 & 2.482819 & 0.3836937 & 0.3952944 & 0.4830302\\\\\n",
       "\t27 & 2016-10-12 16:10:51 & 42.555 sec & 26 & 0.5551995 & 0.8336247 & 0.6996527 & 2.481128 & 0.3825426 & 0.3950927 & 0.4825499\\\\\n",
       "\t28 & 2016-10-12 16:10:53 & 44.753 sec & 27 & 0.5546785 & 0.8324885 & 0.7000418 & 2.492135 & 0.3821493 & 0.394913 & 0.4821201\\\\\n",
       "\t29 & 2016-10-12 16:10:55 & 46.979 sec & 28 & 0.5542015 & 0.8314413 & 0.7004308 & 2.506906 & 0.3823664 & 0.3947325 & 0.4816874\\\\\n",
       "\t30 & 2016-10-12 16:10:57 & 49.241 sec & 29 & 0.5537362 & 0.8304451 & 0.7010095 & 2.539152 & 0.3836691 & 0.3945472 & 0.4812632\\\\\n",
       "\t31 & 2016-10-12 16:11:00 & 51.788 sec & 30 & 0.5533698 & 0.8296233 & 0.7013017 & 2.541748 & 0.3819609 & 0.3944294 & 0.4809553\\\\\n",
       "\t32 & 2016-10-12 16:11:03 & 54.675 sec & 31 & 0.5529208 & 0.8286877 & 0.7017804 & 2.615 & 0.3830915 & 0.394262 & 0.4805797\\\\\n",
       "\t33 & 2016-10-12 16:11:06 & 57.612 sec & 32 & 0.5524861 & 0.8277697 & 0.7020858 & 2.610656 & 0.3822067 & 0.394114 & 0.4802349\\\\\n",
       "\t34 & 2016-10-12 16:11:09 &  1 min  0.588 sec & 33 & 0.5521053 & 0.8269215 & 0.7025614 & 2.640882 & 0.3808917 & 0.3939923 & 0.4799367\\\\\n",
       "\t35 & 2016-10-12 16:11:12 &  1 min  3.565 sec & 34 & 0.5517119 & 0.8261045 & 0.7030852 & 2.648118 & 0.3811989 & 0.3938468 & 0.4796081\\\\\n",
       "\t36 & 2016-10-12 16:11:15 &  1 min  6.547 sec & 35 & 0.5513508 & 0.8253202 & 0.7034155 & 2.642368 & 0.3808426 & 0.3937329 & 0.4793258\\\\\n",
       "\t37 & 2016-10-12 16:11:18 &  1 min  9.575 sec & 36 & 0.5509621 & 0.8245298 & 0.7038153 & 2.673085 & 0.3810392 & 0.3936026 & 0.4790316\\\\\n",
       "\t38 & 2016-10-12 16:11:21 &  1 min 12.594 sec & 37 & 0.5505971 & 0.8237674 & 0.7042768 & 2.696119 & 0.3806459 & 0.3934672 & 0.478723\\\\\n",
       "\t39 & 2016-10-12 16:11:24 &  1 min 15.644 sec & 38 & 0.5502634 & 0.8230608 & 0.7046666 & 2.66147 & 0.3807115 & 0.3933514 & 0.4784499\\\\\n",
       "\t40 & 2016-10-12 16:11:27 &  1 min 18.781 sec & 39 & 0.5499404 & 0.8223635 & 0.7052653 & 2.678067 & 0.3788312 & 0.3932199 & 0.4781541\\\\\n",
       "\t41 & 2016-10-12 16:11:30 &  1 min 22.094 sec & 40 & 0.5496479 & 0.8217692 & 0.7055321 & 2.680634 & 0.3815512 & 0.3931433 & 0.4779714\\\\\n",
       "\t42 & 2016-10-12 16:11:33 &  1 min 25.208 sec & 41 & 0.5493397 & 0.8211172 & 0.706067 & 2.67905 & 0.381072 & 0.3930248 & 0.4777099\\\\\n",
       "\t43 & 2016-10-12 16:11:37 &  1 min 28.486 sec & 42 & 0.5490458 & 0.8204777 & 0.7064208 & 2.689984 & 0.3815226 & 0.3929247 & 0.4774749\\\\\n",
       "\t44 & 2016-10-12 16:11:40 &  1 min 31.953 sec & 43 & 0.5487647 & 0.819872 & 0.7069118 & 2.676826 & 0.3825139 & 0.3928027 & 0.4772025\\\\\n",
       "\t45 & 2016-10-12 16:11:43 &  1 min 35.352 sec & 44 & 0.5484907 & 0.8192672 & 0.7073943 & 2.68518 & 0.3835749 & 0.3927009 & 0.4769631\\\\\n",
       "\t46 & 2016-10-12 16:11:47 &  1 min 38.764 sec & 45 & 0.5482002 & 0.8187037 & 0.7076121 & 2.701825 & 0.3830587 & 0.3926085 & 0.4767693\\\\\n",
       "\t47 & 2016-10-12 16:11:50 &  1 min 42.249 sec & 46 & 0.5479564 & 0.8181806 & 0.7080035 & 2.717142 & 0.3835626 & 0.3925156 & 0.4765545\\\\\n",
       "\t48 & 2016-10-12 16:11:54 &  1 min 45.736 sec & 47 & 0.5477096 & 0.8176504 & 0.7084739 & 2.720657 & 0.3838371 & 0.3924172 & 0.4763378\\\\\n",
       "\t49 & 2016-10-12 16:11:57 &  1 min 49.394 sec & 48 & 0.5474716 & 0.8171364 & 0.7088856 & 2.735993 & 0.3825016 & 0.3923364 & 0.4761516\\\\\n",
       "\t50 & 2016-10-12 16:12:01 &  1 min 53.235 sec & 49 & 0.5472387 & 0.8166406 & 0.7092156 & 2.749551 & 0.3791343 & 0.3922558 & 0.4759699\\\\\n",
       "\t51 & 2016-10-12 16:12:05 &  1 min 56.963 sec & 50 & 0.5470095 & 0.8161385 & 0.7094749 & 2.757464 & 0.3762463 & 0.3921821 & 0.4757913\\\\\n",
       "\t52 & 2016-10-12 16:12:09 &  2 min  0.558 sec & 51 & 0.5468071 & 0.8157053 & 0.7098367 & 2.761812 & 0.3764635 & 0.392113 & 0.4756392\\\\\n",
       "\t53 & 2016-10-12 16:12:13 &  2 min  4.431 sec & 52 & 0.5465772 & 0.8152499 & 0.7100918 & 2.745195 & 0.3746282 & 0.39204 & 0.4754833\\\\\n",
       "\t54 & 2016-10-12 16:12:17 &  2 min  8.432 sec & 53 & 0.5463885 & 0.8148395 & 0.7104256 & 2.761812 & 0.3750707 & 0.391983 & 0.475348\\\\\n",
       "\t55 & 2016-10-12 16:12:21 &  2 min 12.557 sec & 54 & 0.546179 & 0.814384 & 0.7106237 & 2.763091 & 0.3743743 & 0.3919265 & 0.4752103\\\\\n",
       "\t56 & 2016-10-12 16:12:25 &  2 min 16.703 sec & 55 & 0.5459814 & 0.8139627 & 0.7109439 & 2.760531 & 0.3763733 & 0.391862 & 0.4750627\\\\\n",
       "\t57 & 2016-10-12 16:12:29 &  2 min 20.685 sec & 56 & 0.5457636 & 0.8135186 & 0.7112596 & 2.748262 & 0.3759022 & 0.3917971 & 0.4749192\\\\\n",
       "\t58 & 2016-10-12 16:12:33 &  2 min 24.799 sec & 57 & 0.5455926 & 0.8131444 & 0.7115144 & 2.755681 & 0.3766109 & 0.3917473 & 0.4748014\\\\\n",
       "\t59 & 2016-10-12 16:12:37 &  2 min 29.005 sec & 58 & 0.5454074 & 0.8127883 & 0.711687 & 2.764877 & 0.3780365 & 0.3916957 & 0.4746916\\\\\n",
       "\t60 & 2016-10-12 16:12:42 &  2 min 33.422 sec & 59 & 0.5452479 & 0.812415 & 0.7120507 & 2.775867 & 0.3779955 & 0.3916414 & 0.4745626\\\\\n",
       "\t61 & 2016-10-12 16:12:46 &  2 min 37.847 sec & 60 & 0.5450377 & 0.8120056 & 0.7122782 & 2.769733 & 0.3778399 & 0.3915861 & 0.4744369\\\\\n",
       "\t62 & 2016-10-12 16:12:51 &  2 min 42.705 sec & 61 & 0.5448513 & 0.8116229 & 0.712556 & 2.763598 & 0.378102 & 0.3915234 & 0.4742976\\\\\n",
       "\t63 & 2016-10-12 16:12:56 &  2 min 47.534 sec & 62 & 0.5447181 & 0.8113149 & 0.7128673 & 2.7728 & 0.3782044 & 0.3914746 & 0.4741842\\\\\n",
       "\t64 & 2016-10-12 16:13:00 &  2 min 51.853 sec & 63 & 0.5445496 & 0.8109448 & 0.7131969 & 2.778935 & 0.377975 & 0.3914112 & 0.4740396\\\\\n",
       "\t65 & 2016-10-12 16:13:04 &  2 min 56.171 sec & 64 & 0.5443715 & 0.8106027 & 0.7133714 & 2.7728 & 0.3782823 & 0.3913717 & 0.4739532\\\\\n",
       "\t66 & 2016-10-12 16:13:09 &  3 min  0.412 sec & 65 & 0.5442256 & 0.8102725 & 0.7135814 & 2.778935 & 0.3788599 & 0.3913262 & 0.4738364\\\\\n",
       "\t67 & 2016-10-12 16:13:13 &  3 min  5.069 sec & 66 & 0.5440677 & 0.8099325 & 0.7138261 & 2.782002 & 0.3772377 & 0.3912796 & 0.4737315\\\\\n",
       "\t68 & 2016-10-12 16:13:18 &  3 min  9.904 sec & 67 & 0.5439313 & 0.809643 & 0.7140437 & 2.778935 & 0.3759022 & 0.3912469 & 0.4736598\\\\\n",
       "\t69 & 2016-10-12 16:13:23 &  3 min 14.552 sec & 68 & 0.5437829 & 0.8093466 & 0.7142553 & 2.791204 & 0.3777006 & 0.3912071 & 0.4735777\\\\\n",
       "\t70 & 2016-10-12 16:13:28 &  3 min 19.655 sec & 69 & 0.5436313 & 0.8090383 & 0.7144571 & 2.782002 & 0.3755213 & 0.3911662 & 0.4734868\\\\\n",
       "\t71 & 2016-10-12 16:13:33 &  3 min 24.738 sec & 70 & 0.5434888 & 0.8087267 & 0.7147196 & 2.775867 & 0.3769837 & 0.3911274 & 0.473395\\\\\n",
       "\t72 & 2016-10-12 16:13:38 &  3 min 29.898 sec & 71 & 0.5433558 & 0.8084456 & 0.7149087 & 2.794271 & 0.3742186 & 0.3910976 & 0.473325\\\\\n",
       "\t73 & 2016-10-12 16:13:43 &  3 min 34.849 sec & 72 & 0.5431981 & 0.80814 & 0.7150969 & 2.794271 & 0.373895 & 0.3910485 & 0.4732169\\\\\n",
       "\t74 & 2016-10-12 16:13:48 &  3 min 39.803 sec & 73 & 0.5430443 & 0.807817 & 0.7153302 & 2.775867 & 0.3722728 & 0.3910138 & 0.4731371\\\\\n",
       "\t75 & 2016-10-12 16:13:53 &  3 min 45.017 sec & 74 & 0.5429039 & 0.8075202 & 0.7154965 & 2.778935 & 0.3722728 & 0.3909789 & 0.4730502\\\\\n",
       "\t76 & 2016-10-12 16:13:58 &  3 min 50.164 sec & 75 & 0.5427761 & 0.8072422 & 0.715694 & 2.788136 & 0.3719246 & 0.3909472 & 0.4729763\\\\\n",
       "\t77 & 2016-10-12 16:14:04 &  3 min 55.672 sec & 76 & 0.5426415 & 0.8069461 & 0.7159561 & 2.794271 & 0.3714412 & 0.3908952 & 0.472859\\\\\n",
       "\t78 & 2016-10-12 16:14:09 &  4 min  0.710 sec & 77 & 0.5425143 & 0.8066601 & 0.7161961 & 2.791204 & 0.3712487 & 0.3908648 & 0.4727875\\\\\n",
       "\t79 & 2016-10-12 16:14:14 &  4 min  5.692 sec & 78 & 0.5423801 & 0.8063798 & 0.716431 & 2.785069 & 0.3701508 & 0.3908275 & 0.4727058\\\\\n",
       "\t80 & 2016-10-12 16:14:19 &  4 min 10.995 sec & 79 & 0.5422546 & 0.806128 & 0.7166445 & 2.791204 & 0.3696101 & 0.3907917 & 0.4726305\\\\\n",
       "\t81 & 2016-10-12 16:14:24 &  4 min 16.232 sec & 80 & 0.5421391 & 0.8058766 & 0.7168331 & 2.80654 & 0.369266 & 0.3907678 & 0.4725745\\\\\n",
       "\t82 & 2016-10-12 16:14:30 &  4 min 21.697 sec & 81 & 0.5420397 & 0.8056426 & 0.7169387 & 2.812674 & 0.3674799 & 0.3907412 & 0.4725063\\\\\n",
       "\t83 & 2016-10-12 16:14:35 &  4 min 27.235 sec & 82 & 0.5418958 & 0.8053769 & 0.7170765 & 2.803473 & 0.3680207 & 0.390713 & 0.4724424\\\\\n",
       "\t84 & 2016-10-12 16:14:41 &  4 min 32.709 sec & 83 & 0.541792 & 0.8051403 & 0.7172677 & 2.797338 & 0.3670908 & 0.3906908 & 0.4723928\\\\\n",
       "\t85 & 2016-10-12 16:14:46 &  4 min 38.181 sec & 84 & 0.5416904 & 0.804905 & 0.717485 & 2.809607 & 0.3701017 & 0.3906583 & 0.4723145\\\\\n",
       "\t86 & 2016-10-12 16:14:52 &  4 min 43.793 sec & 85 & 0.5415585 & 0.8046591 & 0.7176481 & 2.812674 & 0.3685 & 0.3906366 & 0.4722692\\\\\n",
       "\t87 & 2016-10-12 16:14:58 &  4 min 49.912 sec & 86 & 0.5414503 & 0.8044154 & 0.7178348 & 2.812674 & 0.3683197 & 0.3906115 & 0.47221\\\\\n",
       "\t88 & 2016-10-12 16:15:04 &  4 min 55.935 sec & 87 & 0.5413664 & 0.8042166 & 0.7179268 & 2.831078 & 0.3680616 & 0.3905893 & 0.4721492\\\\\n",
       "\t89 & 2016-10-12 16:15:10 &  5 min  2.155 sec & 88 & 0.5412472 & 0.803961 & 0.718143 & 2.831078 & 0.3668122 & 0.3905635 & 0.4720885\\\\\n",
       "\t90 & 2016-10-12 16:15:16 &  5 min  7.820 sec & 89 & 0.5411212 & 0.8037299 & 0.7182717 & 2.834145 & 0.3694462 & 0.3905375 & 0.4720311\\\\\n",
       "\t91 & 2016-10-12 16:15:22 &  5 min 13.670 sec & 90 & 0.5410293 & 0.8035373 & 0.7184409 & 2.824944 & 0.3676602 & 0.3905199 & 0.4719937\\\\\n",
       "\t92 & 2016-10-12 16:15:28 &  5 min 19.459 sec & 91 & 0.5409287 & 0.8033016 & 0.7186663 & 2.824944 & 0.3674554 & 0.3905004 & 0.4719466\\\\\n",
       "\t93 & 2016-10-12 16:15:34 &  5 min 25.436 sec & 92 & 0.5408201 & 0.8030903 & 0.7188004 & 2.837213 & 0.3680207 & 0.3904816 & 0.471906\\\\\n",
       "\t94 & 2016-10-12 16:15:40 &  5 min 31.452 sec & 93 & 0.5407264 & 0.802897 & 0.7189236 & 2.821876 & 0.3701181 & 0.3904659 & 0.4718683\\\\\n",
       "\t95 & 2016-10-12 16:15:46 &  5 min 37.443 sec & 94 & 0.5406464 & 0.8027212 & 0.7190864 & 2.821876 & 0.3694667 & 0.3904485 & 0.47183\\\\\n",
       "\t96 & 2016-10-12 16:15:52 &  5 min 44.018 sec & 95 & 0.5405548 & 0.8025107 & 0.7193012 & 2.809607 & 0.3663002 & 0.3904374 & 0.4718035\\\\\n",
       "\t97 & 2016-10-12 16:15:59 &  5 min 51.047 sec & 96 & 0.5404697 & 0.8023218 & 0.719458 & 2.812674 & 0.3659438 & 0.3904284 & 0.4717832\\\\\n",
       "\t98 & 2016-10-12 16:16:06 &  5 min 58.029 sec & 97 & 0.5403812 & 0.8021208 & 0.7196114 & 2.812674 & 0.369565 & 0.390404 & 0.4717178\\\\\n",
       "\t99 & 2016-10-12 16:16:12 &  6 min  4.243 sec & 98 & 0.5402869 & 0.8019378 & 0.719732 & 2.831078 & 0.3689055 & 0.3903877 & 0.4716807\\\\\n",
       "\t100 & 2016-10-12 16:16:18 &  6 min 10.366 sec & 99 & 0.5402321 & 0.8017805 & 0.7198378 & 2.824944 & 0.3659643 & 0.3903799 & 0.471653\\\\\n",
       "\t101 & 2016-10-12 16:16:24 &  6 min 16.324 sec & 100 & 0.5401492 & 0.8015672 & 0.720084 & 2.812674 & 0.3656652 & 0.3903652 & 0.4716165\\\\\n",
       "\\end{tabular}\n"
      ],
      "text/plain": [
       "            timestamp   duration number_of_trees training_rmse training_logloss\n",
       "1 2016-10-12 16:10:08  0.047 sec               0     0.5776967        0.8969770\n",
       "2 2016-10-12 16:10:11  3.012 sec               1     0.5762253        0.8919377\n",
       "3 2016-10-12 16:10:12  4.257 sec               2     0.5748819        0.8874451\n",
       "4 2016-10-12 16:10:13  5.005 sec               3     0.5735567        0.8831172\n",
       "5 2016-10-12 16:10:14  5.795 sec               4     0.5723548        0.8792863\n",
       "  training_auc training_lift training_classification_error validation_rmse\n",
       "1    0.5000000      1.000000                     0.4997501       0.4084777\n",
       "2    0.6794020      2.034380                     0.3950163       0.4071775\n",
       "3    0.6812386      2.048898                     0.3919275       0.4060544\n",
       "4    0.6856159      2.118074                     0.3910796       0.4050097\n",
       "5    0.6852291      2.116002                     0.3959503       0.4041149\n",
       "  validation_logloss\n",
       "1          0.5161345\n",
       "2          0.5129331\n",
       "3          0.5101452\n",
       "4          0.5075430\n",
       "5          0.5052947\n",
       "\n",
       "---\n",
       "              timestamp          duration number_of_trees training_rmse\n",
       "96  2016-10-12 16:15:52  5 min 44.018 sec              95     0.5405548\n",
       "97  2016-10-12 16:15:59  5 min 51.047 sec              96     0.5404697\n",
       "98  2016-10-12 16:16:06  5 min 58.029 sec              97     0.5403812\n",
       "99  2016-10-12 16:16:12  6 min  4.243 sec              98     0.5402869\n",
       "100 2016-10-12 16:16:18  6 min 10.366 sec              99     0.5402321\n",
       "101 2016-10-12 16:16:24  6 min 16.324 sec             100     0.5401492\n",
       "    training_logloss training_auc training_lift training_classification_error\n",
       "96         0.8025107    0.7193012      2.809607                     0.3663002\n",
       "97         0.8023218    0.7194580      2.812674                     0.3659438\n",
       "98         0.8021208    0.7196114      2.812674                     0.3695650\n",
       "99         0.8019378    0.7197320      2.831078                     0.3689055\n",
       "100        0.8017805    0.7198378      2.824944                     0.3659643\n",
       "101        0.8015672    0.7200840      2.812674                     0.3656652\n",
       "    validation_rmse validation_logloss\n",
       "96        0.3904374          0.4718035\n",
       "97        0.3904284          0.4717832\n",
       "98        0.3904040          0.4717178\n",
       "99        0.3903877          0.4716807\n",
       "100       0.3903799          0.4716530\n",
       "101       0.3903652          0.4716165"
      ]
     },
     "execution_count": 51,
     "metadata": {},
     "output_type": "execute_result"
    }
   ],
   "source": [
    "gbm_model_loan@model$scoring_history[0:10]"
   ]
  },
  {
   "cell_type": "markdown",
   "metadata": {},
   "source": [
    "### To know more about models performace based on train data"
   ]
  },
  {
   "cell_type": "code",
   "execution_count": 40,
   "metadata": {
    "collapsed": false
   },
   "outputs": [
    {
     "data": {
      "text/plain": [
       "H2OBinomialMetrics: gbm\n",
       "** Reported on training data. **\n",
       "\n",
       "MSE:  0.2917612\n",
       "RMSE:  0.5401492\n",
       "LogLoss:  0.8015672\n",
       "Mean Per-Class Error:  0.3657873\n",
       "AUC:  0.720084\n",
       "Gini:  0.4401681\n",
       "\n",
       "Confusion Matrix for F1-optimal threshold:\n",
       "           0      1    Error           Rate\n",
       "0      47569  74427 0.610077  =74427/121996\n",
       "1      14837 107281 0.121497  =14837/122118\n",
       "Totals 62406 181708 0.365665  =89264/244114\n",
       "\n",
       "Maximum Metrics: Maximum metrics at their respective thresholds\n",
       "                        metric threshold    value idx\n",
       "1                       max f1  0.140975 0.706200 303\n",
       "2                       max f2  0.064603 0.838899 374\n",
       "3                 max f0point5  0.244600 0.660042 206\n",
       "4                 max accuracy  0.226403 0.659458 224\n",
       "5                max precision  0.530511 0.920879   8\n",
       "6                   max recall  0.027039 1.000000 398\n",
       "7              max specificity  0.583396 0.999967   0\n",
       "8             max absolute_mcc  0.173181 0.321687 273\n",
       "9   max min_per_class_accuracy  0.226403 0.658636 224\n",
       "10 max mean_per_class_accuracy  0.226403 0.659458 224\n",
       "\n",
       "Gains/Lift Table: Extract with `h2o.gainsLift(<model>, <data>)` or `h2o.gainsLift(<model>, valid=<T/F>, xval=<T/F>)`"
      ]
     },
     "execution_count": 40,
     "metadata": {},
     "output_type": "execute_result"
    }
   ],
   "source": [
    "gbm_model_loan@model$training_metrics"
   ]
  },
  {
   "cell_type": "markdown",
   "metadata": {},
   "source": [
    "### To know more about validation/test dataset based metrics"
   ]
  },
  {
   "cell_type": "code",
   "execution_count": 41,
   "metadata": {
    "collapsed": false
   },
   "outputs": [
    {
     "data": {
      "text/plain": [
       "H2OBinomialMetrics: glm\n",
       "** Reported on cross-validation data. **\n",
       "** 10-fold cross-validation on training data (Metrics computed for combined holdout predictions) **\n",
       "\n",
       "MSE:  0.1544756\n",
       "RMSE:  0.3930339\n",
       "LogLoss:  0.4787799\n",
       "Mean Per-Class Error:  0.35934\n",
       "AUC:  0.6919453\n",
       "Gini:  0.3838907\n",
       "R^2:  0.07172242\n",
       "Null Deviance:  159278.3\n",
       "Residual Deviance:  148036.8\n",
       "AIC:  148050.8\n",
       "\n",
       "Confusion Matrix for F1-optimal threshold:\n",
       "           0     1    Error           Rate\n",
       "0      74868 47128 0.386308  =47128/121996\n",
       "1      10836 21766 0.332372   =10836/32602\n",
       "Totals 85704 68894 0.374934  =57964/154598\n",
       "\n",
       "Maximum Metrics: Maximum metrics at their respective thresholds\n",
       "                        metric threshold    value idx\n",
       "1                       max f1  0.207451 0.428904 237\n",
       "2                       max f2  0.146634 0.601906 307\n",
       "3                 max f0point5  0.265301 0.377171 177\n",
       "4                 max accuracy  0.484969 0.789557  36\n",
       "5                max precision  0.628220 0.538462   1\n",
       "6                   max recall  0.040152 1.000000 396\n",
       "7              max specificity  0.639163 0.999984   0\n",
       "8             max absolute_mcc  0.207451 0.230890 237\n",
       "9   max min_per_class_accuracy  0.213494 0.638059 230\n",
       "10 max mean_per_class_accuracy  0.207451 0.640660 237\n",
       "\n",
       "Gains/Lift Table: Extract with `h2o.gainsLift(<model>, <data>)` or `h2o.gainsLift(<model>, valid=<T/F>, xval=<T/F>)`"
      ]
     },
     "execution_count": 41,
     "metadata": {},
     "output_type": "execute_result"
    }
   ],
   "source": [
    "glm_model_loan@model$cross_validation_metrics"
   ]
  },
  {
   "cell_type": "markdown",
   "metadata": {},
   "source": [
    "### To find out the confusion matrix"
   ]
  },
  {
   "cell_type": "code",
   "execution_count": 42,
   "metadata": {
    "collapsed": false
   },
   "outputs": [
    {
     "data": {
      "text/html": [
       "<table>\n",
       "<thead><tr><th></th><th scope=col>0</th><th scope=col>1</th><th scope=col>Error</th><th scope=col>Rate</th></tr></thead>\n",
       "<tbody>\n",
       "\t<tr><th scope=row>0</th><td>73512</td><td>48484</td><td>0.3974229</td><td> =48484/121996</td></tr>\n",
       "\t<tr><th scope=row>1</th><td>10460</td><td>22142</td><td>0.3208392</td><td> =10460/32602</td></tr>\n",
       "\t<tr><th scope=row>Totals</th><td>83972</td><td>70626</td><td>0.3812727</td><td> =58944/154598</td></tr>\n",
       "</tbody>\n",
       "</table>\n"
      ],
      "text/latex": [
       "\\begin{tabular}{r|llll}\n",
       "  & 0 & 1 & Error & Rate\\\\\n",
       "\\hline\n",
       "\t0 & 73512 & 48484 & 0.3974229 &  =48484/121996\\\\\n",
       "\t1 & 10460 & 22142 & 0.3208392 &  =10460/32602\\\\\n",
       "\tTotals & 83972 & 70626 & 0.3812727 &  =58944/154598\\\\\n",
       "\\end{tabular}\n"
      ],
      "text/plain": [
       "Confusion Matrix for max f1 @ threshold = 0.204789817063355:\n",
       "           0     1    Error           Rate\n",
       "0      73512 48484 0.397423  =48484/121996\n",
       "1      10460 22142 0.320839   =10460/32602\n",
       "Totals 83972 70626 0.381273  =58944/154598"
      ]
     },
     "execution_count": 42,
     "metadata": {},
     "output_type": "execute_result"
    }
   ],
   "source": [
    "h2o.confusionMatrix(glm_model_loan, loan.train)"
   ]
  },
  {
   "cell_type": "markdown",
   "metadata": {},
   "source": [
    "### The prediction of test values based on our GLM model"
   ]
  },
  {
   "cell_type": "code",
   "execution_count": 45,
   "metadata": {
    "collapsed": false
   },
   "outputs": [
    {
     "name": "stdout",
     "output_type": "stream",
     "text": [
      "\r",
      "  |                                                                            \r",
      "  |                                                                      |   0%\r",
      "  |                                                                            \r",
      "  |========                                                              |  12%\r",
      "  |                                                                            \r",
      "  |======================================================================| 100%\n"
     ]
    },
    {
     "data": {
      "text/plain": [
       "  predict        p0        p1\n",
       "1       1 0.7585592 0.2414408\n",
       "2       1 0.7415226 0.2584774\n",
       "3       0 0.8707052 0.1292948\n",
       "4       0 0.8411439 0.1588561\n",
       "5       1 0.7214502 0.2785498\n",
       "6       0 0.8364333 0.1635667\n",
       "\n",
       "[51680 rows x 3 columns] "
      ]
     },
     "execution_count": 45,
     "metadata": {},
     "output_type": "execute_result"
    }
   ],
   "source": [
    "h2o.predict(object = glm_model_loan,newdata = loan.test)"
   ]
  },
  {
   "cell_type": "markdown",
   "metadata": {},
   "source": [
    "## Model Selection and Insights"
   ]
  },
  {
   "cell_type": "markdown",
   "metadata": {},
   "source": [
    "![](1.png)"
   ]
  },
  {
   "cell_type": "markdown",
   "metadata": {},
   "source": [
    "![](2.png)"
   ]
  },
  {
   "cell_type": "markdown",
   "metadata": {},
   "source": [
    "![](3.png)"
   ]
  },
  {
   "cell_type": "markdown",
   "metadata": {},
   "source": [
    "![](4.png)"
   ]
  },
  {
   "cell_type": "markdown",
   "metadata": {},
   "source": [
    "![](5.png)"
   ]
  },
  {
   "cell_type": "markdown",
   "metadata": {},
   "source": [
    "![](6.png)"
   ]
  },
  {
   "cell_type": "markdown",
   "metadata": {},
   "source": [
    "![](7.png)"
   ]
  },
  {
   "cell_type": "markdown",
   "metadata": {},
   "source": [
    "![](8.png)"
   ]
  },
  {
   "cell_type": "markdown",
   "metadata": {},
   "source": [
    "## Assessing cost based on profits between GBM and GLM models"
   ]
  },
  {
   "cell_type": "markdown",
   "metadata": {},
   "source": [
    "### Calculating the net profits for train and test data"
   ]
  },
  {
   "cell_type": "code",
   "execution_count": 60,
   "metadata": {
    "collapsed": true
   },
   "outputs": [],
   "source": [
    "loan.train$Total_revenue = loan.train$total_pymnt - loan.train$loan_amnt\n",
    "\n",
    "loan.test$Total_revenue = loan.test$total_pymnt - loan.test$loan_amnt"
   ]
  },
  {
   "cell_type": "markdown",
   "metadata": {},
   "source": [
    "### Gradient Boosting Model cost impact on train data"
   ]
  },
  {
   "cell_type": "code",
   "execution_count": 61,
   "metadata": {
    "collapsed": false
   },
   "outputs": [
    {
     "name": "stdout",
     "output_type": "stream",
     "text": [
      "\r",
      "  |                                                                            \r",
      "  |                                                                      |   0%\r",
      "  |                                                                            \r",
      "  |=========================                                             |  35%\r",
      "  |                                                                            \r",
      "  |==========================================================            |  82%\r",
      "  |                                                                            \r",
      "  |======================================================================| 100%\n"
     ]
    },
    {
     "data": {
      "text/html": [
       "<table>\n",
       "<thead><tr><th></th><th scope=col>bad_loan</th><th scope=col>gbm_predictions</th><th scope=col>sum_Total_revenue</th></tr></thead>\n",
       "<tbody>\n",
       "\t<tr><th scope=row>1</th><td>0</td><td>0</td><td>60342149</td></tr>\n",
       "\t<tr><th scope=row>2</th><td>0</td><td>1</td><td>32219198</td></tr>\n",
       "\t<tr><th scope=row>3</th><td>1</td><td>0</td><td>-83347642</td></tr>\n",
       "\t<tr><th scope=row>4</th><td>1</td><td>1</td><td>-232042014</td></tr>\n",
       "</tbody>\n",
       "</table>\n"
      ],
      "text/latex": [
       "\\begin{tabular}{r|lll}\n",
       "  & bad_loan & gbm_predictions & sum_Total_revenue\\\\\n",
       "\\hline\n",
       "\t1 & 0 & 0 & 60342149\\\\\n",
       "\t2 & 0 & 1 & 32219198\\\\\n",
       "\t3 & 1 & 0 & -83347642\\\\\n",
       "\t4 & 1 & 1 & -232042014\\\\\n",
       "\\end{tabular}\n"
      ],
      "text/plain": [
       "  bad_loan gbm_predictions sum_Total_revenue\n",
       "1        0               0          60342149\n",
       "2        0               1          32219198\n",
       "3        1               0         -83347642\n",
       "4        1               1        -232042014"
      ]
     },
     "execution_count": 61,
     "metadata": {},
     "output_type": "execute_result"
    }
   ],
   "source": [
    "\n",
    "loan.train$gbm_predictions = h2o.predict(object = gbm_model_loan,newdata = loan.train)[,1]\n",
    "Revenue_gbm = h2o.group_by(data = loan.train, by = c(\"bad_loan\", \"gbm_predictions\"), sum(\"Total_revenue\"))\n",
    "Revenue_gbm.R = as.data.frame(Revenue_gbm)\n",
    "\n",
    "head(Revenue_gbm.R,10)"
   ]
  },
  {
   "cell_type": "code",
   "execution_count": 62,
   "metadata": {
    "collapsed": false
   },
   "outputs": [
    {
     "data": {
      "text/html": [
       "-83347642.37"
      ],
      "text/latex": [
       "-83347642.37"
      ],
      "text/markdown": [
       "-83347642.37"
      ],
      "text/plain": [
       "[1] -83347642"
      ]
     },
     "execution_count": 62,
     "metadata": {},
     "output_type": "execute_result"
    }
   ],
   "source": [
    "Revenue_gbm.R[Revenue_gbm.R$bad_loan == 1 & Revenue_gbm.R$gbm_predictions == 0, 3]"
   ]
  },
  {
   "cell_type": "markdown",
   "metadata": {},
   "source": [
    "### GLM Model cost impact on train data"
   ]
  },
  {
   "cell_type": "code",
   "execution_count": 63,
   "metadata": {
    "collapsed": false
   },
   "outputs": [
    {
     "name": "stdout",
     "output_type": "stream",
     "text": [
      "\r",
      "  |                                                                            \r",
      "  |                                                                      |   0%\r",
      "  |                                                                            \r",
      "  |====                                                                  |   6%\r",
      "  |                                                                            \r",
      "  |======================================================================| 100%\n"
     ]
    },
    {
     "data": {
      "text/html": [
       "<table>\n",
       "<thead><tr><th></th><th scope=col>bad_loan</th><th scope=col>glm_predictions</th><th scope=col>sum_Total_revenue</th></tr></thead>\n",
       "<tbody>\n",
       "\t<tr><th scope=row>1</th><td>0</td><td>0</td><td>58544767</td></tr>\n",
       "\t<tr><th scope=row>2</th><td>0</td><td>1</td><td>34016579</td></tr>\n",
       "\t<tr><th scope=row>3</th><td>1</td><td>0</td><td>-95486713</td></tr>\n",
       "\t<tr><th scope=row>4</th><td>1</td><td>1</td><td>-219902943</td></tr>\n",
       "</tbody>\n",
       "</table>\n"
      ],
      "text/latex": [
       "\\begin{tabular}{r|lll}\n",
       "  & bad_loan & glm_predictions & sum_Total_revenue\\\\\n",
       "\\hline\n",
       "\t1 & 0 & 0 & 58544767\\\\\n",
       "\t2 & 0 & 1 & 34016579\\\\\n",
       "\t3 & 1 & 0 & -95486713\\\\\n",
       "\t4 & 1 & 1 & -219902943\\\\\n",
       "\\end{tabular}\n"
      ],
      "text/plain": [
       "  bad_loan glm_predictions sum_Total_revenue\n",
       "1        0               0          58544767\n",
       "2        0               1          34016579\n",
       "3        1               0         -95486713\n",
       "4        1               1        -219902943"
      ]
     },
     "execution_count": 63,
     "metadata": {},
     "output_type": "execute_result"
    }
   ],
   "source": [
    "# General Linear Model\n",
    "loan.train$glm_predictions = h2o.predict(object = glm_model_loan,newdata = loan.train)[,1]\n",
    "Revenue_glm = h2o.group_by(data = loan.train, by = c(\"bad_loan\", \"glm_predictions\"), sum(\"Total_revenue\"))\n",
    "Revenue_glm.R = as.data.frame(Revenue_glm)\n",
    "\n",
    "head(Revenue_glm.R,10)"
   ]
  },
  {
   "cell_type": "code",
   "execution_count": 64,
   "metadata": {
    "collapsed": false
   },
   "outputs": [
    {
     "data": {
      "text/html": [
       "-95486713.42"
      ],
      "text/latex": [
       "-95486713.42"
      ],
      "text/markdown": [
       "-95486713.42"
      ],
      "text/plain": [
       "[1] -95486713"
      ]
     },
     "execution_count": 64,
     "metadata": {},
     "output_type": "execute_result"
    }
   ],
   "source": [
    "# Cost of false Negative : -96894628\n",
    "Revenue_glm.R[Revenue_glm.R$bad_loan == 1 & Revenue_glm.R$glm_predictions == 0, 3]"
   ]
  },
  {
   "cell_type": "markdown",
   "metadata": {},
   "source": [
    "### Gradient Boosting Model cost impact on test data"
   ]
  },
  {
   "cell_type": "code",
   "execution_count": 65,
   "metadata": {
    "collapsed": false
   },
   "outputs": [
    {
     "name": "stdout",
     "output_type": "stream",
     "text": [
      "\r",
      "  |                                                                            \r",
      "  |                                                                      |   0%\r",
      "  |                                                                            \r",
      "  |======================================================================| 100%\n"
     ]
    },
    {
     "data": {
      "text/html": [
       "<table>\n",
       "<thead><tr><th></th><th scope=col>bad_loan</th><th scope=col>gbm_predictions</th><th scope=col>sum_Total_revenue</th></tr></thead>\n",
       "<tbody>\n",
       "\t<tr><th scope=row>1</th><td>0</td><td>0</td><td>19966741</td></tr>\n",
       "\t<tr><th scope=row>2</th><td>0</td><td>1</td><td>10795736</td></tr>\n",
       "\t<tr><th scope=row>3</th><td>1</td><td>0</td><td>-30490416</td></tr>\n",
       "\t<tr><th scope=row>4</th><td>1</td><td>1</td><td>-76036763</td></tr>\n",
       "</tbody>\n",
       "</table>\n"
      ],
      "text/latex": [
       "\\begin{tabular}{r|lll}\n",
       "  & bad_loan & gbm_predictions & sum_Total_revenue\\\\\n",
       "\\hline\n",
       "\t1 & 0 & 0 & 19966741\\\\\n",
       "\t2 & 0 & 1 & 10795736\\\\\n",
       "\t3 & 1 & 0 & -30490416\\\\\n",
       "\t4 & 1 & 1 & -76036763\\\\\n",
       "\\end{tabular}\n"
      ],
      "text/plain": [
       "  bad_loan gbm_predictions sum_Total_revenue\n",
       "1        0               0          19966741\n",
       "2        0               1          10795736\n",
       "3        1               0         -30490416\n",
       "4        1               1         -76036763"
      ]
     },
     "execution_count": 65,
     "metadata": {},
     "output_type": "execute_result"
    }
   ],
   "source": [
    "loan.test$gbm_predictions = h2o.predict(object = gbm_model_loan,newdata = loan.test)[,1]\n",
    "Revenue_gbm = h2o.group_by(data = loan.test, by = c(\"bad_loan\", \"gbm_predictions\"), sum(\"Total_revenue\"))\n",
    "Revenue_gbm.R = as.data.frame(Revenue_gbm)\n",
    "\n",
    "head(Revenue_gbm.R,10)\n",
    "# Cost of false Negative : -26753378"
   ]
  },
  {
   "cell_type": "code",
   "execution_count": 66,
   "metadata": {
    "collapsed": false
   },
   "outputs": [
    {
     "data": {
      "text/html": [
       "-30490415.51"
      ],
      "text/latex": [
       "-30490415.51"
      ],
      "text/markdown": [
       "-30490415.51"
      ],
      "text/plain": [
       "[1] -30490416"
      ]
     },
     "execution_count": 66,
     "metadata": {},
     "output_type": "execute_result"
    }
   ],
   "source": [
    "Revenue_gbm.R[Revenue_gbm.R$bad_loan == 1 & Revenue_gbm.R$gbm_predictions == 0, 3]"
   ]
  },
  {
   "cell_type": "markdown",
   "metadata": {},
   "source": [
    "### GLM Model cost impact on test data"
   ]
  },
  {
   "cell_type": "code",
   "execution_count": 67,
   "metadata": {
    "collapsed": false
   },
   "outputs": [
    {
     "name": "stdout",
     "output_type": "stream",
     "text": [
      "\r",
      "  |                                                                            \r",
      "  |                                                                      |   0%\r",
      "  |                                                                            \r",
      "  |========                                                              |  12%\r",
      "  |                                                                            \r",
      "  |======================================================================| 100%\n"
     ]
    },
    {
     "data": {
      "text/html": [
       "<table>\n",
       "<thead><tr><th></th><th scope=col>bad_loan</th><th scope=col>glm_predictions</th><th scope=col>sum_Total_revenue</th></tr></thead>\n",
       "<tbody>\n",
       "\t<tr><th scope=row>1</th><td>0</td><td>0</td><td>19767504</td></tr>\n",
       "\t<tr><th scope=row>2</th><td>0</td><td>1</td><td>10994973</td></tr>\n",
       "\t<tr><th scope=row>3</th><td>1</td><td>0</td><td>-33079293</td></tr>\n",
       "\t<tr><th scope=row>4</th><td>1</td><td>1</td><td>-73447885</td></tr>\n",
       "</tbody>\n",
       "</table>\n"
      ],
      "text/latex": [
       "\\begin{tabular}{r|lll}\n",
       "  & bad_loan & glm_predictions & sum_Total_revenue\\\\\n",
       "\\hline\n",
       "\t1 & 0 & 0 & 19767504\\\\\n",
       "\t2 & 0 & 1 & 10994973\\\\\n",
       "\t3 & 1 & 0 & -33079293\\\\\n",
       "\t4 & 1 & 1 & -73447885\\\\\n",
       "\\end{tabular}\n"
      ],
      "text/plain": [
       "  bad_loan glm_predictions sum_Total_revenue\n",
       "1        0               0          19767504\n",
       "2        0               1          10994973\n",
       "3        1               0         -33079293\n",
       "4        1               1         -73447885"
      ]
     },
     "execution_count": 67,
     "metadata": {},
     "output_type": "execute_result"
    }
   ],
   "source": [
    "# General Linear Model\n",
    "loan.test$glm_predictions = h2o.predict(object = glm_model_loan,newdata = loan.test)[,1]\n",
    "Revenue_glm = h2o.group_by(data = loan.test, by = c(\"bad_loan\", \"glm_predictions\"), sum(\"Total_revenue\"))\n",
    "Revenue_glm.R = as.data.frame(Revenue_glm)\n",
    "\n",
    "head(Revenue_glm.R,10)"
   ]
  },
  {
   "cell_type": "code",
   "execution_count": 68,
   "metadata": {
    "collapsed": false
   },
   "outputs": [
    {
     "data": {
      "text/html": [
       "-33079293.19"
      ],
      "text/latex": [
       "-33079293.19"
      ],
      "text/markdown": [
       "-33079293.19"
      ],
      "text/plain": [
       "[1] -33079293"
      ]
     },
     "execution_count": 68,
     "metadata": {},
     "output_type": "execute_result"
    }
   ],
   "source": [
    "# Cost of false Negative : -31982462\n",
    "Revenue_glm.R[Revenue_glm.R$bad_loan == 1 & Revenue_glm.R$glm_predictions == 0, 3]\n"
   ]
  },
  {
   "cell_type": "markdown",
   "metadata": {},
   "source": [
    "### Our model should have as less number of false negatives as possible\n",
    "\n",
    "#### A bad loan if classified as a good loan can cause more loss and hence the cost of false negative should be as low as possible\n",
    "\n",
    "#### From the analysis it can be seen that the cost of false negative is less in Model 1 or the gbm model in both the training and the validation data.\n",
    "\n",
    "#### Hence it can be chosen as the superior model"
   ]
  },
  {
   "cell_type": "markdown",
   "metadata": {},
   "source": [
    "# Questions ?\n",
    "\n",
    "# Thank You"
   ]
  }
 ],
 "metadata": {
  "kernelspec": {
   "display_name": "R",
   "language": "R",
   "name": "ir"
  },
  "language_info": {
   "codemirror_mode": "r",
   "file_extension": ".r",
   "mimetype": "text/x-r-source",
   "name": "R",
   "pygments_lexer": "r",
   "version": "3.1.3"
  }
 },
 "nbformat": 4,
 "nbformat_minor": 0
}
